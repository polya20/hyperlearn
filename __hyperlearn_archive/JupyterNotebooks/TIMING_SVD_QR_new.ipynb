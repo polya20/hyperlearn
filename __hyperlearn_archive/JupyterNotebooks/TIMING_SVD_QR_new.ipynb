{
 "cells": [
  {
   "cell_type": "code",
   "execution_count": 1,
   "metadata": {},
   "outputs": [],
   "source": [
    "n = 10000\n",
    "p = 100"
   ]
  },
  {
   "cell_type": "code",
   "execution_count": null,
   "metadata": {},
   "outputs": [],
   "source": []
  },
  {
   "cell_type": "code",
   "execution_count": 2,
   "metadata": {},
   "outputs": [],
   "source": [
    "from numpy.linalg import qr as _QR_DECOMPOSITION, pinv as _PINV, multi_dot as _MULTI_DOT, lstsq as _LSTSQ, svd as _SVD\n",
    "from numpy import multiply as _MULTIPLY, divide as _DIVIDE, sqrt as _SQRT, log as _LOG, subtract as _SUBTRACT, square as _SQUARE\n",
    "from numpy import finfo as _INFO, einsum as _EINSUM\n",
    "from scipy.linalg.lapack import clapack\n",
    "_TRI_INVERSE = clapack.strtri\n",
    "from scipy.linalg import pinvh as _SYMMETRIC_PINV, svd as _STABLE_SVD, qr as _STABLE_QR, pinv2 as _STABLE_PINV,\\\n",
    "                        lstsq as _STABLE_LSTSQ\n",
    "from sklearn.base import BaseEstimator, RegressorMixin\n",
    "from numba import jit\n",
    "\n",
    "def _fast_QR_solve(X, y):\n",
    "    ''' Tried many types:\n",
    "    1. np.linalg.inv\n",
    "        Good, but slow.\n",
    "    2. np.linalg.pinv\n",
    "        Also good. Handles singular matrices (like all 0s). No need since preprocessing removes all zero columns.\n",
    "    3. lapack.clapack.strtri (TRI_INVERSE)\n",
    "        Very good, as strtri inverts a triangular matrix. Also faster than numpy.\n",
    "    4. lapack.clapack.dtrtri\n",
    "        Same as strtri, just doubles. strtri is faster.\n",
    "    5. scipy.solve_triangular\n",
    "        Good, however, I experienced unstable issues unfortunately.'''\n",
    "    #Q, R = _QR_DECOMPOSITION(X)   Numpy's actually slower than scipy for large matrices!\n",
    "    Q, R = _STABLE_QR(X, check_finite = False, mode = 'economic')\n",
    "    check = 1\n",
    "\n",
    "    if R.shape[0] == R.shape[1]:\n",
    "        _R, check = _TRI_INVERSE(R)\n",
    "    if check > 0:\n",
    "        rcond = _INFO(X.dtype).eps * max(X.shape)\n",
    "        #_R = _PINV(R, rcond = rcond)     # FALL BACK if fails (normally if p >> n) or singular matrix error still\n",
    "        _R = _STABLE_PINV(R, check_finite = False)\n",
    "\n",
    "    '''Multi Dot is much much faster as it orders the matrices properly before actual matmul\n",
    "        In fact, (_R*Q.T)*y has cost O(npy+np^2y) whilst\n",
    "                 _R*(Q.T*y) has cost O(npy+p^2y), a factor of n lower!'''\n",
    "    theta_hat = _R.dot(Q.T.dot(y))   # Same as theta_hat = _MULTI_DOT([_R, Q.T, y])\n",
    "    _R = None\n",
    "    return Q, R, theta_hat\n",
    "\n",
    "def _fast_lstsq(X, y):\n",
    "    '''If p/n >= 0.2, then reverts to QR Decomposition with Fast LAPACK Triangular Inverse\n",
    "        Else, use Numpy\"s LSTSQ (Fast SVD version)'''\n",
    "    n,p = X.shape\n",
    "    if p / n >= 0.2:\n",
    "        theta_hat, __, __, __ = _LSTSQ(X, y, check_finite = False)\n",
    "    else:\n",
    "        theta_hat, __, __ = _fast_QR_solve(X, y)\n",
    "\n",
    "def _transpose_lstsq(X, y):\n",
    "    U, S, VT = _transpose_svd(X)\n",
    "    if U is None:\n",
    "        return None\n",
    "    else:\n",
    "        theta_hat = _MULTI_DOT([_MULTIPLY(V, _DIVIDE(1, S).reshape(1,-1)),\n",
    "                               U.T, y])\n",
    "    return theta_hat\n",
    "\n",
    "def _fast_svd(X):\n",
    "    #Q, R = _QR_DECOMPOSITION(X)   Numpy is slower\n",
    "    Q, R = _STABLE_QR(X, check_finite = False, mode = 'economic')\n",
    "    U2, S, VT, i = _transpose_svd(R)\n",
    "    if i == 0: \n",
    "        #U2, S, VT = _SVD(R, full_matrices = False)  Numpy is unstable\n",
    "        U2, S, VT = _STABLE_SVD(R, full_matrices = False, check_finite = False)\n",
    "    R = None\n",
    "    gc.collect();\n",
    "    U = Q.dot(U2)\n",
    "    return U, S, VT\n",
    "\n",
    "def _memory_lstsq(X, y):\n",
    "    '''Computes least squares with lower memory requirements if memory error seen'''\n",
    "    theta_hat, __, __, __ = _STABLE_LSTSQ(X, y, check_finite = False, lapack_driver = 'gelss')\n",
    "    return theta_hat\n",
    "\n",
    "def _transpose_svd(X):\n",
    "    if X.shape[0] < X.shape[1]:\n",
    "        #V, S, UT = _SVD(X.T, full_matrices = False)  Numpy is unstable\n",
    "        V, S, UT = _STABLE_SVD(X.T, full_matrices = False, check_finite = False)\n",
    "        U = UT.T\n",
    "        VT = V.T\n",
    "        return U, S, VT, 1\n",
    "    else:\n",
    "        return None, None, None, 0\n",
    "\n",
    "def _qr_stats(Q, R):\n",
    "    XTX = R.T.dot(R)\n",
    "    rcond = _INFO(X.dtype).eps * max(X.shape)\n",
    "\n",
    "    #_XTX = _PINV(XTX)  Numpy is slower\n",
    "    _XTX = _STABLE_PINV(XTX, check_finite = False)\n",
    "    h = _EINSUM('ij,ij->i', Q, Q)\n",
    "    return _XTX, h\n",
    "\n",
    "def _svd_stats(U, S, VT):\n",
    "    _S2 = _DIVIDE(1, _SQUARE(S))\n",
    "    VS = _MULTIPLY(VT.T, _S2.reshape(1,-1))   # Faster than VT.T.dot(np.diag(S)) [14us vs 109us]\n",
    "\n",
    "    _XTX = VS.dot(VT)\n",
    "    \n",
    "    h = _EINSUM('ij,ij->i', U, U)   # Faster than U.dot(U.T).diagonal() [43us vs 7.5ms]\n",
    "    return _XTX, h\n",
    "\n",
    "def _pinv_stats(X):\n",
    "    #pinv = _PINV(X)  Numpy is slower\n",
    "    pinv = _STABLE_PINV(X, check_finite = False)\n",
    "    h = _EINSUM('ij,ji->i', X, pinv)\n",
    "    \n",
    "    XTX = X.T.dot(X)\n",
    "    #_XTX = _PINV(XTX)  Numpy is slower\n",
    "    _XTX = _STABLE_PINV(XTX, check_finite = False)\n",
    "    return _XTX, h\n",
    "\n",
    "def _svd_solve(X, y):\n",
    "    U, S, VT = _STABLE_SVD(X, full_matrices = False, check_finite = False)\n",
    "    VT *= _DIVIDE(1, S).reshape(-1,1)\n",
    "    theta_hat = VT.T.dot(U.T.dot(y))\n",
    "    return theta_hat\n",
    "    \n",
    "    \n",
    "%load_ext memory_profiler\n",
    "import numpy as np, gc, pandas as pd\n",
    "import matplotlib.pyplot as plt\n",
    "%matplotlib inline\n",
    "X = np.random.random((n,p))\n",
    "X[:,1] = 0\n",
    "X[:,2] *= 2\n",
    "X[:,10] *= -2\n",
    "X[:,5] *= 3.5\n",
    "X[1,1] = 1\n",
    "X[:,3] = 1\n",
    "X[:int(n/2),5] *= -1\n",
    "X[:int(n/2),10] *= -1\n",
    "X = X.astype(np.float32, copy = False)\n",
    "theta = np.random.random((p,1))\n",
    "theta = theta.astype(np.float32, copy = False)\n",
    "y = (X@theta).flatten()\n",
    "y = y.astype(np.float32, copy = False)\n",
    "y = y.astype(np.int)\n",
    "\n",
    "results = [n,p]"
   ]
  },
  {
   "cell_type": "code",
   "execution_count": 3,
   "metadata": {},
   "outputs": [
    {
     "data": {
      "text/plain": [
       "array([[6.1460071e-13],\n",
       "       [5.4955732e-12],\n",
       "       [2.5457310e-11],\n",
       "       ...,\n",
       "       [3.7332314e-11],\n",
       "       [2.1772152e-13],\n",
       "       [1.3263663e-13]], dtype=float32)"
      ]
     },
     "execution_count": 3,
     "metadata": {},
     "output_type": "execute_result"
    }
   ],
   "source": [
    "eX = np.exp(-X.dot(theta))\n",
    "eX2 = np.square(1+eX)\n",
    "np.divide(eX, eX2)"
   ]
  },
  {
   "cell_type": "code",
   "execution_count": 11,
   "metadata": {},
   "outputs": [
    {
     "data": {
      "text/plain": [
       "array([[0.],\n",
       "       [0.],\n",
       "       [0.],\n",
       "       ...,\n",
       "       [0.],\n",
       "       [0.],\n",
       "       [0.]], dtype=float32)"
      ]
     },
     "execution_count": 11,
     "metadata": {},
     "output_type": "execute_result"
    }
   ],
   "source": [
    "f = np.divide(np.exp(X.dot(theta)), 1+np.exp(X.dot(theta)))\n",
    "np.multiply(f, 1-f)"
   ]
  },
  {
   "cell_type": "code",
   "execution_count": 68,
   "metadata": {},
   "outputs": [],
   "source": [
    "from sklearn.linear_model import LinearRegression\n",
    "model = LinearRegression(fit_intercept = False, normalize = False, n_jobs = -1)"
   ]
  },
  {
   "cell_type": "code",
   "execution_count": null,
   "metadata": {},
   "outputs": [],
   "source": [
    "@njit( [ Tuple((matrix32, float32[:], matrix32))  (matrix32) ,\n",
    "         Tuple((float64[:,:], float64[:], float64[:,:]))  (float64[:,:]) ] , fastmath = True, nogil = True)\n",
    "def svdT(X):\n",
    "    V, S, UT = np_svd(X.T, full_matrices = False)\n",
    "    U = UT.T\n",
    "    VT = V.T\n",
    "    return U, S, VT\n",
    "\n",
    "def svd_flip(U, S, VT):\n",
    "    max_in_cols = np_abs(U).argmax(0)\n",
    "    signs = np_sign(U[max_in_cols, np_arange(U.shape[1])])\n",
    "    U *= signs\n",
    "    VT *= signs.reshape(-1,1)\n",
    "    \n",
    "def svd(X):\n",
    "    if X.shape[1] > X.shape[0]:\n",
    "        U, S, VT = svd_flip(X)\n",
    "    else:\n",
    "        U, S, VT = base_svd(X)\n",
    "    svd_flip(U, S, VT)\n",
    "    return U, S, VT"
   ]
  },
  {
   "cell_type": "code",
   "execution_count": 4,
   "metadata": {},
   "outputs": [],
   "source": [
    "import numba"
   ]
  },
  {
   "cell_type": "code",
   "execution_count": 7,
   "metadata": {},
   "outputs": [
    {
     "data": {
      "text/plain": [
       "(array(float32, 2d, C), array(float32, 1d, C), array(float32, 2d, C))"
      ]
     },
     "execution_count": 7,
     "metadata": {},
     "output_type": "execute_result"
    }
   ],
   "source": [
    "numba.typeof(np_svd(X))"
   ]
  },
  {
   "cell_type": "code",
   "execution_count": 21,
   "metadata": {},
   "outputs": [
    {
     "data": {
      "text/plain": [
       "array(float32, 2d, C)"
      ]
     },
     "execution_count": 21,
     "metadata": {},
     "output_type": "execute_result"
    }
   ],
   "source": [
    "float32[:,::1]"
   ]
  },
  {
   "cell_type": "code",
   "execution_count": 5,
   "metadata": {
    "scrolled": false
   },
   "outputs": [
    {
     "name": "stdout",
     "output_type": "stream",
     "text": [
      "Wall time: 634 ms\n"
     ]
    }
   ],
   "source": [
    "%%time\n",
    "from numpy.linalg import svd as np_svd, lstsq as np_lstsq, qr as np_qr, pinv as np_pinv                \n",
    "from numpy import finfo as np_finfo, divide as np_divide, dot as np_dot, multiply as np_multiply, \\\n",
    "                    einsum, square as np_square, newaxis as np_newaxis, log as np_log, sqrt as np_sqrt, \\\n",
    "                    arange as np_arange, array as np_array, argmax as np_argmax, sign as np_sign, \\\n",
    "                    abs as np_abs\n",
    "from numba.types import Tuple, float32, float64, int32, int64, Array, UniTuple\n",
    "from numba import njit, jit\n",
    "from scipy.stats import t as tdist\n",
    "\n",
    "matrix32 = float32[:,:]\n",
    "matrix64 = float64[:,:]\n",
    "array32 = float32[:]\n",
    "array64 = float64[:]\n",
    "int32A = int32[:]\n",
    "int64A = int64[:]\n",
    "\n",
    "def column(a): return a[:,np_newaxis]\n",
    "def row(a): return a[np_newaxism,:]"
   ]
  },
  {
   "cell_type": "code",
   "execution_count": 6,
   "metadata": {},
   "outputs": [],
   "source": [
    "@njit( [ Tuple((matrix32, array32, matrix32))  (matrix32) ,\n",
    "         Tuple((matrix64, array64, matrix64))  (matrix64) ] , fastmath = True, nogil = True)\n",
    "def _svd(X):\n",
    "    return np_svd(X, full_matrices = False)\n",
    "\n",
    "\n",
    "@njit( [ UniTuple(matrix32, 2)  (matrix32) ,\n",
    "         UniTuple(matrix64, 2)  (matrix64) ] , fastmath = True, nogil = True)\n",
    "def qr(X):\n",
    "    return np_qr(X)\n",
    "\n",
    "\n",
    "@njit( [ Tuple((array32, array32, int32, array32))  (matrix32, array32) ,\n",
    "         Tuple((array64, array64, int64, array64))  (matrix64, array64) ,\n",
    "         Tuple((array32, array32, int32, array32))  (matrix32, int32A) ,\n",
    "         Tuple((array64, array64, int64, array64))  (matrix64, int64A) ] , fastmath = True, nogil = True)\n",
    "def lstsq(X, y):\n",
    "    return np_lstsq(X, y.astype(X.dtype))\n",
    "\n",
    "\n",
    "@njit( [ matrix32(matrix32) , matrix64(matrix64) ] , fastmath = True, nogil = True)\n",
    "def pinv(X):\n",
    "    U, S, VT = np_svd(X, full_matrices = False)\n",
    "    cond =  S < np_finfo(X.dtype).eps*S[0] \n",
    "    S = np_divide(1.0, S)\n",
    "    S[cond] = 0.0\n",
    "    VT *= S.reshape(-1,1)\n",
    "    return np_dot(VT.T, U.T)\n",
    "\n",
    "def svd_flip(U, S, VT):\n",
    "    max_U = np_argmax(np_abs(U), axis = 0)\n",
    "    signs = np_sign(U[max_U, range(U.shape[1])])\n",
    "    U *= signs\n",
    "    VT *= signs[:, np_newaxis]\n",
    "    \n",
    "def svd(X):\n",
    "    U, S, VT = _svd(X)\n",
    "    svd_flip(U, S, VT)\n",
    "    return U, S, VT\n",
    "\n",
    "\n",
    "# @njit( [ matrix32  (matrix32, matrix32) , matrix64  (matrix64, matrix64) ,\n",
    "#          array32  (matrix32, array32) , array64  (matrix64, array64) ] , fastmath = True, nogil = True)\n",
    "# def dot(a, b):\n",
    "#     return np_dot(a, b)\n",
    "\n",
    "\n",
    "# @njit( [ matrix32  (matrix32, matrix32) , \n",
    "#          matrix64  (matrix64, matrix64) ] , fastmath = True, nogil = True)\n",
    "# def multiply(a, b):\n",
    "#     return np_multiply(a, b)\n",
    "\n",
    "# @njit( [matrix32(matrix32) , matrix64(matrix64) , \n",
    "#         array32(array32), array64(array64) ] , fastmath = True, nogil = True)\n",
    "# def square(A):\n",
    "#     return np_square(A)"
   ]
  },
  {
   "cell_type": "code",
   "execution_count": 44,
   "metadata": {
    "scrolled": true
   },
   "outputs": [],
   "source": [
    "# @njit( [ void (matrix32, float32[:], matrix32) ,\n",
    "#          void (float64[:,:], float32[:], matrix32) ] , fastmath = True, nogil = True)\n",
    "# def svd_flip(U, S, VT):\n",
    "#     max_in_cols = np_abs(U).argmax(1)\n",
    "#     signs = U[max_in_cols, np_arange(U.shape[1])]\n",
    "#     U *= signs\n",
    "#     VT *= signs.reshape(-1,1)"
   ]
  },
  {
   "cell_type": "code",
   "execution_count": 7,
   "metadata": {},
   "outputs": [],
   "source": [
    "U, S, VT = svd(X)"
   ]
  },
  {
   "cell_type": "code",
   "execution_count": 8,
   "metadata": {},
   "outputs": [],
   "source": [
    "def qr_solve(X, y):\n",
    "    '''\n",
    "    theta =  R^-1 * QT * y\n",
    "    '''\n",
    "    Q, R = qr(X)\n",
    "    check = 0\n",
    "    if R.shape[0] == R.shape[1]:\n",
    "        _R, check = clapack.strtri(R)\n",
    "    if check > 0:\n",
    "        _R = pinv(R)\n",
    "    \n",
    "    theta_hat = _R.dot( Q.T.dot( y.ravel().astype(X.dtype) ) )\n",
    "    return Q, R, theta_hat\n",
    "\n",
    "\n",
    "def svd_solve(X, y):\n",
    "    '''\n",
    "    theta =  V * S^-1 * UT * y\n",
    "    '''\n",
    "    U, S, VT = svd(X)\n",
    "    cond = S < np_finfo(X.dtype).eps*S[0]\n",
    "    _S = np_divide(1.0, S)\n",
    "    _S[cond] = 0.0\n",
    "    \n",
    "    theta_hat = np_multiply( VT.T, _S ).dot( U.T.dot( y.astype(X.dtype) ) )\n",
    "    return theta_hat\n",
    "\n",
    "\n",
    "def ridge_solve(X, y, alpha = 1):\n",
    "    '''\n",
    "                    S\n",
    "    theta =   V --------- UT y \n",
    "                 S^2 + aI\n",
    "    '''\n",
    "    U, S, VT = svd(X)\n",
    "    cond = S < np_finfo(X.dtype).eps*S[0]\n",
    "    _S = np_divide(S, np_square(S)+alpha )\n",
    "    _S[cond] = 0.0\n",
    "    \n",
    "    theta_hat = np_multiply( VT.T, _S ).dot( U.T.dot( y.astype(X.dtype) ) )\n",
    "    return theta_hat\n",
    "\n",
    "\n",
    "def qr_stats(Q, R):\n",
    "    '''\n",
    "    XTX^-1  =  RT * R\n",
    "    \n",
    "    h = diag  Q * QT\n",
    "    '''\n",
    "    XTX = R.T.dot(R)\n",
    "    _XTX = pinv(XTX)\n",
    "    h = einsum('ij,ij->i', Q, Q)\n",
    "    return _XTX, h\n",
    "\n",
    "\n",
    "def svd_stats(U, S, VT):\n",
    "    '''\n",
    "                  1\n",
    "    XTX^-1 =  V ----- VT \n",
    "                 S^2\n",
    "    \n",
    "    h = diag U * UT\n",
    "    '''\n",
    "    _S2 = np_divide(1.0, np_square(S))\n",
    "    VS = np_multiply( VT.T, _S2 )\n",
    "    _XTX = VS.dot(VT)\n",
    "    h = einsum('ij,ij->i', U, U)\n",
    "    return _XTX, h\n",
    "\n",
    "\n",
    "def ridge_stats(U, S, VT, alpha = 1):\n",
    "    '''\n",
    "                               S^2\n",
    "    exp_theta_hat =  diag V --------- VT\n",
    "                            S^2 + aI\n",
    "                            \n",
    "                                 S^2\n",
    "    var_theta_hat =  diag V ------------- VT\n",
    "                            (S^2 + aI)^2\n",
    "    \n",
    "                    1\n",
    "    XTX^-1 =  V --------- VT\n",
    "                S^2 + aI\n",
    "    '''\n",
    "    V = VT.T\n",
    "    S2 = np_square(S)\n",
    "    S2_alpha = S2 + alpha\n",
    "    \n",
    "    VS = np_multiply(   V,   np_divide( S2,  S2_alpha )  )\n",
    "    exp_theta_hat = einsum('ij,ji->i', VS, VT)     # Same as VS.dot(VT)\n",
    "    \n",
    "    V_S2 = np_divide(  VS,  S2_alpha )  # np_divide(S2,  np_square( S2 + alpha ) )\n",
    "    var_theta_hat = einsum('ij,ij->i',  V_S2  , V)   # Sams as np_multiply(   V,   V_S2 ).sum(1)\n",
    "    \n",
    "    _XTX = np_multiply(  V,  np_divide( 1.0,  S2_alpha )  ).dot( VT )   # V  1/S^2 + a  VT\n",
    "    \n",
    "    return exp_theta_hat, var_theta_hat, _XTX"
   ]
  },
  {
   "cell_type": "code",
   "execution_count": 9,
   "metadata": {},
   "outputs": [],
   "source": [
    "def ridgeAIC(X, y, alphas = np_arange(1,100,2)):\n",
    "    results = _ridge_alpha(X, y, alphas, method = 'AIC')\n",
    "    best = results.argmin()\n",
    "    return alphas[best]\n",
    "\n",
    "\n",
    "def ridgeCV(X, y, alphas = np_arange(1,100,2)):\n",
    "    results = _ridge_alpha(X, y, alphas, method = 'CV')\n",
    "    best = results.argmin()\n",
    "    return alphas[best]\n",
    "\n",
    "\n",
    "def _ridge_alpha(X, y, alphas, method = 'CV'):\n",
    "    U, S, VT = svd(X)\n",
    "    n,p = X.shape\n",
    "    n_p = n-p\n",
    "    cond = S < np_finfo(X.dtype).eps*S[0]\n",
    "    S[cond] = 0\n",
    "    ys = y.astype(X.dtype)\n",
    "    S_square = np_square(S)\n",
    "    V = VT.T\n",
    "    UTy = U.T.dot( ys )\n",
    "    \n",
    "    _2pi = np_sqrt(2*np.pi)\n",
    "    results = []\n",
    "    \n",
    "    for alpha in alphas:\n",
    "        _S = np_divide(S, ( S_square + alpha ) )\n",
    "        S_S = np_multiply(  S, _S )\n",
    "        \n",
    "        theta_hat = np_multiply( V, _S ).dot( UTy )\n",
    "        e_hat = y - X.dot(theta_hat)\n",
    "\n",
    "        e_hat_square_sum = np_square(e_hat).sum()\n",
    "        sigma_hat2 = e_hat_square_sum / n_p\n",
    "\n",
    "        if method == 'CV':\n",
    "            U_S = np_multiply(  U,  S_S  )\n",
    "            h = einsum('ij,ij->i', U_S, U)\n",
    "            \n",
    "            press_alpha = np_multiply(   np_divide( 1.0, (1-h) ) ,  e_hat)\n",
    "            LOOCV_alpha = 1.0/n * np_square(press_alpha).sum()\n",
    "            results.append(LOOCV_alpha)\n",
    "            \n",
    "        elif method == 'AIC':\n",
    "            _2p = 2 * S_S.sum()\n",
    "            _2logL = 2*n*np_log(  _2pi  * np_sqrt(sigma_hat2) ) + 1/sigma_hat2*e_hat_square_sum\n",
    "            AIC = _2p + _2logL\n",
    "            results.append(AIC)   \n",
    "            \n",
    "    return np_array(results)\n",
    "\n",
    "\n",
    "def get_tvalue(df, interval = 0.95, method = 'normal'):\n",
    "    '''\n",
    "    1) Normal alpha\n",
    "                               a\n",
    "         T value =   T ( 1 - -----   ,  n-p )\n",
    "                               2\n",
    "    2) Sidak Correction\n",
    "                                       (1/p)\n",
    "                             1 - (1-a)^ \n",
    "         T value =   T ( 1 - ---------       ,  n-p )\n",
    "                                2\n",
    "    3) Bonferroni Correction\n",
    "                               a\n",
    "         T value =   T ( 1 - -----   ,  n-p )\n",
    "                              2p\n",
    "    '''\n",
    "    alpha = 1-interval\n",
    "    if method == 'sidak':\n",
    "        alpha = 1-(1-alpha)**(1/p)\n",
    "    elif method == 'bonferroni':\n",
    "        alpha = 1-(1-alpha/p)\n",
    "    tvalue = tdist.ppf( (1-alpha/2), df)\n",
    "    return tvalue\n",
    "\n",
    "\n",
    "def get_pvalues(coefficients, std_error, df):\n",
    "    '''\n",
    "    2 Sided Partial T Test\n",
    "    \n",
    "    pvalue = P( T(n-p) >= t statistic )\n",
    "           = 2 * ( 1 - P ( T(n-p) < t statistic) )\n",
    "    \n",
    "                    theta_hat - 0 * exp_theta_hat      theta_hat\n",
    "    t statistic =  -------------------------------  = ------------\n",
    "                             std_error                 std_error\n",
    "    '''\n",
    "    z_scores = np_divide(coefficients, std_error)\n",
    "    pvalues = 2*(1-tdist.cdf( np_abs(z_scores), df))   # 2 sided\n",
    "    return pvalues\n",
    "\n",
    "\n",
    "def get_confint(coefficients, expected_value, std_error, df, interval = 0.95, method = 'normal'):\n",
    "    '''\n",
    "    CI (theta_hat) =  (  theta_hat * exp_value_theta_hat  -  std_error * tvalue ,\n",
    "                         theta_hat * exp_value_theta_hat  +  std_error * tvalue  )\n",
    "    '''\n",
    "    tvalue = get_tvalue(df, interval, method)\n",
    "    \n",
    "    exp_coef = np_multiply( expected_value  ,  coefficients )\n",
    "    std_t = np_multiply( std_error  ,  tvalue )\n",
    "    \n",
    "    return exp_coef-std_t, exp_coef+std_t\n",
    "\n",
    "\n",
    "def holm_bonferroni(pvalues, df, interval = 0.95):\n",
    "    '''\n",
    "    Sort smallest to largest giving ranks (1,...,p)\n",
    "    \n",
    "                     a              0.05\n",
    "    Rank Alpha =  -------    (eg:  -------   )\n",
    "                   ranks             20\n",
    "    \n",
    "    Holm Bonferroni Procedure says P-values must be smaller than Rank Alpha to reject null hypothesis\n",
    "    '''\n",
    "    alpha = 1-interval\n",
    "    ranks = (-pvalues).argsort() + 1\n",
    "    holm_bonferroi = alpha / ranks\n",
    "    reject_null = pvalues < holm_bonferroi\n",
    "    return reject_null"
   ]
  },
  {
   "cell_type": "code",
   "execution_count": 246,
   "metadata": {},
   "outputs": [
    {
     "data": {
      "text/plain": [
       "<matplotlib.collections.PathCollection at 0x2e0a7f27ba8>"
      ]
     },
     "execution_count": 246,
     "metadata": {},
     "output_type": "execute_result"
    },
    {
     "data": {
      "image/png": "[encoded data removed]",
      "text/plain": [
       "<matplotlib.figure.Figure at 0x2e0a79d1b00>"
      ]
     },
     "metadata": {},
     "output_type": "display_data"
    }
   ],
   "source": [
    "X = np.random.random((10000,1))\n",
    "X = np.hstack((X, X**2.3))\n",
    "y = X[:,0]*-10 + X[:,1]*10 - 2*X[:,1]**2 + 1.3*X[:,1]**3\n",
    "plt.scatter(X[:,0], y)"
   ]
  },
  {
   "cell_type": "code",
   "execution_count": 248,
   "metadata": {},
   "outputs": [
    {
     "data": {
      "text/plain": [
       "<matplotlib.collections.PathCollection at 0x2e0a7a381d0>"
      ]
     },
     "execution_count": 248,
     "metadata": {},
     "output_type": "execute_result"
    },
    {
     "data": {
      "image/png": "[encoded data removed]",
      "text/plain": [
       "<matplotlib.figure.Figure at 0x2e0a7a38160>"
      ]
     },
     "metadata": {},
     "output_type": "display_data"
    }
   ],
   "source": [
    "plt.scatter(y, e_hat)\n",
    "plt.scatter(y, e_GLS)"
   ]
  },
  {
   "cell_type": "code",
   "execution_count": 290,
   "metadata": {},
   "outputs": [],
   "source": [
    "from sklearn.svm import SVR"
   ]
  },
  {
   "cell_type": "code",
   "execution_count": 379,
   "metadata": {},
   "outputs": [],
   "source": [
    "theta_hat = svd_solve(X, y)\n",
    "e_hat = y - X.dot(theta_hat)\n",
    "\n",
    "log_e_hat2 = np.log( np.square(e_hat) )\n",
    "\n",
    "# model = SVR(kernel = 'poly', C = 0.0001)\n",
    "# model.fit(X, log_e_hat2)\n",
    "# h_hat = np.exp(  model.predict(X)  )\n",
    "\n",
    "# # theta_g_hat = ridge_solve(X, log_e_hat2)\n",
    "# # h_hat = np.exp(  X.dot(theta_g_hat)  )\n",
    "\n",
    "# W = (1/h_hat)\n",
    "# XTW = np_multiply(X.T, W)\n",
    "# theta_GLS2 = pinv(XTW.dot(X)).dot(XTW).dot(y)\n",
    "# e_GLS = y - X.dot(theta_GLS2)\n",
    "# (e_GLS**2).sum().round(7), (e_hat**2).sum().round(7)"
   ]
  },
  {
   "cell_type": "code",
   "execution_count": 392,
   "metadata": {},
   "outputs": [
    {
     "data": {
      "text/plain": [
       "DecisionTreeRegressor(criterion='mse', max_depth=None, max_features=None,\n",
       "           max_leaf_nodes=None, min_impurity_decrease=0.0,\n",
       "           min_impurity_split=None, min_samples_leaf=1,\n",
       "           min_samples_split=2, min_weight_fraction_leaf=0.0,\n",
       "           presort=False, random_state=None, splitter='best')"
      ]
     },
     "execution_count": 392,
     "metadata": {},
     "output_type": "execute_result"
    }
   ],
   "source": [
    "from sklearn.tree import DecisionTreeRegressor\n",
    "model = DecisionTreeRegressor()\n",
    "model.fit(X, np.square(e_hat))"
   ]
  },
  {
   "cell_type": "code",
   "execution_count": null,
   "metadata": {},
   "outputs": [],
   "source": []
  },
  {
   "cell_type": "code",
   "execution_count": 393,
   "metadata": {},
   "outputs": [
    {
     "data": {
      "text/plain": [
       "(3.5601542, 3.4674791)"
      ]
     },
     "execution_count": 393,
     "metadata": {},
     "output_type": "execute_result"
    }
   ],
   "source": [
    "h_hat = model.predict(X)\n",
    "\n",
    "W = (1/h_hat)\n",
    "XTW = np_multiply(X.T, W)\n",
    "theta_GLS2 = pinv(XTW.dot(X)).dot(XTW).dot(y)\n",
    "e_GLS = y - X.dot(theta_GLS2)\n",
    "(e_GLS**2).sum().round(7), (e_hat**2).sum().round(7)"
   ]
  },
  {
   "cell_type": "code",
   "execution_count": 391,
   "metadata": {},
   "outputs": [
    {
     "data": {
      "text/plain": [
       "<matplotlib.collections.PathCollection at 0x2e0b98e5b00>"
      ]
     },
     "execution_count": 391,
     "metadata": {},
     "output_type": "execute_result"
    },
    {
     "data": {
      "image/png": "[encoded data removed]",
      "text/plain": [
       "<matplotlib.figure.Figure at 0x2e0b98a1470>"
      ]
     },
     "metadata": {},
     "output_type": "display_data"
    }
   ],
   "source": [
    "plt.scatter(model.predict(X), std_log_e_hat)"
   ]
  },
  {
   "cell_type": "code",
   "execution_count": 286,
   "metadata": {},
   "outputs": [
    {
     "data": {
      "text/plain": [
       "(-0.05943565810098133, 2000)"
      ]
     },
     "execution_count": 286,
     "metadata": {},
     "output_type": "execute_result"
    }
   ],
   "source": [
    "x = X[:,1]\n",
    "N = 5\n",
    "length = int(len(X)/N)\n",
    "a = 4\n",
    "\n",
    "y_y = y - np.mean(y)\n",
    "x_x = x - np.mean(x)\n",
    "\n",
    "numerator = np_multiply(x_x, y_y).sum()\n",
    "denominator = np.sqrt(   np.square(x_x).sum() * np_square(y_y).sum()  )\n",
    "numerator/denominator, length"
   ]
  },
  {
   "cell_type": "code",
   "execution_count": 287,
   "metadata": {},
   "outputs": [
    {
     "data": {
      "text/plain": [
       "<matplotlib.collections.PathCollection at 0x2e0aa3cb978>"
      ]
     },
     "execution_count": 287,
     "metadata": {},
     "output_type": "execute_result"
    },
    {
     "data": {
      "image/png": "[encoded data removed]",
      "text/plain": [
       "<matplotlib.figure.Figure at 0x2e0aa253dd8>"
      ]
     },
     "metadata": {},
     "output_type": "display_data"
    }
   ],
   "source": [
    "section = np.vstack( (x, y) ).T[x.argsort()]\n",
    "plt.scatter(section[length*a:length*(a+1),0] , section[length*a:length*(a+1),1])"
   ]
  },
  {
   "cell_type": "code",
   "execution_count": 120,
   "metadata": {},
   "outputs": [
    {
     "data": {
      "text/plain": [
       "array([0.10640742, 0.06316554, 0.06195185, ..., 0.05613877, 0.08515529,\n",
       "       0.063564  ])"
      ]
     },
     "execution_count": 120,
     "metadata": {},
     "output_type": "execute_result"
    }
   ],
   "source": [
    "model = LGBMRegressor(n_jobs = -1)\n",
    "model.fit(X, log_e_hat2)\n",
    "model.predict(X)"
   ]
  },
  {
   "cell_type": "code",
   "execution_count": 118,
   "metadata": {},
   "outputs": [
    {
     "data": {
      "text/plain": [
       "(array([  1.,   1.,   0.,   2.,   3.,   2.,   2.,   7.,   5.,   1.,   4.,\n",
       "          8.,   8.,  10.,   4.,  15.,  13.,   9.,  12.,  15.,  18.,  16.,\n",
       "         29.,  31.,  25.,  34.,  23.,  35.,  51.,  40.,  60.,  69.,  56.,\n",
       "         64.,  81.,  95.,  92., 107.,  87., 103., 100.,  85., 110., 143.,\n",
       "        112., 149., 151., 121., 154., 170., 147., 130., 159., 165., 177.,\n",
       "        173., 199., 193., 170., 198., 230., 208., 209., 204., 207., 234.,\n",
       "        205., 223., 210., 193., 202., 196., 173., 177., 185., 192., 150.,\n",
       "        148., 135., 167., 162., 132., 148., 120., 124., 133., 128., 117.,\n",
       "        100., 103.,  99.,  80.,  78.,  82.,  81.,  77.,  57.,  44.,  34.,\n",
       "          9.]),\n",
       " array([0.80606734, 0.80800563, 0.80994391, 0.81188219, 0.81382048,\n",
       "        0.81575876, 0.81769704, 0.81963533, 0.82157361, 0.82351189,\n",
       "        0.82545018, 0.82738846, 0.82932674, 0.83126503, 0.83320331,\n",
       "        0.83514159, 0.83707988, 0.83901816, 0.84095644, 0.84289473,\n",
       "        0.84483301, 0.84677129, 0.84870958, 0.85064786, 0.85258614,\n",
       "        0.85452442, 0.85646271, 0.85840099, 0.86033927, 0.86227756,\n",
       "        0.86421584, 0.86615412, 0.86809241, 0.87003069, 0.87196897,\n",
       "        0.87390726, 0.87584554, 0.87778382, 0.87972211, 0.88166039,\n",
       "        0.88359867, 0.88553696, 0.88747524, 0.88941352, 0.89135181,\n",
       "        0.89329009, 0.89522837, 0.89716666, 0.89910494, 0.90104322,\n",
       "        0.90298151, 0.90491979, 0.90685807, 0.90879636, 0.91073464,\n",
       "        0.91267292, 0.91461121, 0.91654949, 0.91848777, 0.92042606,\n",
       "        0.92236434, 0.92430262, 0.92624091, 0.92817919, 0.93011747,\n",
       "        0.93205576, 0.93399404, 0.93593232, 0.93787061, 0.93980889,\n",
       "        0.94174717, 0.94368546, 0.94562374, 0.94756202, 0.94950031,\n",
       "        0.95143859, 0.95337687, 0.95531516, 0.95725344, 0.95919172,\n",
       "        0.96113   , 0.96306829, 0.96500657, 0.96694485, 0.96888314,\n",
       "        0.97082142, 0.9727597 , 0.97469799, 0.97663627, 0.97857455,\n",
       "        0.98051284, 0.98245112, 0.9843894 , 0.98632769, 0.98826597,\n",
       "        0.99020425, 0.99214254, 0.99408082, 0.9960191 , 0.99795739,\n",
       "        0.99989567]),\n",
       " <a list of 100 Patch objects>)"
      ]
     },
     "execution_count": 118,
     "metadata": {},
     "output_type": "execute_result"
    },
    {
     "data": {
      "image/png": "[encoded data removed]",
      "text/plain": [
       "<matplotlib.figure.Figure at 0x2e0a5569d68>"
      ]
     },
     "metadata": {},
     "output_type": "display_data"
    }
   ],
   "source": [
    "plt.hist(W, bins = 100)"
   ]
  },
  {
   "cell_type": "code",
   "execution_count": 110,
   "metadata": {},
   "outputs": [
    {
     "data": {
      "text/plain": [
       "array([0.0709, 0.    , 0.0768, ..., 0.0787, 0.0657, 0.0795], dtype=float32)"
      ]
     },
     "execution_count": 110,
     "metadata": {},
     "output_type": "execute_result"
    }
   ],
   "source": [
    "X.dot(theta_g_hat).round(4)"
   ]
  },
  {
   "cell_type": "code",
   "execution_count": null,
   "metadata": {},
   "outputs": [],
   "source": []
  },
  {
   "cell_type": "code",
   "execution_count": null,
   "metadata": {},
   "outputs": [],
   "source": []
  },
  {
   "cell_type": "code",
   "execution_count": 564,
   "metadata": {
    "scrolled": true
   },
   "outputs": [
    {
     "data": {
      "text/html": [
       "<div>\n",
       "<style scoped>\n",
       "    .dataframe tbody tr th:only-of-type {\n",
       "        vertical-align: middle;\n",
       "    }\n",
       "\n",
       "    .dataframe tbody tr th {\n",
       "        vertical-align: top;\n",
       "    }\n",
       "\n",
       "    .dataframe thead th {\n",
       "        text-align: right;\n",
       "    }\n",
       "</style>\n",
       "<table border=\"1\" class=\"dataframe\">\n",
       "  <thead>\n",
       "    <tr style=\"text-align: right;\">\n",
       "      <th></th>\n",
       "      <th>0</th>\n",
       "      <th>1</th>\n",
       "      <th>2</th>\n",
       "      <th>3</th>\n",
       "      <th>4</th>\n",
       "      <th>5</th>\n",
       "    </tr>\n",
       "  </thead>\n",
       "  <tbody>\n",
       "    <tr>\n",
       "      <th>0</th>\n",
       "      <td>0.6419</td>\n",
       "      <td>0.7114</td>\n",
       "      <td>0.6571</td>\n",
       "      <td>0.6962</td>\n",
       "      <td>1.0</td>\n",
       "      <td>0.0000</td>\n",
       "    </tr>\n",
       "    <tr>\n",
       "      <th>71</th>\n",
       "      <td>0.2044</td>\n",
       "      <td>0.2736</td>\n",
       "      <td>0.2195</td>\n",
       "      <td>0.2585</td>\n",
       "      <td>1.0</td>\n",
       "      <td>0.0000</td>\n",
       "    </tr>\n",
       "    <tr>\n",
       "      <th>69</th>\n",
       "      <td>0.7964</td>\n",
       "      <td>0.8654</td>\n",
       "      <td>0.8114</td>\n",
       "      <td>0.8504</td>\n",
       "      <td>1.0</td>\n",
       "      <td>0.0000</td>\n",
       "    </tr>\n",
       "    <tr>\n",
       "      <th>68</th>\n",
       "      <td>0.8758</td>\n",
       "      <td>0.9455</td>\n",
       "      <td>0.8910</td>\n",
       "      <td>0.9304</td>\n",
       "      <td>1.0</td>\n",
       "      <td>0.0000</td>\n",
       "    </tr>\n",
       "    <tr>\n",
       "      <th>67</th>\n",
       "      <td>0.4244</td>\n",
       "      <td>0.4934</td>\n",
       "      <td>0.4395</td>\n",
       "      <td>0.4784</td>\n",
       "      <td>1.0</td>\n",
       "      <td>0.0000</td>\n",
       "    </tr>\n",
       "    <tr>\n",
       "      <th>66</th>\n",
       "      <td>0.2846</td>\n",
       "      <td>0.3537</td>\n",
       "      <td>0.2996</td>\n",
       "      <td>0.3386</td>\n",
       "      <td>1.0</td>\n",
       "      <td>0.0000</td>\n",
       "    </tr>\n",
       "    <tr>\n",
       "      <th>65</th>\n",
       "      <td>0.2274</td>\n",
       "      <td>0.2966</td>\n",
       "      <td>0.2424</td>\n",
       "      <td>0.2815</td>\n",
       "      <td>1.0</td>\n",
       "      <td>0.0000</td>\n",
       "    </tr>\n",
       "    <tr>\n",
       "      <th>64</th>\n",
       "      <td>0.6670</td>\n",
       "      <td>0.7361</td>\n",
       "      <td>0.6820</td>\n",
       "      <td>0.7210</td>\n",
       "      <td>1.0</td>\n",
       "      <td>0.0000</td>\n",
       "    </tr>\n",
       "    <tr>\n",
       "      <th>63</th>\n",
       "      <td>0.9141</td>\n",
       "      <td>0.9835</td>\n",
       "      <td>0.9292</td>\n",
       "      <td>0.9684</td>\n",
       "      <td>1.0</td>\n",
       "      <td>0.0000</td>\n",
       "    </tr>\n",
       "    <tr>\n",
       "      <th>62</th>\n",
       "      <td>0.6719</td>\n",
       "      <td>0.7410</td>\n",
       "      <td>0.6869</td>\n",
       "      <td>0.7259</td>\n",
       "      <td>1.0</td>\n",
       "      <td>0.0000</td>\n",
       "    </tr>\n",
       "    <tr>\n",
       "      <th>61</th>\n",
       "      <td>0.2961</td>\n",
       "      <td>0.3651</td>\n",
       "      <td>0.3112</td>\n",
       "      <td>0.3501</td>\n",
       "      <td>1.0</td>\n",
       "      <td>0.0000</td>\n",
       "    </tr>\n",
       "    <tr>\n",
       "      <th>59</th>\n",
       "      <td>0.8536</td>\n",
       "      <td>0.9230</td>\n",
       "      <td>0.8688</td>\n",
       "      <td>0.9079</td>\n",
       "      <td>1.0</td>\n",
       "      <td>0.0000</td>\n",
       "    </tr>\n",
       "    <tr>\n",
       "      <th>58</th>\n",
       "      <td>0.3614</td>\n",
       "      <td>0.4308</td>\n",
       "      <td>0.3765</td>\n",
       "      <td>0.4157</td>\n",
       "      <td>1.0</td>\n",
       "      <td>0.0000</td>\n",
       "    </tr>\n",
       "    <tr>\n",
       "      <th>57</th>\n",
       "      <td>0.8265</td>\n",
       "      <td>0.8956</td>\n",
       "      <td>0.8416</td>\n",
       "      <td>0.8806</td>\n",
       "      <td>1.0</td>\n",
       "      <td>0.0000</td>\n",
       "    </tr>\n",
       "    <tr>\n",
       "      <th>55</th>\n",
       "      <td>0.7152</td>\n",
       "      <td>0.7845</td>\n",
       "      <td>0.7303</td>\n",
       "      <td>0.7694</td>\n",
       "      <td>1.0</td>\n",
       "      <td>0.0000</td>\n",
       "    </tr>\n",
       "    <tr>\n",
       "      <th>54</th>\n",
       "      <td>0.2197</td>\n",
       "      <td>0.2882</td>\n",
       "      <td>0.2346</td>\n",
       "      <td>0.2733</td>\n",
       "      <td>1.0</td>\n",
       "      <td>0.0000</td>\n",
       "    </tr>\n",
       "    <tr>\n",
       "      <th>53</th>\n",
       "      <td>0.8149</td>\n",
       "      <td>0.8836</td>\n",
       "      <td>0.8299</td>\n",
       "      <td>0.8686</td>\n",
       "      <td>1.0</td>\n",
       "      <td>0.0000</td>\n",
       "    </tr>\n",
       "    <tr>\n",
       "      <th>52</th>\n",
       "      <td>0.1875</td>\n",
       "      <td>0.2565</td>\n",
       "      <td>0.2026</td>\n",
       "      <td>0.2415</td>\n",
       "      <td>1.0</td>\n",
       "      <td>0.0000</td>\n",
       "    </tr>\n",
       "    <tr>\n",
       "      <th>51</th>\n",
       "      <td>0.7704</td>\n",
       "      <td>0.8402</td>\n",
       "      <td>0.7856</td>\n",
       "      <td>0.8250</td>\n",
       "      <td>1.0</td>\n",
       "      <td>0.0000</td>\n",
       "    </tr>\n",
       "    <tr>\n",
       "      <th>50</th>\n",
       "      <td>0.0521</td>\n",
       "      <td>0.1209</td>\n",
       "      <td>0.0671</td>\n",
       "      <td>0.1059</td>\n",
       "      <td>1.0</td>\n",
       "      <td>0.0000</td>\n",
       "    </tr>\n",
       "    <tr>\n",
       "      <th>72</th>\n",
       "      <td>0.1302</td>\n",
       "      <td>0.1992</td>\n",
       "      <td>0.1452</td>\n",
       "      <td>0.1841</td>\n",
       "      <td>1.0</td>\n",
       "      <td>0.0000</td>\n",
       "    </tr>\n",
       "    <tr>\n",
       "      <th>73</th>\n",
       "      <td>0.7468</td>\n",
       "      <td>0.8160</td>\n",
       "      <td>0.7619</td>\n",
       "      <td>0.8009</td>\n",
       "      <td>1.0</td>\n",
       "      <td>0.0000</td>\n",
       "    </tr>\n",
       "    <tr>\n",
       "      <th>74</th>\n",
       "      <td>0.9029</td>\n",
       "      <td>0.9716</td>\n",
       "      <td>0.9179</td>\n",
       "      <td>0.9566</td>\n",
       "      <td>1.0</td>\n",
       "      <td>0.0000</td>\n",
       "    </tr>\n",
       "    <tr>\n",
       "      <th>75</th>\n",
       "      <td>0.0650</td>\n",
       "      <td>0.1335</td>\n",
       "      <td>0.0799</td>\n",
       "      <td>0.1185</td>\n",
       "      <td>1.0</td>\n",
       "      <td>0.0000</td>\n",
       "    </tr>\n",
       "    <tr>\n",
       "      <th>97</th>\n",
       "      <td>0.0829</td>\n",
       "      <td>0.1521</td>\n",
       "      <td>0.0980</td>\n",
       "      <td>0.1370</td>\n",
       "      <td>1.0</td>\n",
       "      <td>0.0000</td>\n",
       "    </tr>\n",
       "    <tr>\n",
       "      <th>95</th>\n",
       "      <td>0.8791</td>\n",
       "      <td>0.9484</td>\n",
       "      <td>0.8942</td>\n",
       "      <td>0.9333</td>\n",
       "      <td>1.0</td>\n",
       "      <td>0.0000</td>\n",
       "    </tr>\n",
       "    <tr>\n",
       "      <th>94</th>\n",
       "      <td>0.1510</td>\n",
       "      <td>0.2204</td>\n",
       "      <td>0.1662</td>\n",
       "      <td>0.2053</td>\n",
       "      <td>1.0</td>\n",
       "      <td>0.0000</td>\n",
       "    </tr>\n",
       "    <tr>\n",
       "      <th>93</th>\n",
       "      <td>0.6514</td>\n",
       "      <td>0.7205</td>\n",
       "      <td>0.6665</td>\n",
       "      <td>0.7054</td>\n",
       "      <td>1.0</td>\n",
       "      <td>0.0000</td>\n",
       "    </tr>\n",
       "    <tr>\n",
       "      <th>92</th>\n",
       "      <td>0.6200</td>\n",
       "      <td>0.6896</td>\n",
       "      <td>0.6352</td>\n",
       "      <td>0.6745</td>\n",
       "      <td>1.0</td>\n",
       "      <td>0.0000</td>\n",
       "    </tr>\n",
       "    <tr>\n",
       "      <th>91</th>\n",
       "      <td>0.7053</td>\n",
       "      <td>0.7747</td>\n",
       "      <td>0.7204</td>\n",
       "      <td>0.7596</td>\n",
       "      <td>1.0</td>\n",
       "      <td>0.0000</td>\n",
       "    </tr>\n",
       "    <tr>\n",
       "      <th>...</th>\n",
       "      <td>...</td>\n",
       "      <td>...</td>\n",
       "      <td>...</td>\n",
       "      <td>...</td>\n",
       "      <td>...</td>\n",
       "      <td>...</td>\n",
       "    </tr>\n",
       "    <tr>\n",
       "      <th>99</th>\n",
       "      <td>0.6674</td>\n",
       "      <td>0.7361</td>\n",
       "      <td>0.6824</td>\n",
       "      <td>0.7211</td>\n",
       "      <td>1.0</td>\n",
       "      <td>0.0000</td>\n",
       "    </tr>\n",
       "    <tr>\n",
       "      <th>39</th>\n",
       "      <td>0.1127</td>\n",
       "      <td>0.1818</td>\n",
       "      <td>0.1277</td>\n",
       "      <td>0.1667</td>\n",
       "      <td>1.0</td>\n",
       "      <td>0.0000</td>\n",
       "    </tr>\n",
       "    <tr>\n",
       "      <th>38</th>\n",
       "      <td>0.5120</td>\n",
       "      <td>0.5818</td>\n",
       "      <td>0.5272</td>\n",
       "      <td>0.5666</td>\n",
       "      <td>1.0</td>\n",
       "      <td>0.0000</td>\n",
       "    </tr>\n",
       "    <tr>\n",
       "      <th>37</th>\n",
       "      <td>0.8436</td>\n",
       "      <td>0.9131</td>\n",
       "      <td>0.8588</td>\n",
       "      <td>0.8979</td>\n",
       "      <td>1.0</td>\n",
       "      <td>0.0000</td>\n",
       "    </tr>\n",
       "    <tr>\n",
       "      <th>26</th>\n",
       "      <td>0.8745</td>\n",
       "      <td>0.9438</td>\n",
       "      <td>0.8896</td>\n",
       "      <td>0.9287</td>\n",
       "      <td>1.0</td>\n",
       "      <td>0.0000</td>\n",
       "    </tr>\n",
       "    <tr>\n",
       "      <th>36</th>\n",
       "      <td>0.9349</td>\n",
       "      <td>1.0036</td>\n",
       "      <td>0.9499</td>\n",
       "      <td>0.9887</td>\n",
       "      <td>1.0</td>\n",
       "      <td>0.0000</td>\n",
       "    </tr>\n",
       "    <tr>\n",
       "      <th>35</th>\n",
       "      <td>0.8687</td>\n",
       "      <td>0.9377</td>\n",
       "      <td>0.8837</td>\n",
       "      <td>0.9227</td>\n",
       "      <td>1.0</td>\n",
       "      <td>0.0000</td>\n",
       "    </tr>\n",
       "    <tr>\n",
       "      <th>34</th>\n",
       "      <td>0.8104</td>\n",
       "      <td>0.8795</td>\n",
       "      <td>0.8254</td>\n",
       "      <td>0.8645</td>\n",
       "      <td>1.0</td>\n",
       "      <td>0.0000</td>\n",
       "    </tr>\n",
       "    <tr>\n",
       "      <th>43</th>\n",
       "      <td>0.3833</td>\n",
       "      <td>0.4522</td>\n",
       "      <td>0.3983</td>\n",
       "      <td>0.4372</td>\n",
       "      <td>1.0</td>\n",
       "      <td>0.0000</td>\n",
       "    </tr>\n",
       "    <tr>\n",
       "      <th>32</th>\n",
       "      <td>0.3209</td>\n",
       "      <td>0.3898</td>\n",
       "      <td>0.3360</td>\n",
       "      <td>0.3748</td>\n",
       "      <td>1.0</td>\n",
       "      <td>0.0000</td>\n",
       "    </tr>\n",
       "    <tr>\n",
       "      <th>31</th>\n",
       "      <td>0.3360</td>\n",
       "      <td>0.4052</td>\n",
       "      <td>0.3511</td>\n",
       "      <td>0.3901</td>\n",
       "      <td>1.0</td>\n",
       "      <td>0.0000</td>\n",
       "    </tr>\n",
       "    <tr>\n",
       "      <th>30</th>\n",
       "      <td>0.2501</td>\n",
       "      <td>0.3196</td>\n",
       "      <td>0.2653</td>\n",
       "      <td>0.3045</td>\n",
       "      <td>1.0</td>\n",
       "      <td>0.0000</td>\n",
       "    </tr>\n",
       "    <tr>\n",
       "      <th>29</th>\n",
       "      <td>0.7612</td>\n",
       "      <td>0.8301</td>\n",
       "      <td>0.7762</td>\n",
       "      <td>0.8151</td>\n",
       "      <td>1.0</td>\n",
       "      <td>0.0000</td>\n",
       "    </tr>\n",
       "    <tr>\n",
       "      <th>28</th>\n",
       "      <td>0.3091</td>\n",
       "      <td>0.3785</td>\n",
       "      <td>0.3243</td>\n",
       "      <td>0.3634</td>\n",
       "      <td>1.0</td>\n",
       "      <td>0.0000</td>\n",
       "    </tr>\n",
       "    <tr>\n",
       "      <th>44</th>\n",
       "      <td>0.8853</td>\n",
       "      <td>0.9544</td>\n",
       "      <td>0.9003</td>\n",
       "      <td>0.9393</td>\n",
       "      <td>1.0</td>\n",
       "      <td>0.0000</td>\n",
       "    </tr>\n",
       "    <tr>\n",
       "      <th>27</th>\n",
       "      <td>0.3570</td>\n",
       "      <td>0.4260</td>\n",
       "      <td>0.3720</td>\n",
       "      <td>0.4109</td>\n",
       "      <td>1.0</td>\n",
       "      <td>0.0000</td>\n",
       "    </tr>\n",
       "    <tr>\n",
       "      <th>33</th>\n",
       "      <td>0.4486</td>\n",
       "      <td>0.5177</td>\n",
       "      <td>0.4637</td>\n",
       "      <td>0.5027</td>\n",
       "      <td>1.0</td>\n",
       "      <td>0.0000</td>\n",
       "    </tr>\n",
       "    <tr>\n",
       "      <th>41</th>\n",
       "      <td>0.7865</td>\n",
       "      <td>0.8554</td>\n",
       "      <td>0.8015</td>\n",
       "      <td>0.8403</td>\n",
       "      <td>1.0</td>\n",
       "      <td>0.0000</td>\n",
       "    </tr>\n",
       "    <tr>\n",
       "      <th>42</th>\n",
       "      <td>0.0467</td>\n",
       "      <td>0.1155</td>\n",
       "      <td>0.0617</td>\n",
       "      <td>0.1005</td>\n",
       "      <td>1.0</td>\n",
       "      <td>0.0000</td>\n",
       "    </tr>\n",
       "    <tr>\n",
       "      <th>40</th>\n",
       "      <td>0.0243</td>\n",
       "      <td>0.0938</td>\n",
       "      <td>0.0395</td>\n",
       "      <td>0.0787</td>\n",
       "      <td>1.0</td>\n",
       "      <td>0.0000</td>\n",
       "    </tr>\n",
       "    <tr>\n",
       "      <th>14</th>\n",
       "      <td>0.0187</td>\n",
       "      <td>0.0878</td>\n",
       "      <td>0.0338</td>\n",
       "      <td>0.0727</td>\n",
       "      <td>1.0</td>\n",
       "      <td>0.0000</td>\n",
       "    </tr>\n",
       "    <tr>\n",
       "      <th>84</th>\n",
       "      <td>-0.0019</td>\n",
       "      <td>0.0677</td>\n",
       "      <td>0.0133</td>\n",
       "      <td>0.0525</td>\n",
       "      <td>1.0</td>\n",
       "      <td>0.0010</td>\n",
       "    </tr>\n",
       "    <tr>\n",
       "      <th>96</th>\n",
       "      <td>-0.0077</td>\n",
       "      <td>0.0613</td>\n",
       "      <td>0.0074</td>\n",
       "      <td>0.0463</td>\n",
       "      <td>0.0</td>\n",
       "      <td>0.0069</td>\n",
       "    </tr>\n",
       "    <tr>\n",
       "      <th>56</th>\n",
       "      <td>-0.0090</td>\n",
       "      <td>0.0598</td>\n",
       "      <td>0.0060</td>\n",
       "      <td>0.0448</td>\n",
       "      <td>0.0</td>\n",
       "      <td>0.0104</td>\n",
       "    </tr>\n",
       "    <tr>\n",
       "      <th>24</th>\n",
       "      <td>-0.0148</td>\n",
       "      <td>0.0542</td>\n",
       "      <td>0.0003</td>\n",
       "      <td>0.0391</td>\n",
       "      <td>0.0</td>\n",
       "      <td>0.0471</td>\n",
       "    </tr>\n",
       "    <tr>\n",
       "      <th>70</th>\n",
       "      <td>-0.0150</td>\n",
       "      <td>0.0542</td>\n",
       "      <td>0.0001</td>\n",
       "      <td>0.0391</td>\n",
       "      <td>0.0</td>\n",
       "      <td>0.0487</td>\n",
       "    </tr>\n",
       "    <tr>\n",
       "      <th>1</th>\n",
       "      <td>-0.1270</td>\n",
       "      <td>0.0553</td>\n",
       "      <td>-0.0873</td>\n",
       "      <td>0.0156</td>\n",
       "      <td>0.0</td>\n",
       "      <td>0.1715</td>\n",
       "    </tr>\n",
       "    <tr>\n",
       "      <th>3</th>\n",
       "      <td>-0.1022</td>\n",
       "      <td>0.1612</td>\n",
       "      <td>-0.0448</td>\n",
       "      <td>0.1038</td>\n",
       "      <td>0.0</td>\n",
       "      <td>0.4361</td>\n",
       "    </tr>\n",
       "    <tr>\n",
       "      <th>48</th>\n",
       "      <td>-0.0378</td>\n",
       "      <td>0.0308</td>\n",
       "      <td>-0.0228</td>\n",
       "      <td>0.0158</td>\n",
       "      <td>0.0</td>\n",
       "      <td>0.7221</td>\n",
       "    </tr>\n",
       "    <tr>\n",
       "      <th>60</th>\n",
       "      <td>-0.0375</td>\n",
       "      <td>0.0316</td>\n",
       "      <td>-0.0224</td>\n",
       "      <td>0.0165</td>\n",
       "      <td>0.0</td>\n",
       "      <td>0.7674</td>\n",
       "    </tr>\n",
       "  </tbody>\n",
       "</table>\n",
       "<p>100 rows × 6 columns</p>\n",
       "</div>"
      ],
      "text/plain": [
       "         0       1       2       3    4       5\n",
       "0   0.6419  0.7114  0.6571  0.6962  1.0  0.0000\n",
       "71  0.2044  0.2736  0.2195  0.2585  1.0  0.0000\n",
       "69  0.7964  0.8654  0.8114  0.8504  1.0  0.0000\n",
       "68  0.8758  0.9455  0.8910  0.9304  1.0  0.0000\n",
       "67  0.4244  0.4934  0.4395  0.4784  1.0  0.0000\n",
       "66  0.2846  0.3537  0.2996  0.3386  1.0  0.0000\n",
       "65  0.2274  0.2966  0.2424  0.2815  1.0  0.0000\n",
       "64  0.6670  0.7361  0.6820  0.7210  1.0  0.0000\n",
       "63  0.9141  0.9835  0.9292  0.9684  1.0  0.0000\n",
       "62  0.6719  0.7410  0.6869  0.7259  1.0  0.0000\n",
       "61  0.2961  0.3651  0.3112  0.3501  1.0  0.0000\n",
       "59  0.8536  0.9230  0.8688  0.9079  1.0  0.0000\n",
       "58  0.3614  0.4308  0.3765  0.4157  1.0  0.0000\n",
       "57  0.8265  0.8956  0.8416  0.8806  1.0  0.0000\n",
       "55  0.7152  0.7845  0.7303  0.7694  1.0  0.0000\n",
       "54  0.2197  0.2882  0.2346  0.2733  1.0  0.0000\n",
       "53  0.8149  0.8836  0.8299  0.8686  1.0  0.0000\n",
       "52  0.1875  0.2565  0.2026  0.2415  1.0  0.0000\n",
       "51  0.7704  0.8402  0.7856  0.8250  1.0  0.0000\n",
       "50  0.0521  0.1209  0.0671  0.1059  1.0  0.0000\n",
       "72  0.1302  0.1992  0.1452  0.1841  1.0  0.0000\n",
       "73  0.7468  0.8160  0.7619  0.8009  1.0  0.0000\n",
       "74  0.9029  0.9716  0.9179  0.9566  1.0  0.0000\n",
       "75  0.0650  0.1335  0.0799  0.1185  1.0  0.0000\n",
       "97  0.0829  0.1521  0.0980  0.1370  1.0  0.0000\n",
       "95  0.8791  0.9484  0.8942  0.9333  1.0  0.0000\n",
       "94  0.1510  0.2204  0.1662  0.2053  1.0  0.0000\n",
       "93  0.6514  0.7205  0.6665  0.7054  1.0  0.0000\n",
       "92  0.6200  0.6896  0.6352  0.6745  1.0  0.0000\n",
       "91  0.7053  0.7747  0.7204  0.7596  1.0  0.0000\n",
       "..     ...     ...     ...     ...  ...     ...\n",
       "99  0.6674  0.7361  0.6824  0.7211  1.0  0.0000\n",
       "39  0.1127  0.1818  0.1277  0.1667  1.0  0.0000\n",
       "38  0.5120  0.5818  0.5272  0.5666  1.0  0.0000\n",
       "37  0.8436  0.9131  0.8588  0.8979  1.0  0.0000\n",
       "26  0.8745  0.9438  0.8896  0.9287  1.0  0.0000\n",
       "36  0.9349  1.0036  0.9499  0.9887  1.0  0.0000\n",
       "35  0.8687  0.9377  0.8837  0.9227  1.0  0.0000\n",
       "34  0.8104  0.8795  0.8254  0.8645  1.0  0.0000\n",
       "43  0.3833  0.4522  0.3983  0.4372  1.0  0.0000\n",
       "32  0.3209  0.3898  0.3360  0.3748  1.0  0.0000\n",
       "31  0.3360  0.4052  0.3511  0.3901  1.0  0.0000\n",
       "30  0.2501  0.3196  0.2653  0.3045  1.0  0.0000\n",
       "29  0.7612  0.8301  0.7762  0.8151  1.0  0.0000\n",
       "28  0.3091  0.3785  0.3243  0.3634  1.0  0.0000\n",
       "44  0.8853  0.9544  0.9003  0.9393  1.0  0.0000\n",
       "27  0.3570  0.4260  0.3720  0.4109  1.0  0.0000\n",
       "33  0.4486  0.5177  0.4637  0.5027  1.0  0.0000\n",
       "41  0.7865  0.8554  0.8015  0.8403  1.0  0.0000\n",
       "42  0.0467  0.1155  0.0617  0.1005  1.0  0.0000\n",
       "40  0.0243  0.0938  0.0395  0.0787  1.0  0.0000\n",
       "14  0.0187  0.0878  0.0338  0.0727  1.0  0.0000\n",
       "84 -0.0019  0.0677  0.0133  0.0525  1.0  0.0010\n",
       "96 -0.0077  0.0613  0.0074  0.0463  0.0  0.0069\n",
       "56 -0.0090  0.0598  0.0060  0.0448  0.0  0.0104\n",
       "24 -0.0148  0.0542  0.0003  0.0391  0.0  0.0471\n",
       "70 -0.0150  0.0542  0.0001  0.0391  0.0  0.0487\n",
       "1  -0.1270  0.0553 -0.0873  0.0156  0.0  0.1715\n",
       "3  -0.1022  0.1612 -0.0448  0.1038  0.0  0.4361\n",
       "48 -0.0378  0.0308 -0.0228  0.0158  0.0  0.7221\n",
       "60 -0.0375  0.0316 -0.0224  0.0165  0.0  0.7674\n",
       "\n",
       "[100 rows x 6 columns]"
      ]
     },
     "execution_count": 564,
     "metadata": {},
     "output_type": "execute_result"
    }
   ],
   "source": [
    "pd.DataFrame(np.vstack((get_confint(theta_hat, expected_value, std_error, n-p, interval = 0.95, method = 'sidak'),\n",
    "               get_confint(theta_hat, expected_value, std_error, n-p, interval = 0.95, method = 'normal'),\n",
    "                       holm_bonferroni(pvalues, n-p), pvalues\n",
    "                       )\n",
    "             )).T.sort_values(5).round(4)"
   ]
  },
  {
   "cell_type": "code",
   "execution_count": 553,
   "metadata": {},
   "outputs": [
    {
     "data": {
      "text/plain": [
       "<matplotlib.collections.PathCollection at 0x19f2e5f67f0>"
      ]
     },
     "execution_count": 553,
     "metadata": {},
     "output_type": "execute_result"
    },
    {
     "data": {
      "image/png": "[encoded data removed]",
      "text/plain": [
       "<matplotlib.figure.Figure at 0x19f1f5e2cc0>"
      ]
     },
     "metadata": {},
     "output_type": "display_data"
    }
   ],
   "source": [
    "plt.scatter(X[:,], y)"
   ]
  },
  {
   "cell_type": "code",
   "execution_count": 500,
   "metadata": {},
   "outputs": [],
   "source": [
    "z_scores = theta_hat / std_error\n",
    "pvalues = 2*(1-tdist.cdf(np_abs(z_scores), n-p))"
   ]
  },
  {
   "cell_type": "code",
   "execution_count": 356,
   "metadata": {},
   "outputs": [
    {
     "name": "stdout",
     "output_type": "stream",
     "text": [
      "Wall time: 66 ms\n"
     ]
    }
   ],
   "source": [
    "%%time\n",
    "U, S, VT = svd(X)\n",
    "V = VT.T"
   ]
  },
  {
   "cell_type": "code",
   "execution_count": 180,
   "metadata": {},
   "outputs": [],
   "source": [
    "theta_hat = svd_solve(X, y)"
   ]
  },
  {
   "cell_type": "code",
   "execution_count": 532,
   "metadata": {},
   "outputs": [],
   "source": [
    "alpha = 0.05\n",
    "pvalues = get_pvalues(theta_hat, std_error, n-p)\n",
    "ranks = (-pvalues).argsort() + 1\n",
    "holm_bonferroi = alpha / ranks\n",
    "reject_null = pvalues < holm_bonferroi"
   ]
  },
  {
   "cell_type": "code",
   "execution_count": 533,
   "metadata": {},
   "outputs": [
    {
     "data": {
      "text/plain": [
       "array([ True, False,  True, False,  True,  True,  True,  True,  True,\n",
       "        True,  True,  True,  True,  True,  True,  True,  True,  True,\n",
       "        True,  True,  True,  True,  True,  True, False,  True,  True,\n",
       "        True,  True,  True,  True,  True,  True,  True,  True,  True,\n",
       "        True,  True,  True,  True,  True,  True,  True,  True,  True,\n",
       "        True,  True,  True, False,  True,  True,  True,  True,  True,\n",
       "        True,  True, False,  True,  True,  True, False,  True,  True,\n",
       "        True,  True,  True,  True,  True,  True,  True, False,  True,\n",
       "        True,  True,  True,  True,  True,  True,  True,  True,  True,\n",
       "        True,  True,  True,  True,  True,  True,  True,  True,  True,\n",
       "        True,  True,  True,  True,  True,  True, False,  True,  True,\n",
       "        True])"
      ]
     },
     "execution_count": 533,
     "metadata": {},
     "output_type": "execute_result"
    }
   ],
   "source": [
    "reject_null"
   ]
  },
  {
   "cell_type": "code",
   "execution_count": 561,
   "metadata": {},
   "outputs": [],
   "source": []
  },
  {
   "cell_type": "code",
   "execution_count": 555,
   "metadata": {},
   "outputs": [
    {
     "data": {
      "text/plain": [
       "(array([0.99877936, 0.49729508, 0.9996986 , 0.9719105 , 0.9987731 ,\n",
       "        0.9999437 , 0.99877465, 0.9987738 , 0.99878514, 0.998774  ,\n",
       "        0.9998313 , 0.9987929 , 0.998789  , 0.99880165, 0.99879354,\n",
       "        0.9987918 , 0.99879223, 0.99879634, 0.9987748 , 0.99880606,\n",
       "        0.99878925, 0.9987864 , 0.99879247, 0.9987936 , 0.99879676,\n",
       "        0.9988019 , 0.9987861 , 0.99879545, 0.9987818 , 0.99879766,\n",
       "        0.9987766 , 0.9987894 , 0.99879897, 0.99878985, 0.99878985,\n",
       "        0.99879456, 0.99880546, 0.9987759 , 0.9987683 , 0.9987901 ,\n",
       "        0.99877584, 0.9987991 , 0.99880004, 0.9987952 , 0.9987912 ,\n",
       "        0.99879795, 0.99877506, 0.9987997 , 0.9988114 , 0.99879444,\n",
       "        0.99880445, 0.99876887, 0.9987958 , 0.9988042 , 0.99881166,\n",
       "        0.99878556, 0.9987994 , 0.99879223, 0.998779  , 0.9987812 ,\n",
       "        0.9987948 , 0.99879277, 0.99878997, 0.9987832 , 0.998792  ,\n",
       "        0.9987885 , 0.9987897 , 0.998798  , 0.99877083, 0.99879426,\n",
       "        0.9987886 , 0.99879044, 0.9987964 , 0.9987892 , 0.9988066 ,\n",
       "        0.9988143 , 0.99878496, 0.998792  , 0.9987694 , 0.998788  ,\n",
       "        0.99879926, 0.9987798 , 0.9988028 , 0.99880004, 0.9987723 ,\n",
       "        0.99880064, 0.9988159 , 0.998799  , 0.99879664, 0.99877536,\n",
       "        0.99878854, 0.9987807 , 0.99877447, 0.99879193, 0.99877995,\n",
       "        0.99878085, 0.99879557, 0.9987853 , 0.9987938 , 0.9988078 ],\n",
       "       dtype=float32),\n",
       " array([1.2183608e-03, 2.4998970e-01, 3.0069269e-04, 2.7268849e-02,\n",
       "        1.2252841e-03, 5.6452049e-05, 1.2237285e-03, 1.2246517e-03,\n",
       "        1.2132766e-03, 1.2244252e-03, 1.6874731e-04, 1.2052758e-03,\n",
       "        1.2089984e-03, 1.1965911e-03, 1.2052018e-03, 1.2062973e-03,\n",
       "        1.2060085e-03, 1.2023507e-03, 1.2236084e-03, 1.1922109e-03,\n",
       "        1.2090359e-03, 1.2119218e-03, 1.2058079e-03, 1.2044623e-03,\n",
       "        1.2014540e-03, 1.1963559e-03, 1.2122694e-03, 1.2026563e-03,\n",
       "        1.2166523e-03, 1.2006725e-03, 1.2217923e-03, 1.2091027e-03,\n",
       "        1.1991221e-03, 1.2086334e-03, 1.2086025e-03, 1.2038570e-03,\n",
       "        1.1925901e-03, 1.2220562e-03, 1.2300743e-03, 1.2081591e-03,\n",
       "        1.2222579e-03, 1.1990062e-03, 1.1980664e-03, 1.2031526e-03,\n",
       "        1.2069728e-03, 1.2001471e-03, 1.2230664e-03, 1.1988116e-03,\n",
       "        1.1870994e-03, 1.2039978e-03, 1.1941614e-03, 1.2295429e-03,\n",
       "        1.2025356e-03, 1.1941256e-03, 1.1868557e-03, 1.2125976e-03,\n",
       "        1.1988911e-03, 1.2062467e-03, 1.2189947e-03, 1.2167328e-03,\n",
       "        1.2033869e-03, 1.2052458e-03, 1.2082696e-03, 1.2153740e-03,\n",
       "        1.2063782e-03, 1.2100941e-03, 1.2084072e-03, 1.2002336e-03,\n",
       "        1.2272976e-03, 1.2041774e-03, 1.2098188e-03, 1.2081807e-03,\n",
       "        1.2017975e-03, 1.2089097e-03, 1.1917013e-03, 1.1841750e-03,\n",
       "        1.2134947e-03, 1.2064051e-03, 1.2286932e-03, 1.2102041e-03,\n",
       "        1.1988693e-03, 1.2184423e-03, 1.1956155e-03, 1.1982927e-03,\n",
       "        1.2261950e-03, 1.1978331e-03, 1.1824078e-03, 1.1996884e-03,\n",
       "        1.2015053e-03, 1.2229070e-03, 1.2095496e-03, 1.2174548e-03,\n",
       "        1.2236801e-03, 1.2064473e-03, 1.2179799e-03, 1.2174258e-03,\n",
       "        1.2027017e-03, 1.2130613e-03, 1.2045696e-03, 1.1905167e-03],\n",
       "       dtype=float32),\n",
       " array([[ 1.2202105e-03,  2.4606197e-04, -3.0058260e-07, ...,\n",
       "         -2.6170997e-05, -1.3576277e-05,  1.0209032e-05],\n",
       "        [ 2.4606197e-04,  5.0270563e-01,  1.2684760e-04, ...,\n",
       "          2.5456503e-04, -7.8809418e-05,  9.6397722e-05],\n",
       "        [-3.0058351e-07,  1.2684760e-04,  3.0093751e-04, ...,\n",
       "          2.4382464e-06, -6.4039855e-06, -5.7975208e-06],\n",
       "        ...,\n",
       "        [-2.6170990e-05,  2.5456503e-04,  2.4382455e-06, ...,\n",
       "          1.2149625e-03, -3.5313637e-06, -2.6198051e-05],\n",
       "        [-1.3576291e-05, -7.8809418e-05, -6.4039846e-06, ...,\n",
       "         -3.5313728e-06,  1.2064178e-03, -9.8058890e-06],\n",
       "        [ 1.0209024e-05,  9.6397729e-05, -5.7975221e-06, ...,\n",
       "         -2.6198044e-05, -9.8058936e-06,  1.1922693e-03]], dtype=float32))"
      ]
     },
     "execution_count": 555,
     "metadata": {},
     "output_type": "execute_result"
    }
   ],
   "source": [
    "ridge_stats(U, S, VT)"
   ]
  },
  {
   "cell_type": "code",
   "execution_count": 403,
   "metadata": {},
   "outputs": [],
   "source": [
    "alpha = 10\n",
    "\n",
    "\n",
    "theta_hat = ridge_solve(X, y, alpha)\n",
    "\n",
    "\n",
    "\n",
    "\n",
    "\n",
    "\n",
    "e_hat = y - X.dot(theta_hat)\n",
    "sigma_hat2 = np_square(e_hat).sum() / (n-p)\n",
    "\n",
    "std_error = np_sqrt(sigma_hat2) * np_sqrt(var_theta_hat)\n",
    "\n",
    "pvalues = get_pvalues(theta_hat, std_error, n-p)\n",
    "confint = get_confint(theta_hat, exp_theta_hat, std_error, n-p)"
   ]
  },
  {
   "cell_type": "code",
   "execution_count": 397,
   "metadata": {
    "scrolled": true
   },
   "outputs": [
    {
     "data": {
      "text/html": [
       "<div>\n",
       "<style scoped>\n",
       "    .dataframe tbody tr th:only-of-type {\n",
       "        vertical-align: middle;\n",
       "    }\n",
       "\n",
       "    .dataframe tbody tr th {\n",
       "        vertical-align: top;\n",
       "    }\n",
       "\n",
       "    .dataframe thead th {\n",
       "        text-align: right;\n",
       "    }\n",
       "</style>\n",
       "<table border=\"1\" class=\"dataframe\">\n",
       "  <thead>\n",
       "    <tr style=\"text-align: right;\">\n",
       "      <th></th>\n",
       "      <th>0</th>\n",
       "      <th>1</th>\n",
       "    </tr>\n",
       "  </thead>\n",
       "  <tbody>\n",
       "    <tr>\n",
       "      <th>0</th>\n",
       "      <td>0.664514</td>\n",
       "      <td>0.704147</td>\n",
       "    </tr>\n",
       "    <tr>\n",
       "      <th>1</th>\n",
       "      <td>-0.955064</td>\n",
       "      <td>0.184774</td>\n",
       "    </tr>\n",
       "    <tr>\n",
       "      <th>2</th>\n",
       "      <td>0.979379</td>\n",
       "      <td>0.999054</td>\n",
       "    </tr>\n",
       "    <tr>\n",
       "      <th>3</th>\n",
       "      <td>-0.351621</td>\n",
       "      <td>-0.158772</td>\n",
       "    </tr>\n",
       "    <tr>\n",
       "      <th>4</th>\n",
       "      <td>0.369891</td>\n",
       "      <td>0.409638</td>\n",
       "    </tr>\n",
       "    <tr>\n",
       "      <th>5</th>\n",
       "      <td>0.271149</td>\n",
       "      <td>0.279669</td>\n",
       "    </tr>\n",
       "    <tr>\n",
       "      <th>6</th>\n",
       "      <td>0.149508</td>\n",
       "      <td>0.189229</td>\n",
       "    </tr>\n",
       "    <tr>\n",
       "      <th>7</th>\n",
       "      <td>0.620210</td>\n",
       "      <td>0.659949</td>\n",
       "    </tr>\n",
       "    <tr>\n",
       "      <th>8</th>\n",
       "      <td>0.477272</td>\n",
       "      <td>0.516817</td>\n",
       "    </tr>\n",
       "    <tr>\n",
       "      <th>9</th>\n",
       "      <td>0.855723</td>\n",
       "      <td>0.895453</td>\n",
       "    </tr>\n",
       "    <tr>\n",
       "      <th>10</th>\n",
       "      <td>0.130242</td>\n",
       "      <td>0.144973</td>\n",
       "    </tr>\n",
       "    <tr>\n",
       "      <th>11</th>\n",
       "      <td>0.783310</td>\n",
       "      <td>0.822733</td>\n",
       "    </tr>\n",
       "    <tr>\n",
       "      <th>12</th>\n",
       "      <td>0.145476</td>\n",
       "      <td>0.184959</td>\n",
       "    </tr>\n",
       "    <tr>\n",
       "      <th>13</th>\n",
       "      <td>0.580726</td>\n",
       "      <td>0.620003</td>\n",
       "    </tr>\n",
       "    <tr>\n",
       "      <th>14</th>\n",
       "      <td>0.033708</td>\n",
       "      <td>0.073124</td>\n",
       "    </tr>\n",
       "    <tr>\n",
       "      <th>15</th>\n",
       "      <td>0.691701</td>\n",
       "      <td>0.731134</td>\n",
       "    </tr>\n",
       "    <tr>\n",
       "      <th>16</th>\n",
       "      <td>0.217638</td>\n",
       "      <td>0.257071</td>\n",
       "    </tr>\n",
       "    <tr>\n",
       "      <th>17</th>\n",
       "      <td>0.460799</td>\n",
       "      <td>0.500168</td>\n",
       "    </tr>\n",
       "    <tr>\n",
       "      <th>18</th>\n",
       "      <td>0.927749</td>\n",
       "      <td>0.967469</td>\n",
       "    </tr>\n",
       "    <tr>\n",
       "      <th>19</th>\n",
       "      <td>0.641602</td>\n",
       "      <td>0.680810</td>\n",
       "    </tr>\n",
       "    <tr>\n",
       "      <th>20</th>\n",
       "      <td>0.267316</td>\n",
       "      <td>0.306798</td>\n",
       "    </tr>\n",
       "    <tr>\n",
       "      <th>21</th>\n",
       "      <td>0.461434</td>\n",
       "      <td>0.500961</td>\n",
       "    </tr>\n",
       "    <tr>\n",
       "      <th>22</th>\n",
       "      <td>0.165321</td>\n",
       "      <td>0.204750</td>\n",
       "    </tr>\n",
       "    <tr>\n",
       "      <th>23</th>\n",
       "      <td>0.086787</td>\n",
       "      <td>0.126195</td>\n",
       "    </tr>\n",
       "    <tr>\n",
       "      <th>24</th>\n",
       "      <td>0.000615</td>\n",
       "      <td>0.039973</td>\n",
       "    </tr>\n",
       "    <tr>\n",
       "      <th>25</th>\n",
       "      <td>0.421220</td>\n",
       "      <td>0.460491</td>\n",
       "    </tr>\n",
       "    <tr>\n",
       "      <th>26</th>\n",
       "      <td>0.899597</td>\n",
       "      <td>0.939127</td>\n",
       "    </tr>\n",
       "    <tr>\n",
       "      <th>27</th>\n",
       "      <td>0.376258</td>\n",
       "      <td>0.415633</td>\n",
       "    </tr>\n",
       "    <tr>\n",
       "      <th>28</th>\n",
       "      <td>0.327966</td>\n",
       "      <td>0.367570</td>\n",
       "    </tr>\n",
       "    <tr>\n",
       "      <th>29</th>\n",
       "      <td>0.784936</td>\n",
       "      <td>0.824280</td>\n",
       "    </tr>\n",
       "    <tr>\n",
       "      <th>...</th>\n",
       "      <td>...</td>\n",
       "      <td>...</td>\n",
       "    </tr>\n",
       "    <tr>\n",
       "      <th>70</th>\n",
       "      <td>-0.000702</td>\n",
       "      <td>0.038791</td>\n",
       "    </tr>\n",
       "    <tr>\n",
       "      <th>71</th>\n",
       "      <td>0.221005</td>\n",
       "      <td>0.260469</td>\n",
       "    </tr>\n",
       "    <tr>\n",
       "      <th>72</th>\n",
       "      <td>0.147175</td>\n",
       "      <td>0.186538</td>\n",
       "    </tr>\n",
       "    <tr>\n",
       "      <th>73</th>\n",
       "      <td>0.770526</td>\n",
       "      <td>0.810007</td>\n",
       "    </tr>\n",
       "    <tr>\n",
       "      <th>74</th>\n",
       "      <td>0.929070</td>\n",
       "      <td>0.968268</td>\n",
       "    </tr>\n",
       "    <tr>\n",
       "      <th>75</th>\n",
       "      <td>0.080572</td>\n",
       "      <td>0.119642</td>\n",
       "    </tr>\n",
       "    <tr>\n",
       "      <th>76</th>\n",
       "      <td>0.586878</td>\n",
       "      <td>0.626428</td>\n",
       "    </tr>\n",
       "    <tr>\n",
       "      <th>77</th>\n",
       "      <td>0.924303</td>\n",
       "      <td>0.963739</td>\n",
       "    </tr>\n",
       "    <tr>\n",
       "      <th>78</th>\n",
       "      <td>0.935046</td>\n",
       "      <td>0.974848</td>\n",
       "    </tr>\n",
       "    <tr>\n",
       "      <th>79</th>\n",
       "      <td>0.227810</td>\n",
       "      <td>0.267309</td>\n",
       "    </tr>\n",
       "    <tr>\n",
       "      <th>80</th>\n",
       "      <td>0.672887</td>\n",
       "      <td>0.712200</td>\n",
       "    </tr>\n",
       "    <tr>\n",
       "      <th>81</th>\n",
       "      <td>0.512681</td>\n",
       "      <td>0.552320</td>\n",
       "    </tr>\n",
       "    <tr>\n",
       "      <th>82</th>\n",
       "      <td>0.936410</td>\n",
       "      <td>0.975675</td>\n",
       "    </tr>\n",
       "    <tr>\n",
       "      <th>83</th>\n",
       "      <td>0.346058</td>\n",
       "      <td>0.385361</td>\n",
       "    </tr>\n",
       "    <tr>\n",
       "      <th>84</th>\n",
       "      <td>0.013494</td>\n",
       "      <td>0.053255</td>\n",
       "    </tr>\n",
       "    <tr>\n",
       "      <th>85</th>\n",
       "      <td>0.191425</td>\n",
       "      <td>0.230717</td>\n",
       "    </tr>\n",
       "    <tr>\n",
       "      <th>86</th>\n",
       "      <td>0.625678</td>\n",
       "      <td>0.664718</td>\n",
       "    </tr>\n",
       "    <tr>\n",
       "      <th>87</th>\n",
       "      <td>0.538959</td>\n",
       "      <td>0.578282</td>\n",
       "    </tr>\n",
       "    <tr>\n",
       "      <th>88</th>\n",
       "      <td>0.947947</td>\n",
       "      <td>0.987305</td>\n",
       "    </tr>\n",
       "    <tr>\n",
       "      <th>89</th>\n",
       "      <td>0.359271</td>\n",
       "      <td>0.398980</td>\n",
       "    </tr>\n",
       "    <tr>\n",
       "      <th>90</th>\n",
       "      <td>0.899050</td>\n",
       "      <td>0.938538</td>\n",
       "    </tr>\n",
       "    <tr>\n",
       "      <th>91</th>\n",
       "      <td>0.728148</td>\n",
       "      <td>0.767763</td>\n",
       "    </tr>\n",
       "    <tr>\n",
       "      <th>92</th>\n",
       "      <td>0.641968</td>\n",
       "      <td>0.681685</td>\n",
       "    </tr>\n",
       "    <tr>\n",
       "      <th>93</th>\n",
       "      <td>0.673366</td>\n",
       "      <td>0.712801</td>\n",
       "    </tr>\n",
       "    <tr>\n",
       "      <th>94</th>\n",
       "      <td>0.168334</td>\n",
       "      <td>0.207962</td>\n",
       "    </tr>\n",
       "    <tr>\n",
       "      <th>95</th>\n",
       "      <td>0.905361</td>\n",
       "      <td>0.944980</td>\n",
       "    </tr>\n",
       "    <tr>\n",
       "      <th>96</th>\n",
       "      <td>0.008056</td>\n",
       "      <td>0.047434</td>\n",
       "    </tr>\n",
       "    <tr>\n",
       "      <th>97</th>\n",
       "      <td>0.098707</td>\n",
       "      <td>0.138255</td>\n",
       "    </tr>\n",
       "    <tr>\n",
       "      <th>98</th>\n",
       "      <td>0.705121</td>\n",
       "      <td>0.744528</td>\n",
       "    </tr>\n",
       "    <tr>\n",
       "      <th>99</th>\n",
       "      <td>0.689588</td>\n",
       "      <td>0.728762</td>\n",
       "    </tr>\n",
       "  </tbody>\n",
       "</table>\n",
       "<p>100 rows × 2 columns</p>\n",
       "</div>"
      ],
      "text/plain": [
       "           0         1\n",
       "0   0.664514  0.704147\n",
       "1  -0.955064  0.184774\n",
       "2   0.979379  0.999054\n",
       "3  -0.351621 -0.158772\n",
       "4   0.369891  0.409638\n",
       "5   0.271149  0.279669\n",
       "6   0.149508  0.189229\n",
       "7   0.620210  0.659949\n",
       "8   0.477272  0.516817\n",
       "9   0.855723  0.895453\n",
       "10  0.130242  0.144973\n",
       "11  0.783310  0.822733\n",
       "12  0.145476  0.184959\n",
       "13  0.580726  0.620003\n",
       "14  0.033708  0.073124\n",
       "15  0.691701  0.731134\n",
       "16  0.217638  0.257071\n",
       "17  0.460799  0.500168\n",
       "18  0.927749  0.967469\n",
       "19  0.641602  0.680810\n",
       "20  0.267316  0.306798\n",
       "21  0.461434  0.500961\n",
       "22  0.165321  0.204750\n",
       "23  0.086787  0.126195\n",
       "24  0.000615  0.039973\n",
       "25  0.421220  0.460491\n",
       "26  0.899597  0.939127\n",
       "27  0.376258  0.415633\n",
       "28  0.327966  0.367570\n",
       "29  0.784936  0.824280\n",
       "..       ...       ...\n",
       "70 -0.000702  0.038791\n",
       "71  0.221005  0.260469\n",
       "72  0.147175  0.186538\n",
       "73  0.770526  0.810007\n",
       "74  0.929070  0.968268\n",
       "75  0.080572  0.119642\n",
       "76  0.586878  0.626428\n",
       "77  0.924303  0.963739\n",
       "78  0.935046  0.974848\n",
       "79  0.227810  0.267309\n",
       "80  0.672887  0.712200\n",
       "81  0.512681  0.552320\n",
       "82  0.936410  0.975675\n",
       "83  0.346058  0.385361\n",
       "84  0.013494  0.053255\n",
       "85  0.191425  0.230717\n",
       "86  0.625678  0.664718\n",
       "87  0.538959  0.578282\n",
       "88  0.947947  0.987305\n",
       "89  0.359271  0.398980\n",
       "90  0.899050  0.938538\n",
       "91  0.728148  0.767763\n",
       "92  0.641968  0.681685\n",
       "93  0.673366  0.712801\n",
       "94  0.168334  0.207962\n",
       "95  0.905361  0.944980\n",
       "96  0.008056  0.047434\n",
       "97  0.098707  0.138255\n",
       "98  0.705121  0.744528\n",
       "99  0.689588  0.728762\n",
       "\n",
       "[100 rows x 2 columns]"
      ]
     },
     "execution_count": 397,
     "metadata": {},
     "output_type": "execute_result"
    }
   ],
   "source": [
    "theta_hatLR = svd_solve(X, y)\n",
    "\n",
    "e_hat = y - X.dot(theta_hatLR)\n",
    "sigma_hat2 = np_square(e_hat).sum() / (n-p)\n",
    "\n",
    "_XTX, h = svd_stats(U, S, VT)\n",
    "\n",
    "std_error = np.sqrt(_XTX.diagonal()) * np.sqrt(sigma_hat2)\n",
    "expected_value = 1\n",
    "pd.DataFrame(np.vstack(get_confint(theta_hatLR, expected_value, std_error, n-p))).T"
   ]
  },
  {
   "cell_type": "code",
   "execution_count": 459,
   "metadata": {
    "scrolled": true
   },
   "outputs": [
    {
     "data": {
      "text/html": [
       "<div>\n",
       "<style scoped>\n",
       "    .dataframe tbody tr th:only-of-type {\n",
       "        vertical-align: middle;\n",
       "    }\n",
       "\n",
       "    .dataframe tbody tr th {\n",
       "        vertical-align: top;\n",
       "    }\n",
       "\n",
       "    .dataframe thead th {\n",
       "        text-align: right;\n",
       "    }\n",
       "</style>\n",
       "<table border=\"1\" class=\"dataframe\">\n",
       "  <thead>\n",
       "    <tr style=\"text-align: right;\">\n",
       "      <th></th>\n",
       "      <th>0</th>\n",
       "      <th>1</th>\n",
       "      <th>2</th>\n",
       "      <th>3</th>\n",
       "      <th>4</th>\n",
       "    </tr>\n",
       "  </thead>\n",
       "  <tbody>\n",
       "    <tr>\n",
       "      <th>0</th>\n",
       "      <td>0.64891</td>\n",
       "      <td>0.68808</td>\n",
       "      <td>0.67664</td>\n",
       "      <td>0.00000</td>\n",
       "      <td>1.0</td>\n",
       "    </tr>\n",
       "    <tr>\n",
       "      <th>71</th>\n",
       "      <td>0.21662</td>\n",
       "      <td>0.25563</td>\n",
       "      <td>0.23898</td>\n",
       "      <td>0.00000</td>\n",
       "      <td>1.0</td>\n",
       "    </tr>\n",
       "    <tr>\n",
       "      <th>69</th>\n",
       "      <td>0.80151</td>\n",
       "      <td>0.84047</td>\n",
       "      <td>0.83088</td>\n",
       "      <td>0.00000</td>\n",
       "      <td>1.0</td>\n",
       "    </tr>\n",
       "    <tr>\n",
       "      <th>68</th>\n",
       "      <td>0.87999</td>\n",
       "      <td>0.91930</td>\n",
       "      <td>0.91070</td>\n",
       "      <td>0.00000</td>\n",
       "      <td>1.0</td>\n",
       "    </tr>\n",
       "    <tr>\n",
       "      <th>67</th>\n",
       "      <td>0.43403</td>\n",
       "      <td>0.47292</td>\n",
       "      <td>0.45892</td>\n",
       "      <td>0.00000</td>\n",
       "      <td>1.0</td>\n",
       "    </tr>\n",
       "    <tr>\n",
       "      <th>66</th>\n",
       "      <td>0.29583</td>\n",
       "      <td>0.33483</td>\n",
       "      <td>0.31914</td>\n",
       "      <td>0.00000</td>\n",
       "      <td>1.0</td>\n",
       "    </tr>\n",
       "    <tr>\n",
       "      <th>65</th>\n",
       "      <td>0.23931</td>\n",
       "      <td>0.27835</td>\n",
       "      <td>0.26196</td>\n",
       "      <td>0.00000</td>\n",
       "      <td>1.0</td>\n",
       "    </tr>\n",
       "    <tr>\n",
       "      <th>64</th>\n",
       "      <td>0.67367</td>\n",
       "      <td>0.71264</td>\n",
       "      <td>0.70152</td>\n",
       "      <td>0.00000</td>\n",
       "      <td>1.0</td>\n",
       "    </tr>\n",
       "    <tr>\n",
       "      <th>63</th>\n",
       "      <td>0.91783</td>\n",
       "      <td>0.95697</td>\n",
       "      <td>0.94881</td>\n",
       "      <td>0.00000</td>\n",
       "      <td>1.0</td>\n",
       "    </tr>\n",
       "    <tr>\n",
       "      <th>62</th>\n",
       "      <td>0.67851</td>\n",
       "      <td>0.71750</td>\n",
       "      <td>0.70644</td>\n",
       "      <td>0.00000</td>\n",
       "      <td>1.0</td>\n",
       "    </tr>\n",
       "    <tr>\n",
       "      <th>61</th>\n",
       "      <td>0.30721</td>\n",
       "      <td>0.34616</td>\n",
       "      <td>0.33062</td>\n",
       "      <td>0.00000</td>\n",
       "      <td>1.0</td>\n",
       "    </tr>\n",
       "    <tr>\n",
       "      <th>59</th>\n",
       "      <td>0.85807</td>\n",
       "      <td>0.89721</td>\n",
       "      <td>0.88833</td>\n",
       "      <td>0.00000</td>\n",
       "      <td>1.0</td>\n",
       "    </tr>\n",
       "    <tr>\n",
       "      <th>58</th>\n",
       "      <td>0.37178</td>\n",
       "      <td>0.41093</td>\n",
       "      <td>0.39612</td>\n",
       "      <td>0.00000</td>\n",
       "      <td>1.0</td>\n",
       "    </tr>\n",
       "    <tr>\n",
       "      <th>57</th>\n",
       "      <td>0.83131</td>\n",
       "      <td>0.87029</td>\n",
       "      <td>0.86107</td>\n",
       "      <td>0.00000</td>\n",
       "      <td>1.0</td>\n",
       "    </tr>\n",
       "    <tr>\n",
       "      <th>55</th>\n",
       "      <td>0.72131</td>\n",
       "      <td>0.76037</td>\n",
       "      <td>0.74983</td>\n",
       "      <td>0.00000</td>\n",
       "      <td>1.0</td>\n",
       "    </tr>\n",
       "    <tr>\n",
       "      <th>54</th>\n",
       "      <td>0.23164</td>\n",
       "      <td>0.27032</td>\n",
       "      <td>0.25396</td>\n",
       "      <td>0.00000</td>\n",
       "      <td>1.0</td>\n",
       "    </tr>\n",
       "    <tr>\n",
       "      <th>53</th>\n",
       "      <td>0.81984</td>\n",
       "      <td>0.85862</td>\n",
       "      <td>0.84925</td>\n",
       "      <td>0.00000</td>\n",
       "      <td>1.0</td>\n",
       "    </tr>\n",
       "    <tr>\n",
       "      <th>52</th>\n",
       "      <td>0.19992</td>\n",
       "      <td>0.23883</td>\n",
       "      <td>0.22202</td>\n",
       "      <td>0.00000</td>\n",
       "      <td>1.0</td>\n",
       "    </tr>\n",
       "    <tr>\n",
       "      <th>51</th>\n",
       "      <td>0.77583</td>\n",
       "      <td>0.81517</td>\n",
       "      <td>0.80529</td>\n",
       "      <td>0.00000</td>\n",
       "      <td>1.0</td>\n",
       "    </tr>\n",
       "    <tr>\n",
       "      <th>50</th>\n",
       "      <td>0.06609</td>\n",
       "      <td>0.10489</td>\n",
       "      <td>0.08651</td>\n",
       "      <td>0.00000</td>\n",
       "      <td>1.0</td>\n",
       "    </tr>\n",
       "    <tr>\n",
       "      <th>72</th>\n",
       "      <td>0.14329</td>\n",
       "      <td>0.18218</td>\n",
       "      <td>0.16469</td>\n",
       "      <td>0.00000</td>\n",
       "      <td>1.0</td>\n",
       "    </tr>\n",
       "    <tr>\n",
       "      <th>73</th>\n",
       "      <td>0.75257</td>\n",
       "      <td>0.79158</td>\n",
       "      <td>0.78141</td>\n",
       "      <td>0.00000</td>\n",
       "      <td>1.0</td>\n",
       "    </tr>\n",
       "    <tr>\n",
       "      <th>74</th>\n",
       "      <td>0.90686</td>\n",
       "      <td>0.94559</td>\n",
       "      <td>0.93726</td>\n",
       "      <td>0.00000</td>\n",
       "      <td>1.0</td>\n",
       "    </tr>\n",
       "    <tr>\n",
       "      <th>75</th>\n",
       "      <td>0.07875</td>\n",
       "      <td>0.11737</td>\n",
       "      <td>0.09922</td>\n",
       "      <td>0.00000</td>\n",
       "      <td>1.0</td>\n",
       "    </tr>\n",
       "    <tr>\n",
       "      <th>97</th>\n",
       "      <td>0.09656</td>\n",
       "      <td>0.13564</td>\n",
       "      <td>0.11751</td>\n",
       "      <td>0.00000</td>\n",
       "      <td>1.0</td>\n",
       "    </tr>\n",
       "    <tr>\n",
       "      <th>95</th>\n",
       "      <td>0.88319</td>\n",
       "      <td>0.92232</td>\n",
       "      <td>0.91375</td>\n",
       "      <td>0.00000</td>\n",
       "      <td>1.0</td>\n",
       "    </tr>\n",
       "    <tr>\n",
       "      <th>94</th>\n",
       "      <td>0.16393</td>\n",
       "      <td>0.20308</td>\n",
       "      <td>0.18574</td>\n",
       "      <td>0.00000</td>\n",
       "      <td>1.0</td>\n",
       "    </tr>\n",
       "    <tr>\n",
       "      <th>93</th>\n",
       "      <td>0.65827</td>\n",
       "      <td>0.69726</td>\n",
       "      <td>0.68595</td>\n",
       "      <td>0.00000</td>\n",
       "      <td>1.0</td>\n",
       "    </tr>\n",
       "    <tr>\n",
       "      <th>92</th>\n",
       "      <td>0.62729</td>\n",
       "      <td>0.66655</td>\n",
       "      <td>0.65484</td>\n",
       "      <td>0.00000</td>\n",
       "      <td>1.0</td>\n",
       "    </tr>\n",
       "    <tr>\n",
       "      <th>91</th>\n",
       "      <td>0.71150</td>\n",
       "      <td>0.75066</td>\n",
       "      <td>0.73999</td>\n",
       "      <td>0.00000</td>\n",
       "      <td>1.0</td>\n",
       "    </tr>\n",
       "    <tr>\n",
       "      <th>...</th>\n",
       "      <td>...</td>\n",
       "      <td>...</td>\n",
       "      <td>...</td>\n",
       "      <td>...</td>\n",
       "      <td>...</td>\n",
       "    </tr>\n",
       "    <tr>\n",
       "      <th>23</th>\n",
       "      <td>0.08371</td>\n",
       "      <td>0.12265</td>\n",
       "      <td>0.10442</td>\n",
       "      <td>0.00000</td>\n",
       "      <td>1.0</td>\n",
       "    </tr>\n",
       "    <tr>\n",
       "      <th>26</th>\n",
       "      <td>0.87868</td>\n",
       "      <td>0.91777</td>\n",
       "      <td>0.90913</td>\n",
       "      <td>0.00000</td>\n",
       "      <td>1.0</td>\n",
       "    </tr>\n",
       "    <tr>\n",
       "      <th>44</th>\n",
       "      <td>0.88934</td>\n",
       "      <td>0.92834</td>\n",
       "      <td>0.91982</td>\n",
       "      <td>0.00000</td>\n",
       "      <td>1.0</td>\n",
       "    </tr>\n",
       "    <tr>\n",
       "      <th>43</th>\n",
       "      <td>0.39333</td>\n",
       "      <td>0.43222</td>\n",
       "      <td>0.41774</td>\n",
       "      <td>0.00000</td>\n",
       "      <td>1.0</td>\n",
       "    </tr>\n",
       "    <tr>\n",
       "      <th>42</th>\n",
       "      <td>0.06073</td>\n",
       "      <td>0.09955</td>\n",
       "      <td>0.08110</td>\n",
       "      <td>0.00000</td>\n",
       "      <td>1.0</td>\n",
       "    </tr>\n",
       "    <tr>\n",
       "      <th>41</th>\n",
       "      <td>0.79174</td>\n",
       "      <td>0.83061</td>\n",
       "      <td>0.82091</td>\n",
       "      <td>0.00000</td>\n",
       "      <td>1.0</td>\n",
       "    </tr>\n",
       "    <tr>\n",
       "      <th>40</th>\n",
       "      <td>0.03874</td>\n",
       "      <td>0.07796</td>\n",
       "      <td>0.05906</td>\n",
       "      <td>0.00000</td>\n",
       "      <td>1.0</td>\n",
       "    </tr>\n",
       "    <tr>\n",
       "      <th>39</th>\n",
       "      <td>0.12597</td>\n",
       "      <td>0.16497</td>\n",
       "      <td>0.14723</td>\n",
       "      <td>0.00000</td>\n",
       "      <td>1.0</td>\n",
       "    </tr>\n",
       "    <tr>\n",
       "      <th>38</th>\n",
       "      <td>0.52057</td>\n",
       "      <td>0.55992</td>\n",
       "      <td>0.54690</td>\n",
       "      <td>0.00000</td>\n",
       "      <td>1.0</td>\n",
       "    </tr>\n",
       "    <tr>\n",
       "      <th>36</th>\n",
       "      <td>0.93847</td>\n",
       "      <td>0.97724</td>\n",
       "      <td>0.96929</td>\n",
       "      <td>0.00000</td>\n",
       "      <td>1.0</td>\n",
       "    </tr>\n",
       "    <tr>\n",
       "      <th>35</th>\n",
       "      <td>0.87298</td>\n",
       "      <td>0.91193</td>\n",
       "      <td>0.90321</td>\n",
       "      <td>0.00000</td>\n",
       "      <td>1.0</td>\n",
       "    </tr>\n",
       "    <tr>\n",
       "      <th>37</th>\n",
       "      <td>0.84815</td>\n",
       "      <td>0.88734</td>\n",
       "      <td>0.87834</td>\n",
       "      <td>0.00000</td>\n",
       "      <td>1.0</td>\n",
       "    </tr>\n",
       "    <tr>\n",
       "      <th>34</th>\n",
       "      <td>0.81535</td>\n",
       "      <td>0.85436</td>\n",
       "      <td>0.84495</td>\n",
       "      <td>0.00000</td>\n",
       "      <td>1.0</td>\n",
       "    </tr>\n",
       "    <tr>\n",
       "      <th>27</th>\n",
       "      <td>0.36737</td>\n",
       "      <td>0.40629</td>\n",
       "      <td>0.39148</td>\n",
       "      <td>0.00000</td>\n",
       "      <td>1.0</td>\n",
       "    </tr>\n",
       "    <tr>\n",
       "      <th>28</th>\n",
       "      <td>0.32013</td>\n",
       "      <td>0.35927</td>\n",
       "      <td>0.34384</td>\n",
       "      <td>0.00000</td>\n",
       "      <td>1.0</td>\n",
       "    </tr>\n",
       "    <tr>\n",
       "      <th>30</th>\n",
       "      <td>0.26185</td>\n",
       "      <td>0.30106</td>\n",
       "      <td>0.28489</td>\n",
       "      <td>0.00000</td>\n",
       "      <td>1.0</td>\n",
       "    </tr>\n",
       "    <tr>\n",
       "      <th>31</th>\n",
       "      <td>0.34663</td>\n",
       "      <td>0.38566</td>\n",
       "      <td>0.37058</td>\n",
       "      <td>0.00000</td>\n",
       "      <td>1.0</td>\n",
       "    </tr>\n",
       "    <tr>\n",
       "      <th>29</th>\n",
       "      <td>0.76680</td>\n",
       "      <td>0.80567</td>\n",
       "      <td>0.79568</td>\n",
       "      <td>0.00000</td>\n",
       "      <td>1.0</td>\n",
       "    </tr>\n",
       "    <tr>\n",
       "      <th>33</th>\n",
       "      <td>0.45789</td>\n",
       "      <td>0.49689</td>\n",
       "      <td>0.48316</td>\n",
       "      <td>0.00000</td>\n",
       "      <td>1.0</td>\n",
       "    </tr>\n",
       "    <tr>\n",
       "      <th>32</th>\n",
       "      <td>0.33175</td>\n",
       "      <td>0.37060</td>\n",
       "      <td>0.35539</td>\n",
       "      <td>0.00000</td>\n",
       "      <td>1.0</td>\n",
       "    </tr>\n",
       "    <tr>\n",
       "      <th>99</th>\n",
       "      <td>0.67410</td>\n",
       "      <td>0.71283</td>\n",
       "      <td>0.70173</td>\n",
       "      <td>0.00000</td>\n",
       "      <td>1.0</td>\n",
       "    </tr>\n",
       "    <tr>\n",
       "      <th>84</th>\n",
       "      <td>0.01286</td>\n",
       "      <td>0.05214</td>\n",
       "      <td>0.03290</td>\n",
       "      <td>0.00103</td>\n",
       "      <td>1.0</td>\n",
       "    </tr>\n",
       "    <tr>\n",
       "      <th>96</th>\n",
       "      <td>0.00704</td>\n",
       "      <td>0.04594</td>\n",
       "      <td>0.02681</td>\n",
       "      <td>0.00690</td>\n",
       "      <td>0.0</td>\n",
       "    </tr>\n",
       "    <tr>\n",
       "      <th>56</th>\n",
       "      <td>0.00568</td>\n",
       "      <td>0.04451</td>\n",
       "      <td>0.02540</td>\n",
       "      <td>0.01037</td>\n",
       "      <td>0.0</td>\n",
       "    </tr>\n",
       "    <tr>\n",
       "      <th>24</th>\n",
       "      <td>0.00002</td>\n",
       "      <td>0.03890</td>\n",
       "      <td>0.01969</td>\n",
       "      <td>0.04710</td>\n",
       "      <td>0.0</td>\n",
       "    </tr>\n",
       "    <tr>\n",
       "      <th>70</th>\n",
       "      <td>-0.00013</td>\n",
       "      <td>0.03891</td>\n",
       "      <td>0.01963</td>\n",
       "      <td>0.04873</td>\n",
       "      <td>0.0</td>\n",
       "    </tr>\n",
       "    <tr>\n",
       "      <th>1</th>\n",
       "      <td>-0.05466</td>\n",
       "      <td>0.04820</td>\n",
       "      <td>-0.03588</td>\n",
       "      <td>0.17152</td>\n",
       "      <td>0.0</td>\n",
       "    </tr>\n",
       "    <tr>\n",
       "      <th>3</th>\n",
       "      <td>-0.05133</td>\n",
       "      <td>0.09723</td>\n",
       "      <td>0.02951</td>\n",
       "      <td>0.43609</td>\n",
       "      <td>0.0</td>\n",
       "    </tr>\n",
       "    <tr>\n",
       "      <th>48</th>\n",
       "      <td>-0.02280</td>\n",
       "      <td>0.01587</td>\n",
       "      <td>-0.00351</td>\n",
       "      <td>0.72210</td>\n",
       "      <td>0.0</td>\n",
       "    </tr>\n",
       "    <tr>\n",
       "      <th>60</th>\n",
       "      <td>-0.02237</td>\n",
       "      <td>0.01656</td>\n",
       "      <td>-0.00294</td>\n",
       "      <td>0.76735</td>\n",
       "      <td>0.0</td>\n",
       "    </tr>\n",
       "  </tbody>\n",
       "</table>\n",
       "<p>100 rows × 5 columns</p>\n",
       "</div>"
      ],
      "text/plain": [
       "          0        1        2        3    4\n",
       "0   0.64891  0.68808  0.67664  0.00000  1.0\n",
       "71  0.21662  0.25563  0.23898  0.00000  1.0\n",
       "69  0.80151  0.84047  0.83088  0.00000  1.0\n",
       "68  0.87999  0.91930  0.91070  0.00000  1.0\n",
       "67  0.43403  0.47292  0.45892  0.00000  1.0\n",
       "66  0.29583  0.33483  0.31914  0.00000  1.0\n",
       "65  0.23931  0.27835  0.26196  0.00000  1.0\n",
       "64  0.67367  0.71264  0.70152  0.00000  1.0\n",
       "63  0.91783  0.95697  0.94881  0.00000  1.0\n",
       "62  0.67851  0.71750  0.70644  0.00000  1.0\n",
       "61  0.30721  0.34616  0.33062  0.00000  1.0\n",
       "59  0.85807  0.89721  0.88833  0.00000  1.0\n",
       "58  0.37178  0.41093  0.39612  0.00000  1.0\n",
       "57  0.83131  0.87029  0.86107  0.00000  1.0\n",
       "55  0.72131  0.76037  0.74983  0.00000  1.0\n",
       "54  0.23164  0.27032  0.25396  0.00000  1.0\n",
       "53  0.81984  0.85862  0.84925  0.00000  1.0\n",
       "52  0.19992  0.23883  0.22202  0.00000  1.0\n",
       "51  0.77583  0.81517  0.80529  0.00000  1.0\n",
       "50  0.06609  0.10489  0.08651  0.00000  1.0\n",
       "72  0.14329  0.18218  0.16469  0.00000  1.0\n",
       "73  0.75257  0.79158  0.78141  0.00000  1.0\n",
       "74  0.90686  0.94559  0.93726  0.00000  1.0\n",
       "75  0.07875  0.11737  0.09922  0.00000  1.0\n",
       "97  0.09656  0.13564  0.11751  0.00000  1.0\n",
       "95  0.88319  0.92232  0.91375  0.00000  1.0\n",
       "94  0.16393  0.20308  0.18574  0.00000  1.0\n",
       "93  0.65827  0.69726  0.68595  0.00000  1.0\n",
       "92  0.62729  0.66655  0.65484  0.00000  1.0\n",
       "91  0.71150  0.75066  0.73999  0.00000  1.0\n",
       "..      ...      ...      ...      ...  ...\n",
       "23  0.08371  0.12265  0.10442  0.00000  1.0\n",
       "26  0.87868  0.91777  0.90913  0.00000  1.0\n",
       "44  0.88934  0.92834  0.91982  0.00000  1.0\n",
       "43  0.39333  0.43222  0.41774  0.00000  1.0\n",
       "42  0.06073  0.09955  0.08110  0.00000  1.0\n",
       "41  0.79174  0.83061  0.82091  0.00000  1.0\n",
       "40  0.03874  0.07796  0.05906  0.00000  1.0\n",
       "39  0.12597  0.16497  0.14723  0.00000  1.0\n",
       "38  0.52057  0.55992  0.54690  0.00000  1.0\n",
       "36  0.93847  0.97724  0.96929  0.00000  1.0\n",
       "35  0.87298  0.91193  0.90321  0.00000  1.0\n",
       "37  0.84815  0.88734  0.87834  0.00000  1.0\n",
       "34  0.81535  0.85436  0.84495  0.00000  1.0\n",
       "27  0.36737  0.40629  0.39148  0.00000  1.0\n",
       "28  0.32013  0.35927  0.34384  0.00000  1.0\n",
       "30  0.26185  0.30106  0.28489  0.00000  1.0\n",
       "31  0.34663  0.38566  0.37058  0.00000  1.0\n",
       "29  0.76680  0.80567  0.79568  0.00000  1.0\n",
       "33  0.45789  0.49689  0.48316  0.00000  1.0\n",
       "32  0.33175  0.37060  0.35539  0.00000  1.0\n",
       "99  0.67410  0.71283  0.70173  0.00000  1.0\n",
       "84  0.01286  0.05214  0.03290  0.00103  1.0\n",
       "96  0.00704  0.04594  0.02681  0.00690  0.0\n",
       "56  0.00568  0.04451  0.02540  0.01037  0.0\n",
       "24  0.00002  0.03890  0.01969  0.04710  0.0\n",
       "70 -0.00013  0.03891  0.01963  0.04873  0.0\n",
       "1  -0.05466  0.04820 -0.03588  0.17152  0.0\n",
       "3  -0.05133  0.09723  0.02951  0.43609  0.0\n",
       "48 -0.02280  0.01587 -0.00351  0.72210  0.0\n",
       "60 -0.02237  0.01656 -0.00294  0.76735  0.0\n",
       "\n",
       "[100 rows x 5 columns]"
      ]
     },
     "execution_count": 459,
     "metadata": {},
     "output_type": "execute_result"
    }
   ],
   "source": [
    "pd.DataFrame(np.vstack((confint, theta_hat, pvalues, reject_null))).T.round(5).sort_values(3)"
   ]
  },
  {
   "cell_type": "code",
   "execution_count": 216,
   "metadata": {},
   "outputs": [
    {
     "data": {
      "text/plain": [
       "array([3.3098757e+03, 1.0000054e+00, 1.3280866e+04, 1.0000002e+04,\n",
       "       3.2953818e+03, 3.9959098e+04, 3.3271277e+03, 3.2418362e+03,\n",
       "       3.3766470e+03, 3.3513311e+03, 1.3370564e+04, 3.3278027e+03,\n",
       "       3.3429973e+03, 3.3903960e+03, 3.3288943e+03, 3.3012959e+03,\n",
       "       3.3557637e+03, 3.3494333e+03, 3.3466501e+03, 3.3491780e+03,\n",
       "       3.3386309e+03, 3.3656353e+03, 3.3237383e+03, 3.3867146e+03,\n",
       "       3.3392017e+03, 3.3429456e+03, 3.3158232e+03, 3.3656968e+03,\n",
       "       3.3335515e+03, 3.3931687e+03, 3.3605908e+03, 3.3271628e+03,\n",
       "       3.3640464e+03, 3.3003259e+03, 3.3333813e+03, 3.4003457e+03,\n",
       "       3.3673474e+03, 3.3427490e+03, 3.3461602e+03, 3.3084912e+03,\n",
       "       3.3355435e+03, 3.3611794e+03, 3.3232886e+03, 3.3373396e+03,\n",
       "       3.3133499e+03, 3.3792339e+03, 3.3764436e+03, 3.3331257e+03,\n",
       "       3.3230059e+03, 3.3365291e+03, 3.3376101e+03, 3.3067678e+03,\n",
       "       3.3239172e+03, 3.3530774e+03, 3.3377297e+03, 3.3086296e+03,\n",
       "       3.3094517e+03, 3.3433538e+03, 3.3164985e+03, 3.2875898e+03,\n",
       "       3.3501604e+03, 3.3346851e+03, 3.3145020e+03, 3.3352378e+03,\n",
       "       3.3082241e+03, 3.3410691e+03, 3.4189062e+03, 3.3291479e+03,\n",
       "       3.2828689e+03, 3.3806201e+03, 3.3654861e+03, 3.3597593e+03,\n",
       "       3.3683564e+03, 3.3406035e+03, 3.3593960e+03, 3.3085132e+03,\n",
       "       3.3304089e+03, 3.3504771e+03, 3.3071782e+03, 3.3106052e+03,\n",
       "       3.3423770e+03, 3.3164509e+03, 3.3122458e+03, 3.3832959e+03,\n",
       "       3.3364785e+03, 3.3462141e+03, 3.3138704e+03, 3.3526467e+03,\n",
       "       3.3450129e+03, 3.3093391e+03, 3.3381089e+03, 3.3453677e+03,\n",
       "       3.3114470e+03, 3.3321843e+03, 3.3602141e+03, 3.3232097e+03,\n",
       "       3.3257900e+03, 3.3263296e+03, 3.3433059e+03, 3.3183201e+03],\n",
       "      dtype=float32)"
      ]
     },
     "execution_count": 216,
     "metadata": {},
     "output_type": "execute_result"
    }
   ],
   "source": [
    "VS2 = \n"
   ]
  },
  {
   "cell_type": "code",
   "execution_count": 156,
   "metadata": {},
   "outputs": [],
   "source": [
    "@njit(fastmath = True)\n",
    "def ridgeCV(X, U, S, VT):\n",
    "    cast = X.dtype\n",
    "    cond = S < np_finfo(cast).eps*S[0]\n",
    "    ys = y.astype(X.dtype)\n",
    "    \n",
    "    S_square = np_square(S)\n",
    "    aics = np.zeros(100-1).astype(cast)\n",
    "    UT = U.T\n",
    "    V = VT.T\n",
    "    _2pi = np.sqrt(2*np.pi)\n",
    "    i = 0\n",
    "    \n",
    "    for alpha in prange(1, 100):\n",
    "        _S = np_divide(S, ( S_square + alpha*1.0 ) ).astype(cast)\n",
    "        _S[cond] *= 0.0\n",
    "    \n",
    "        theta_hat = np_multiply( V, _S ).dot( U.T.dot( ys ) )\n",
    "    \n",
    "        y_hat = X.dot(theta_hat)\n",
    "        e_hat = y - y_hat\n",
    "\n",
    "        e_hat_square_sum = np_square(e_hat).sum()\n",
    "        sigma_hat2 = e_hat_square_sum / (n-p)\n",
    "        \n",
    "        U_S = np_multiply(  U,  np_multiply(  S, _S )  )\n",
    "        h = np_multiply(a, b).sum(1)\n",
    "\n",
    "        press_alpha = np_multiply(   np_divide( 1.0, (1-h) ) ,  e_hat)\n",
    "        LOOCV_alpha = 1.0/n * np_square(press_alpha).sum()\n",
    "        \n",
    "        _2p = 2 * np_multiply(  S, _S ).sum()\n",
    "        _2logL = 2*n*np.log(  _2pi  * np.sqrt(sigma_hat2) ) + 1/sigma_hat2*e_hat_square_sum\n",
    "        AIC = _2p + _2logL\n",
    "        \n",
    "#         aics[i] = AIC\n",
    "    return aics"
   ]
  },
  {
   "cell_type": "code",
   "execution_count": 173,
   "metadata": {
    "scrolled": true
   },
   "outputs": [
    {
     "name": "stdout",
     "output_type": "stream",
     "text": [
      "Wall time: 561 ms\n"
     ]
    },
    {
     "data": {
      "text/plain": [
       "[0.08307331866733231,\n",
       " 0.0830840281753515,\n",
       " 0.08310215490654096,\n",
       " 0.08312678187893599,\n",
       " 0.08315715723531605,\n",
       " 0.0831926353875286,\n",
       " 0.08323266709848368,\n",
       " 0.0832767902715319,\n",
       " 0.08332455539370646,\n",
       " 0.08337568908531823,\n",
       " 0.08342986258252334,\n",
       " 0.08348684002986599,\n",
       " 0.08354639783456985,\n",
       " 0.08360833484369463,\n",
       " 0.08367249732578148,\n",
       " 0.08373875864598547,\n",
       " 0.08380699516185043,\n",
       " 0.0838770839475852,\n",
       " 0.08394894448992495,\n",
       " 0.08402248848215016,\n",
       " 0.08409765922458842,\n",
       " 0.08417439571867133,\n",
       " 0.08425263591649362,\n",
       " 0.08433233985669138,\n",
       " 0.08441346527900233,\n",
       " 0.08449594222061357,\n",
       " 0.08457982036708796,\n",
       " 0.08466500783101011,\n",
       " 0.08475149115618481,\n",
       " 0.08483926748909532,\n",
       " 0.08492830274628257,\n",
       " 0.08501856225400942,\n",
       " 0.08511008671377707,\n",
       " 0.08520279361862539,\n",
       " 0.08529672492447168,\n",
       " 0.08539186399512387,\n",
       " 0.08548817668769852,\n",
       " 0.08558565465621869,\n",
       " 0.08568430574289847,\n",
       " 0.08578413690535022,\n",
       " 0.08588508489154446,\n",
       " 0.08598722202911725,\n",
       " 0.08609051309152847,\n",
       " 0.08619489451609257,\n",
       " 0.08630044030286874,\n",
       " 0.08640710219842458,\n",
       " 0.08651490712831095,\n",
       " 0.08662382316901598,\n",
       " 0.08673384177668289,\n",
       " 0.08684499577086083,\n",
       " 0.08695723376093958,\n",
       " 0.0870705940774703,\n",
       " 0.08718506264254774,\n",
       " 0.0873006030178776,\n",
       " 0.08741726079471633,\n",
       " 0.08753497502503012,\n",
       " 0.0876538197153374,\n",
       " 0.08777373648110978,\n",
       " 0.08789468713326092,\n",
       " 0.08801677240012261,\n",
       " 0.08813988155926414,\n",
       " 0.08826408728196809,\n",
       " 0.08838937558800174,\n",
       " 0.0885156874956889,\n",
       " 0.08864307037601143,\n",
       " 0.08877148120691107,\n",
       " 0.08890097425728849,\n",
       " 0.08903150568931967,\n",
       " 0.08916305469491094,\n",
       " 0.08929567173404536,\n",
       " 0.08942926760420078,\n",
       " 0.08956394426874616,\n",
       " 0.08969965286531452,\n",
       " 0.08983631337202345,\n",
       " 0.08997405217688625,\n",
       " 0.09011274804208592,\n",
       " 0.09025249196319902,\n",
       " 0.09039323996119111,\n",
       " 0.09053494021680022,\n",
       " 0.09067767366454924,\n",
       " 0.09082136707014818,\n",
       " 0.0909660656913509,\n",
       " 0.0911116997367384,\n",
       " 0.0912583548235559,\n",
       " 0.09140599412421611,\n",
       " 0.0915545339141589,\n",
       " 0.0917041073611812,\n",
       " 0.09185456806754962,\n",
       " 0.09200603524892763,\n",
       " 0.09215844189222012,\n",
       " 0.09231171256532593,\n",
       " 0.09246600345470897,\n",
       " 0.09262117023059913,\n",
       " 0.09277730708563718,\n",
       " 0.09293436570445422,\n",
       " 0.09309229190837441,\n",
       " 0.09325117016766374,\n",
       " 0.09341092296136946,\n",
       " 0.09357160556423845]"
      ]
     },
     "execution_count": 173,
     "metadata": {},
     "output_type": "execute_result"
    }
   ],
   "source": [
    "%%time\n",
    "ridgeCV(X, U, S, VT)"
   ]
  },
  {
   "cell_type": "code",
   "execution_count": 158,
   "metadata": {
    "scrolled": false
   },
   "outputs": [
    {
     "name": "stdout",
     "output_type": "stream",
     "text": [
      "Wall time: 1.9 s\n"
     ]
    },
    {
     "data": {
      "text/plain": [
       "array([0., 0., 0., 0., 0., 0., 0., 0., 0., 0., 0., 0., 0., 0., 0., 0., 0.,\n",
       "       0., 0., 0., 0., 0., 0., 0., 0., 0., 0., 0., 0., 0., 0., 0., 0., 0.,\n",
       "       0., 0., 0., 0., 0., 0., 0., 0., 0., 0., 0., 0., 0., 0., 0., 0., 0.,\n",
       "       0., 0., 0., 0., 0., 0., 0., 0., 0., 0., 0., 0., 0., 0., 0., 0., 0.,\n",
       "       0., 0., 0., 0., 0., 0., 0., 0., 0., 0., 0., 0., 0., 0., 0., 0., 0.,\n",
       "       0., 0., 0., 0., 0., 0., 0., 0., 0., 0., 0., 0., 0., 0.],\n",
       "      dtype=float32)"
      ]
     },
     "execution_count": 158,
     "metadata": {},
     "output_type": "execute_result"
    }
   ],
   "source": [
    "%%time\n",
    "ridgeCV(X, U, S, VT)"
   ]
  },
  {
   "cell_type": "code",
   "execution_count": 121,
   "metadata": {},
   "outputs": [
    {
     "name": "stdout",
     "output_type": "stream",
     "text": [
      "Wall time: 6.24 ms\n"
     ]
    },
    {
     "data": {
      "text/plain": [
       "array([0.01045053, 0.5025717 , 0.00998101, ..., 0.01078435, 0.00944504,\n",
       "       0.01247544], dtype=float32)"
      ]
     },
     "execution_count": 121,
     "metadata": {},
     "output_type": "execute_result"
    }
   ],
   "source": [
    "%%time\n"
   ]
  },
  {
   "cell_type": "code",
   "execution_count": 122,
   "metadata": {},
   "outputs": [
    {
     "name": "stdout",
     "output_type": "stream",
     "text": [
      "Wall time: 4.96 ms\n"
     ]
    },
    {
     "data": {
      "text/plain": [
       "array([0.01045053, 0.5025717 , 0.00998101, ..., 0.01078435, 0.00944504,\n",
       "       0.01247544], dtype=float32)"
      ]
     },
     "execution_count": 122,
     "metadata": {},
     "output_type": "execute_result"
    }
   ],
   "source": [
    "%%time\n",
    "einsum('ij,ij->i', a, b)"
   ]
  },
  {
   "cell_type": "code",
   "execution_count": 37,
   "metadata": {},
   "outputs": [
    {
     "data": {
      "text/plain": [
       "array([[-1.9459732e-04, -7.0100800e-06,  2.2696893e-05, ...,\n",
       "        -1.0414936e-04, -2.9384622e-03, -8.6256980e-05],\n",
       "       [-3.7605442e-08,  2.2324598e-07,  2.0560976e-06, ...,\n",
       "         5.9225549e-06,  3.1443167e-04, -4.9998936e-01],\n",
       "       [-3.9359537e-04,  3.4098305e-06, -1.2637928e-04, ...,\n",
       "         3.9970441e-04, -1.6369758e-03,  1.2404993e-04],\n",
       "       ...,\n",
       "       [-1.9353940e-04,  9.7516868e-06, -1.4149634e-05, ...,\n",
       "        -1.7097644e-03, -3.7000829e-03, -5.4802742e-05],\n",
       "       [-1.9285483e-04, -4.6902646e-06,  3.2759312e-05, ...,\n",
       "         8.9914352e-04, -3.0334196e-03,  2.2237733e-04],\n",
       "       [-1.9408550e-04,  1.0725395e-05,  1.2732539e-07, ...,\n",
       "         4.7788685e-03, -3.4125380e-03, -8.2225097e-06]], dtype=float32)"
      ]
     },
     "execution_count": 37,
     "metadata": {},
     "output_type": "execute_result"
    }
   ],
   "source": [
    "np_multiply(a, b)"
   ]
  },
  {
   "cell_type": "code",
   "execution_count": 303,
   "metadata": {},
   "outputs": [],
   "source": [
    "h1 = U.dot(np.diag(S)).dot(np.diag(_S)).dot(np.diag(S)).dot(U.T)"
   ]
  },
  {
   "cell_type": "code",
   "execution_count": 319,
   "metadata": {},
   "outputs": [],
   "source": [
    "H = X.dot( np.linalg.inv(VT.T.dot(np.diag(S**2)).dot(VT)+ np.eye(X.shape[1])*alpha )).dot(X.T)"
   ]
  },
  {
   "cell_type": "code",
   "execution_count": 322,
   "metadata": {},
   "outputs": [],
   "source": [
    "H2 = U.dot(np.diag(S)).dot(np.diag(1/(S**2 + alpha))).dot(np.diag(S)).dot(U.T)"
   ]
  },
  {
   "cell_type": "code",
   "execution_count": 28,
   "metadata": {},
   "outputs": [
    {
     "data": {
      "text/plain": [
       "176.98645"
      ]
     },
     "execution_count": 28,
     "metadata": {},
     "output_type": "execute_result"
    }
   ],
   "source": [
    "U.dot(  np.diag((S**2)/(S**2 + alpha))  ).dot(U.T).diagonal().sum()"
   ]
  },
  {
   "cell_type": "code",
   "execution_count": 29,
   "metadata": {},
   "outputs": [
    {
     "data": {
      "text/plain": [
       "176.98645"
      ]
     },
     "execution_count": 29,
     "metadata": {},
     "output_type": "execute_result"
    }
   ],
   "source": [
    ".dot(U.T).diagonal().sum()"
   ]
  },
  {
   "cell_type": "code",
   "execution_count": 11,
   "metadata": {},
   "outputs": [
    {
     "data": {
      "text/plain": [
       "array([2.4298915e-04, 1.4898354e-04, 6.0480361e-05, 5.1343453e-05,\n",
       "       3.0718784e-05, 3.0543244e-05, 3.0491037e-05, 3.0401838e-05,\n",
       "       3.0366769e-05, 3.0331610e-05, 3.0272480e-05, 3.0206900e-05,\n",
       "       3.0163996e-05, 3.0142977e-05, 3.0037389e-05, 2.9983934e-05,\n",
       "       2.9923991e-05, 2.9863892e-05, 2.9823668e-05, 2.9813269e-05,\n",
       "       2.9778857e-05, 2.9770285e-05, 2.9753928e-05, 2.9659732e-05,\n",
       "       2.9603085e-05, 2.9584540e-05, 2.9569852e-05, 2.9513249e-05,\n",
       "       2.9490568e-05, 2.9439310e-05, 2.9378958e-05, 2.9349409e-05,\n",
       "       2.9339222e-05, 2.9242647e-05, 2.9225024e-05, 2.9175679e-05,\n",
       "       2.9154668e-05, 2.9147666e-05, 2.9123994e-05, 2.9076287e-05,\n",
       "       2.9031218e-05, 2.9015258e-05, 2.8970107e-05, 2.8940420e-05,\n",
       "       2.8900999e-05, 2.8845217e-05, 2.8834758e-05, 2.8783115e-05,\n",
       "       2.8760049e-05, 2.8721586e-05, 2.8673090e-05, 2.8624085e-05,\n",
       "       2.8586406e-05, 2.8579461e-05, 2.8552566e-05, 2.8549832e-05,\n",
       "       2.8515482e-05, 2.8493321e-05, 2.8475717e-05, 2.8447625e-05,\n",
       "       2.8393168e-05, 2.8359962e-05, 2.8345901e-05, 2.8319419e-05,\n",
       "       2.8297700e-05, 2.8252360e-05, 2.8231432e-05, 2.8206090e-05,\n",
       "       2.8160463e-05, 2.8132314e-05, 2.8109485e-05, 2.8064249e-05,\n",
       "       2.8049384e-05, 2.8025204e-05, 2.7969563e-05, 2.7965480e-05,\n",
       "       2.7926462e-05, 2.7896469e-05, 2.7861110e-05, 2.7813621e-05,\n",
       "       2.7796241e-05, 2.7777322e-05, 2.7765260e-05, 2.7716200e-05,\n",
       "       2.7699083e-05, 2.7646045e-05, 2.7607302e-05, 2.7548380e-05,\n",
       "       2.7537893e-05, 2.7516262e-05, 2.7470998e-05, 2.7449159e-05,\n",
       "       2.7439231e-05, 2.7418009e-05, 2.7357650e-05, 2.7321938e-05,\n",
       "       2.7299264e-05, 2.7275901e-05, 2.7235285e-05, 2.7231505e-05,\n",
       "       2.7175845e-05, 2.7152957e-05, 2.7120963e-05, 2.7113903e-05,\n",
       "       2.7084479e-05, 2.7061442e-05, 2.7054912e-05, 2.6995363e-05,\n",
       "       2.6992317e-05, 2.6922829e-05, 2.6893438e-05, 2.6871041e-05,\n",
       "       2.6845664e-05, 2.6829268e-05, 2.6809972e-05, 2.6778034e-05,\n",
       "       2.6759231e-05, 2.6730164e-05, 2.6708971e-05, 2.6683276e-05,\n",
       "       2.6639102e-05, 2.6624788e-05, 2.6554479e-05, 2.6542868e-05,\n",
       "       2.6524658e-05, 2.6480520e-05, 2.6453319e-05, 2.6436552e-05,\n",
       "       2.6422671e-05, 2.6378611e-05, 2.6341286e-05, 2.6316819e-05,\n",
       "       2.6264443e-05, 2.6215108e-05, 2.6204158e-05, 2.6192505e-05,\n",
       "       2.6161608e-05, 2.6127196e-05, 2.6115147e-05, 2.6068439e-05,\n",
       "       2.6036927e-05, 2.6002062e-05, 2.5993726e-05, 2.5969617e-05,\n",
       "       2.5933896e-05, 2.5879515e-05, 2.5860676e-05, 2.5807207e-05,\n",
       "       2.5790288e-05, 2.5745265e-05, 2.5728399e-05, 2.5688307e-05,\n",
       "       2.5648253e-05, 2.5637284e-05, 2.5577454e-05, 2.5555304e-05,\n",
       "       2.5531537e-05, 2.5493964e-05, 2.5474556e-05, 2.5445352e-05,\n",
       "       2.5424968e-05, 2.5376215e-05, 2.5345164e-05, 2.5284273e-05,\n",
       "       2.5242665e-05, 2.5211028e-05, 2.5203834e-05, 2.5161309e-05,\n",
       "       2.5130008e-05, 2.5091769e-05, 2.5057989e-05, 2.5040357e-05,\n",
       "       2.5003572e-05, 2.4942174e-05, 2.4915158e-05, 2.4856174e-05,\n",
       "       2.4825518e-05, 2.4797542e-05, 2.4731144e-05, 2.4706162e-05,\n",
       "       2.4625089e-05, 2.4613335e-05, 2.4584167e-05, 2.4553708e-05,\n",
       "       2.4500750e-05, 2.4471496e-05, 2.4420764e-05, 2.4401945e-05,\n",
       "       2.4354675e-05, 2.4313940e-05, 2.4264031e-05, 2.4206836e-05,\n",
       "       2.4118481e-05, 2.4066687e-05, 2.3971912e-05, 2.3932374e-05,\n",
       "       2.3835260e-05, 2.3710736e-05, 3.9664496e-06, 9.8854287e-07],\n",
       "      dtype=float32)"
      ]
     },
     "execution_count": 11,
     "metadata": {},
     "output_type": "execute_result"
    }
   ],
   "source": [
    "_S"
   ]
  },
  {
   "cell_type": "code",
   "execution_count": 282,
   "metadata": {},
   "outputs": [],
   "source": [
    "a = ridge_solve(X, y, alpha = 1)\n",
    "b = ridge_solve(X, y, alpha = 10)\n",
    "c = ridge_solve(X, y, alpha = 0.1)\n",
    "d = ridge_solve(X, y, alpha = 20)"
   ]
  },
  {
   "cell_type": "code",
   "execution_count": 285,
   "metadata": {},
   "outputs": [
    {
     "data": {
      "text/plain": [
       "(array([ 1.,  1.,  1., 32., 49., 57., 52.,  5.,  1.,  1.]),\n",
       " array([1.2171792e-04, 8.9984432e-02, 1.7984715e-01, 2.6970986e-01,\n",
       "        3.5957259e-01, 4.4943529e-01, 5.3929800e-01, 6.2916070e-01,\n",
       "        7.1902347e-01, 8.0888617e-01, 8.9874887e-01], dtype=float32),\n",
       " <a list of 10 Patch objects>)"
      ]
     },
     "execution_count": 285,
     "metadata": {},
     "output_type": "execute_result"
    },
    {
     "data": {
      "image/png": "[encoded data removed]",
      "text/plain": [
       "<matplotlib.figure.Figure at 0x21fa0661fd0>"
      ]
     },
     "metadata": {},
     "output_type": "display_data"
    }
   ],
   "source": [
    "plt.hist(a, color = 'r', alpha = 0.3)\n",
    "plt.hist(b, color = 'g', alpha = 0.3)\n",
    "plt.hist(c, color = 'b', alpha = 0.3)\n",
    "plt.hist(d, color = 'y', alpha = 0.3)"
   ]
  },
  {
   "cell_type": "code",
   "execution_count": 34,
   "metadata": {},
   "outputs": [
    {
     "name": "stdout",
     "output_type": "stream",
     "text": [
      "Wall time: 64.3 ms\n"
     ]
    },
    {
     "data": {
      "text/plain": [
       "array([0.83624554, 0.03380234, 0.5430859 , 0.41332906, 0.8320945 ,\n",
       "       0.17436351, 0.25454977, 0.8915671 , 0.39349276, 0.94752824,\n",
       "       0.7602116 , 0.66149724, 0.95449746, 0.84473073, 0.94992435,\n",
       "       0.5758355 , 0.40707824, 0.80373806, 0.10123337, 0.17034745,\n",
       "       0.27522388, 0.36991042, 0.8470976 , 0.3799943 , 0.67145663,\n",
       "       0.0485044 , 0.60946906, 0.9260602 , 0.43024987, 0.6458963 ,\n",
       "       0.24803795, 0.42066574, 0.6045591 , 0.41044253, 0.07396811,\n",
       "       0.07456371, 0.08042842, 0.9101907 , 0.91457176, 0.30503413,\n",
       "       0.6071965 , 0.37406138, 0.21456064, 0.81394696, 0.33203754,\n",
       "       0.763892  , 0.6790081 , 0.6813604 , 0.69609046, 0.33636668,\n",
       "       0.73115075, 0.838784  , 0.6211619 , 0.92308974, 0.37518638,\n",
       "       0.6938305 , 0.20850843, 0.8965549 , 0.6139345 , 0.49631262,\n",
       "       0.6316336 , 0.40065506, 0.26190704, 0.23873189, 0.6923202 ,\n",
       "       0.79066235, 0.6865158 , 0.09583098, 0.5015134 , 0.3843173 ,\n",
       "       0.24951595, 0.6505361 , 0.5527284 , 0.06215225, 0.58389026,\n",
       "       0.2666198 , 0.36835805, 0.30127016, 0.70524424, 0.6869457 ,\n",
       "       0.51880825, 0.8070184 , 0.25686422, 0.51104796, 0.10137182,\n",
       "       0.3001724 , 0.89538926, 0.6919897 , 0.24054417, 0.46796304,\n",
       "       0.5332382 , 0.82412314, 0.7181445 , 0.8473188 , 0.04295674,\n",
       "       0.43734342, 0.49499717, 0.85558003, 0.4339879 , 0.4282452 ],\n",
       "      dtype=float32)"
      ]
     },
     "execution_count": 34,
     "metadata": {},
     "output_type": "execute_result"
    }
   ],
   "source": [
    "[[[[[[[[[[[[[[[[[[[[[[[[[[[[[[[[[[[[[[[[[[[[[[[[[[[[[[[[[[[[%%time\n",
    "ridge_solve(X, y, alpha = 2)][]--[[[[[[[-----[---]]]]]]]]"
   ]
  },
  {
   "cell_type": "code",
   "execution_count": 23,
   "metadata": {
    "scrolled": false
   },
   "outputs": [
    {
     "name": "stdout",
     "output_type": "stream",
     "text": [
      "Wall time: 126 ms\n"
     ]
    }
   ],
   "source": [
    "%%time\n",
    "Q, R = qr(X)\n",
    "U, S, VT = svd(X)"
   ]
  },
  {
   "cell_type": "code",
   "execution_count": 118,
   "metadata": {},
   "outputs": [
    {
     "data": {
      "text/plain": [
       "100.0"
      ]
     },
     "execution_count": 118,
     "metadata": {},
     "output_type": "execute_result"
    }
   ],
   "source": [
    "_XTX, h = svd_stats(U, S, VT)\n",
    "_XTX.dot( dot(X.T, X) ).diagonal().round(3).sum()"
   ]
  },
  {
   "cell_type": "code",
   "execution_count": 119,
   "metadata": {},
   "outputs": [
    {
     "data": {
      "text/plain": [
       "100.013"
      ]
     },
     "execution_count": 119,
     "metadata": {},
     "output_type": "execute_result"
    }
   ],
   "source": [
    "_XTX, h = qr_stats(Q, R)\n",
    "_XTX.dot( dot(X.T, X) ).diagonal().round(3).sum()"
   ]
  },
  {
   "cell_type": "code",
   "execution_count": 62,
   "metadata": {},
   "outputs": [
    {
     "name": "stdout",
     "output_type": "stream",
     "text": [
      "Wall time: 12.1 s\n"
     ]
    }
   ],
   "source": [
    "%%time\n",
    "j = _fast_QR_solve(X.astype(np_float64), y.astype(np_float64))"
   ]
  },
  {
   "cell_type": "code",
   "execution_count": 27,
   "metadata": {
    "scrolled": true
   },
   "outputs": [
    {
     "name": "stderr",
     "output_type": "stream",
     "text": [
      "C:\\Anaconda\\lib\\site-packages\\ipykernel_launcher.py:1: FutureWarning: `rcond` parameter will change to the default of machine precision times ``max(M, N)`` where M and N are the input matrix dimensions.\n",
      "To use the future default and silence this warning we advise to pass `rcond=None`, to keep using the old, explicitly pass `rcond=-1`.\n",
      "  \"\"\"Entry point for launching an IPython kernel.\n"
     ]
    },
    {
     "name": "stdout",
     "output_type": "stream",
     "text": [
      "Wall time: 7.9 s\n"
     ]
    }
   ],
   "source": [
    "%%time\n",
    "j = np_lstsq(X.astype(np_float64), y); j = None; gc.collect();"
   ]
  },
  {
   "cell_type": "code",
   "execution_count": 31,
   "metadata": {},
   "outputs": [
    {
     "name": "stdout",
     "output_type": "stream",
     "text": [
      "Wall time: 12.3 s\n"
     ]
    }
   ],
   "source": [
    "%%time\n",
    "j = qr(X.astype(np_float64)); j = None; gc.collect();"
   ]
  },
  {
   "cell_type": "code",
   "execution_count": 28,
   "metadata": {
    "scrolled": true
   },
   "outputs": [
    {
     "name": "stdout",
     "output_type": "stream",
     "text": [
      "Wall time: 8.04 s\n"
     ]
    }
   ],
   "source": [
    "%%time\n",
    "j = _STABLE_LSTSQ(X.astype(np_float64), y, check_finite = False); j = None; gc.collect();"
   ]
  },
  {
   "cell_type": "code",
   "execution_count": 29,
   "metadata": {
    "scrolled": true
   },
   "outputs": [
    {
     "name": "stdout",
     "output_type": "stream",
     "text": [
      "Wall time: 7.76 s\n"
     ]
    }
   ],
   "source": [
    "%%time\n",
    "j = lstsq(X.astype(np_float64), y); j = None; gc.collect();"
   ]
  },
  {
   "cell_type": "code",
   "execution_count": 59,
   "metadata": {},
   "outputs": [
    {
     "ename": "AttributeError",
     "evalue": "Failed at nopython (nopython frontend)\n'Signature' object has no attribute 'items'",
     "output_type": "error",
     "traceback": [
      "\u001b[1;31m---------------------------------------------------------------------------\u001b[0m",
      "\u001b[1;31mAttributeError\u001b[0m                            Traceback (most recent call last)",
      "\u001b[1;32m<timed exec>\u001b[0m in \u001b[0;36m<module>\u001b[1;34m()\u001b[0m\n",
      "\u001b[1;32m<ipython-input-58-68b58eb1864c>\u001b[0m in \u001b[0;36msvd\u001b[1;34m(X)\u001b[0m\n\u001b[0;32m     35\u001b[0m \u001b[1;33m\u001b[0m\u001b[0m\n\u001b[0;32m     36\u001b[0m \u001b[1;32mdef\u001b[0m \u001b[0msvd\u001b[0m\u001b[1;33m(\u001b[0m\u001b[0mX\u001b[0m\u001b[1;33m)\u001b[0m\u001b[1;33m:\u001b[0m\u001b[1;33m\u001b[0m\u001b[0m\n\u001b[1;32m---> 37\u001b[1;33m     \u001b[1;32mif\u001b[0m \u001b[0mX\u001b[0m\u001b[1;33m.\u001b[0m\u001b[0mdtype\u001b[0m \u001b[1;33m==\u001b[0m \u001b[0mnp_float32\u001b[0m\u001b[1;33m:\u001b[0m \u001b[1;32mreturn\u001b[0m \u001b[0msvd_float32\u001b[0m\u001b[1;33m(\u001b[0m\u001b[0mX\u001b[0m\u001b[1;33m)\u001b[0m\u001b[1;33m\u001b[0m\u001b[0m\n\u001b[0m\u001b[0;32m     38\u001b[0m     \u001b[1;32melif\u001b[0m \u001b[0mX\u001b[0m\u001b[1;33m.\u001b[0m\u001b[0mdtype\u001b[0m \u001b[1;33m==\u001b[0m \u001b[0mnp_float64\u001b[0m\u001b[1;33m:\u001b[0m \u001b[1;32mreturn\u001b[0m \u001b[0msvd_float64\u001b[0m\u001b[1;33m(\u001b[0m\u001b[0mX\u001b[0m\u001b[1;33m)\u001b[0m\u001b[1;33m\u001b[0m\u001b[0m\n\u001b[0;32m     39\u001b[0m     \u001b[1;32melse\u001b[0m\u001b[1;33m:\u001b[0m \u001b[1;32mreturn\u001b[0m \u001b[0msvd_float32\u001b[0m\u001b[1;33m(\u001b[0m\u001b[0mX\u001b[0m\u001b[1;33m.\u001b[0m\u001b[0mastype\u001b[0m\u001b[1;33m(\u001b[0m\u001b[0mnp_float32\u001b[0m\u001b[1;33m)\u001b[0m\u001b[1;33m)\u001b[0m\u001b[1;33m\u001b[0m\u001b[0m\n",
      "\u001b[1;32mC:\\Anaconda\\lib\\site-packages\\numba\\dispatcher.py\u001b[0m in \u001b[0;36m_compile_for_args\u001b[1;34m(self, *args, **kws)\u001b[0m\n\u001b[0;32m    305\u001b[0m                 \u001b[0margtypes\u001b[0m\u001b[1;33m.\u001b[0m\u001b[0mappend\u001b[0m\u001b[1;33m(\u001b[0m\u001b[0mself\u001b[0m\u001b[1;33m.\u001b[0m\u001b[0mtypeof_pyval\u001b[0m\u001b[1;33m(\u001b[0m\u001b[0ma\u001b[0m\u001b[1;33m)\u001b[0m\u001b[1;33m)\u001b[0m\u001b[1;33m\u001b[0m\u001b[0m\n\u001b[0;32m    306\u001b[0m         \u001b[1;32mtry\u001b[0m\u001b[1;33m:\u001b[0m\u001b[1;33m\u001b[0m\u001b[0m\n\u001b[1;32m--> 307\u001b[1;33m             \u001b[1;32mreturn\u001b[0m \u001b[0mself\u001b[0m\u001b[1;33m.\u001b[0m\u001b[0mcompile\u001b[0m\u001b[1;33m(\u001b[0m\u001b[0mtuple\u001b[0m\u001b[1;33m(\u001b[0m\u001b[0margtypes\u001b[0m\u001b[1;33m)\u001b[0m\u001b[1;33m)\u001b[0m\u001b[1;33m\u001b[0m\u001b[0m\n\u001b[0m\u001b[0;32m    308\u001b[0m         \u001b[1;32mexcept\u001b[0m \u001b[0merrors\u001b[0m\u001b[1;33m.\u001b[0m\u001b[0mTypingError\u001b[0m \u001b[1;32mas\u001b[0m \u001b[0me\u001b[0m\u001b[1;33m:\u001b[0m\u001b[1;33m\u001b[0m\u001b[0m\n\u001b[0;32m    309\u001b[0m             \u001b[1;31m# Intercept typing error that may be due to an argument\u001b[0m\u001b[1;33m\u001b[0m\u001b[1;33m\u001b[0m\u001b[0m\n",
      "\u001b[1;32mC:\\Anaconda\\lib\\site-packages\\numba\\dispatcher.py\u001b[0m in \u001b[0;36mcompile\u001b[1;34m(self, sig)\u001b[0m\n\u001b[0;32m    577\u001b[0m \u001b[1;33m\u001b[0m\u001b[0m\n\u001b[0;32m    578\u001b[0m                 \u001b[0mself\u001b[0m\u001b[1;33m.\u001b[0m\u001b[0m_cache_misses\u001b[0m\u001b[1;33m[\u001b[0m\u001b[0msig\u001b[0m\u001b[1;33m]\u001b[0m \u001b[1;33m+=\u001b[0m \u001b[1;36m1\u001b[0m\u001b[1;33m\u001b[0m\u001b[0m\n\u001b[1;32m--> 579\u001b[1;33m                 \u001b[0mcres\u001b[0m \u001b[1;33m=\u001b[0m \u001b[0mself\u001b[0m\u001b[1;33m.\u001b[0m\u001b[0m_compiler\u001b[0m\u001b[1;33m.\u001b[0m\u001b[0mcompile\u001b[0m\u001b[1;33m(\u001b[0m\u001b[0margs\u001b[0m\u001b[1;33m,\u001b[0m \u001b[0mreturn_type\u001b[0m\u001b[1;33m)\u001b[0m\u001b[1;33m\u001b[0m\u001b[0m\n\u001b[0m\u001b[0;32m    580\u001b[0m                 \u001b[0mself\u001b[0m\u001b[1;33m.\u001b[0m\u001b[0madd_overload\u001b[0m\u001b[1;33m(\u001b[0m\u001b[0mcres\u001b[0m\u001b[1;33m)\u001b[0m\u001b[1;33m\u001b[0m\u001b[0m\n\u001b[0;32m    581\u001b[0m                 \u001b[0mself\u001b[0m\u001b[1;33m.\u001b[0m\u001b[0m_cache\u001b[0m\u001b[1;33m.\u001b[0m\u001b[0msave_overload\u001b[0m\u001b[1;33m(\u001b[0m\u001b[0msig\u001b[0m\u001b[1;33m,\u001b[0m \u001b[0mcres\u001b[0m\u001b[1;33m)\u001b[0m\u001b[1;33m\u001b[0m\u001b[0m\n",
      "\u001b[1;32mC:\\Anaconda\\lib\\site-packages\\numba\\dispatcher.py\u001b[0m in \u001b[0;36mcompile\u001b[1;34m(self, args, return_type)\u001b[0m\n\u001b[0;32m     78\u001b[0m                                       \u001b[0mimpl\u001b[0m\u001b[1;33m,\u001b[0m\u001b[1;33m\u001b[0m\u001b[0m\n\u001b[0;32m     79\u001b[0m                                       \u001b[0margs\u001b[0m\u001b[1;33m=\u001b[0m\u001b[0margs\u001b[0m\u001b[1;33m,\u001b[0m \u001b[0mreturn_type\u001b[0m\u001b[1;33m=\u001b[0m\u001b[0mreturn_type\u001b[0m\u001b[1;33m,\u001b[0m\u001b[1;33m\u001b[0m\u001b[0m\n\u001b[1;32m---> 80\u001b[1;33m                                       flags=flags, locals=self.locals)\n\u001b[0m\u001b[0;32m     81\u001b[0m         \u001b[1;31m# Check typing error if object mode is used\u001b[0m\u001b[1;33m\u001b[0m\u001b[1;33m\u001b[0m\u001b[0m\n\u001b[0;32m     82\u001b[0m         \u001b[1;32mif\u001b[0m \u001b[0mcres\u001b[0m\u001b[1;33m.\u001b[0m\u001b[0mtyping_error\u001b[0m \u001b[1;32mis\u001b[0m \u001b[1;32mnot\u001b[0m \u001b[1;32mNone\u001b[0m \u001b[1;32mand\u001b[0m \u001b[1;32mnot\u001b[0m \u001b[0mflags\u001b[0m\u001b[1;33m.\u001b[0m\u001b[0menable_pyobject\u001b[0m\u001b[1;33m:\u001b[0m\u001b[1;33m\u001b[0m\u001b[0m\n",
      "\u001b[1;32mC:\\Anaconda\\lib\\site-packages\\numba\\compiler.py\u001b[0m in \u001b[0;36mcompile_extra\u001b[1;34m(typingctx, targetctx, func, args, return_type, flags, locals, library)\u001b[0m\n\u001b[0;32m    761\u001b[0m     pipeline = Pipeline(typingctx, targetctx, library,\n\u001b[0;32m    762\u001b[0m                         args, return_type, flags, locals)\n\u001b[1;32m--> 763\u001b[1;33m     \u001b[1;32mreturn\u001b[0m \u001b[0mpipeline\u001b[0m\u001b[1;33m.\u001b[0m\u001b[0mcompile_extra\u001b[0m\u001b[1;33m(\u001b[0m\u001b[0mfunc\u001b[0m\u001b[1;33m)\u001b[0m\u001b[1;33m\u001b[0m\u001b[0m\n\u001b[0m\u001b[0;32m    764\u001b[0m \u001b[1;33m\u001b[0m\u001b[0m\n\u001b[0;32m    765\u001b[0m \u001b[1;33m\u001b[0m\u001b[0m\n",
      "\u001b[1;32mC:\\Anaconda\\lib\\site-packages\\numba\\compiler.py\u001b[0m in \u001b[0;36mcompile_extra\u001b[1;34m(self, func)\u001b[0m\n\u001b[0;32m    358\u001b[0m         \u001b[0mself\u001b[0m\u001b[1;33m.\u001b[0m\u001b[0mlifted\u001b[0m \u001b[1;33m=\u001b[0m \u001b[1;33m(\u001b[0m\u001b[1;33m)\u001b[0m\u001b[1;33m\u001b[0m\u001b[0m\n\u001b[0;32m    359\u001b[0m         \u001b[0mself\u001b[0m\u001b[1;33m.\u001b[0m\u001b[0mlifted_from\u001b[0m \u001b[1;33m=\u001b[0m \u001b[1;32mNone\u001b[0m\u001b[1;33m\u001b[0m\u001b[0m\n\u001b[1;32m--> 360\u001b[1;33m         \u001b[1;32mreturn\u001b[0m \u001b[0mself\u001b[0m\u001b[1;33m.\u001b[0m\u001b[0m_compile_bytecode\u001b[0m\u001b[1;33m(\u001b[0m\u001b[1;33m)\u001b[0m\u001b[1;33m\u001b[0m\u001b[0m\n\u001b[0m\u001b[0;32m    361\u001b[0m \u001b[1;33m\u001b[0m\u001b[0m\n\u001b[0;32m    362\u001b[0m     \u001b[1;32mdef\u001b[0m \u001b[0mcompile_ir\u001b[0m\u001b[1;33m(\u001b[0m\u001b[0mself\u001b[0m\u001b[1;33m,\u001b[0m \u001b[0mfunc_ir\u001b[0m\u001b[1;33m,\u001b[0m \u001b[0mlifted\u001b[0m\u001b[1;33m=\u001b[0m\u001b[1;33m(\u001b[0m\u001b[1;33m)\u001b[0m\u001b[1;33m,\u001b[0m \u001b[0mlifted_from\u001b[0m\u001b[1;33m=\u001b[0m\u001b[1;32mNone\u001b[0m\u001b[1;33m)\u001b[0m\u001b[1;33m:\u001b[0m\u001b[1;33m\u001b[0m\u001b[0m\n",
      "\u001b[1;32mC:\\Anaconda\\lib\\site-packages\\numba\\compiler.py\u001b[0m in \u001b[0;36m_compile_bytecode\u001b[1;34m(self)\u001b[0m\n\u001b[0;32m    720\u001b[0m         \"\"\"\n\u001b[0;32m    721\u001b[0m         \u001b[1;32massert\u001b[0m \u001b[0mself\u001b[0m\u001b[1;33m.\u001b[0m\u001b[0mfunc_ir\u001b[0m \u001b[1;32mis\u001b[0m \u001b[1;32mNone\u001b[0m\u001b[1;33m\u001b[0m\u001b[0m\n\u001b[1;32m--> 722\u001b[1;33m         \u001b[1;32mreturn\u001b[0m \u001b[0mself\u001b[0m\u001b[1;33m.\u001b[0m\u001b[0m_compile_core\u001b[0m\u001b[1;33m(\u001b[0m\u001b[1;33m)\u001b[0m\u001b[1;33m\u001b[0m\u001b[0m\n\u001b[0m\u001b[0;32m    723\u001b[0m \u001b[1;33m\u001b[0m\u001b[0m\n\u001b[0;32m    724\u001b[0m     \u001b[1;32mdef\u001b[0m \u001b[0m_compile_ir\u001b[0m\u001b[1;33m(\u001b[0m\u001b[0mself\u001b[0m\u001b[1;33m)\u001b[0m\u001b[1;33m:\u001b[0m\u001b[1;33m\u001b[0m\u001b[0m\n",
      "\u001b[1;32mC:\\Anaconda\\lib\\site-packages\\numba\\compiler.py\u001b[0m in \u001b[0;36m_compile_core\u001b[1;34m(self)\u001b[0m\n\u001b[0;32m    707\u001b[0m \u001b[1;33m\u001b[0m\u001b[0m\n\u001b[0;32m    708\u001b[0m         \u001b[0mpm\u001b[0m\u001b[1;33m.\u001b[0m\u001b[0mfinalize\u001b[0m\u001b[1;33m(\u001b[0m\u001b[1;33m)\u001b[0m\u001b[1;33m\u001b[0m\u001b[0m\n\u001b[1;32m--> 709\u001b[1;33m         \u001b[0mres\u001b[0m \u001b[1;33m=\u001b[0m \u001b[0mpm\u001b[0m\u001b[1;33m.\u001b[0m\u001b[0mrun\u001b[0m\u001b[1;33m(\u001b[0m\u001b[0mself\u001b[0m\u001b[1;33m.\u001b[0m\u001b[0mstatus\u001b[0m\u001b[1;33m)\u001b[0m\u001b[1;33m\u001b[0m\u001b[0m\n\u001b[0m\u001b[0;32m    710\u001b[0m         \u001b[1;32mif\u001b[0m \u001b[0mres\u001b[0m \u001b[1;32mis\u001b[0m \u001b[1;32mnot\u001b[0m \u001b[1;32mNone\u001b[0m\u001b[1;33m:\u001b[0m\u001b[1;33m\u001b[0m\u001b[0m\n\u001b[0;32m    711\u001b[0m             \u001b[1;31m# Early pipeline completion\u001b[0m\u001b[1;33m\u001b[0m\u001b[1;33m\u001b[0m\u001b[0m\n",
      "\u001b[1;32mC:\\Anaconda\\lib\\site-packages\\numba\\compiler.py\u001b[0m in \u001b[0;36mrun\u001b[1;34m(self, status)\u001b[0m\n\u001b[0;32m    244\u001b[0m                     \u001b[1;31m# No more fallback pipelines?\u001b[0m\u001b[1;33m\u001b[0m\u001b[1;33m\u001b[0m\u001b[0m\n\u001b[0;32m    245\u001b[0m                     \u001b[1;32mif\u001b[0m \u001b[0mis_final_pipeline\u001b[0m\u001b[1;33m:\u001b[0m\u001b[1;33m\u001b[0m\u001b[0m\n\u001b[1;32m--> 246\u001b[1;33m                         \u001b[1;32mraise\u001b[0m \u001b[0mpatched_exception\u001b[0m\u001b[1;33m\u001b[0m\u001b[0m\n\u001b[0m\u001b[0;32m    247\u001b[0m                     \u001b[1;31m# Go to next fallback pipeline\u001b[0m\u001b[1;33m\u001b[0m\u001b[1;33m\u001b[0m\u001b[0m\n\u001b[0;32m    248\u001b[0m                     \u001b[1;32melse\u001b[0m\u001b[1;33m:\u001b[0m\u001b[1;33m\u001b[0m\u001b[0m\n",
      "\u001b[1;32mC:\\Anaconda\\lib\\site-packages\\numba\\compiler.py\u001b[0m in \u001b[0;36mrun\u001b[1;34m(self, status)\u001b[0m\n\u001b[0;32m    236\u001b[0m                 \u001b[1;32mtry\u001b[0m\u001b[1;33m:\u001b[0m\u001b[1;33m\u001b[0m\u001b[0m\n\u001b[0;32m    237\u001b[0m                     \u001b[0mevent\u001b[0m\u001b[1;33m(\u001b[0m\u001b[0mstage_name\u001b[0m\u001b[1;33m)\u001b[0m\u001b[1;33m\u001b[0m\u001b[0m\n\u001b[1;32m--> 238\u001b[1;33m                     \u001b[0mstage\u001b[0m\u001b[1;33m(\u001b[0m\u001b[1;33m)\u001b[0m\u001b[1;33m\u001b[0m\u001b[0m\n\u001b[0m\u001b[0;32m    239\u001b[0m                 \u001b[1;32mexcept\u001b[0m \u001b[0m_EarlyPipelineCompletion\u001b[0m \u001b[1;32mas\u001b[0m \u001b[0me\u001b[0m\u001b[1;33m:\u001b[0m\u001b[1;33m\u001b[0m\u001b[0m\n\u001b[0;32m    240\u001b[0m                     \u001b[1;32mreturn\u001b[0m \u001b[0me\u001b[0m\u001b[1;33m.\u001b[0m\u001b[0mresult\u001b[0m\u001b[1;33m\u001b[0m\u001b[0m\n",
      "\u001b[1;32mC:\\Anaconda\\lib\\site-packages\\numba\\compiler.py\u001b[0m in \u001b[0;36mstage_nopython_frontend\u001b[1;34m(self)\u001b[0m\n\u001b[0;32m    450\u001b[0m                 \u001b[0mself\u001b[0m\u001b[1;33m.\u001b[0m\u001b[0margs\u001b[0m\u001b[1;33m,\u001b[0m\u001b[1;33m\u001b[0m\u001b[0m\n\u001b[0;32m    451\u001b[0m                 \u001b[0mself\u001b[0m\u001b[1;33m.\u001b[0m\u001b[0mreturn_type\u001b[0m\u001b[1;33m,\u001b[0m\u001b[1;33m\u001b[0m\u001b[0m\n\u001b[1;32m--> 452\u001b[1;33m                 self.locals)\n\u001b[0m\u001b[0;32m    453\u001b[0m \u001b[1;33m\u001b[0m\u001b[0m\n\u001b[0;32m    454\u001b[0m         with self.fallback_context('Function \"%s\" has invalid return type'\n",
      "\u001b[1;32mC:\\Anaconda\\lib\\site-packages\\numba\\compiler.py\u001b[0m in \u001b[0;36mtype_inference_stage\u001b[1;34m(typingctx, interp, args, return_type, locals)\u001b[0m\n\u001b[0;32m    859\u001b[0m \u001b[1;33m\u001b[0m\u001b[0m\n\u001b[0;32m    860\u001b[0m         \u001b[1;31m# Seed local types\u001b[0m\u001b[1;33m\u001b[0m\u001b[1;33m\u001b[0m\u001b[0m\n\u001b[1;32m--> 861\u001b[1;33m         \u001b[1;32mfor\u001b[0m \u001b[0mk\u001b[0m\u001b[1;33m,\u001b[0m \u001b[0mv\u001b[0m \u001b[1;32min\u001b[0m \u001b[0mlocals\u001b[0m\u001b[1;33m.\u001b[0m\u001b[0mitems\u001b[0m\u001b[1;33m(\u001b[0m\u001b[1;33m)\u001b[0m\u001b[1;33m:\u001b[0m\u001b[1;33m\u001b[0m\u001b[0m\n\u001b[0m\u001b[0;32m    862\u001b[0m             \u001b[0minfer\u001b[0m\u001b[1;33m.\u001b[0m\u001b[0mseed_type\u001b[0m\u001b[1;33m(\u001b[0m\u001b[0mk\u001b[0m\u001b[1;33m,\u001b[0m \u001b[0mv\u001b[0m\u001b[1;33m)\u001b[0m\u001b[1;33m\u001b[0m\u001b[0m\n\u001b[0;32m    863\u001b[0m \u001b[1;33m\u001b[0m\u001b[0m\n",
      "\u001b[1;31mAttributeError\u001b[0m: Failed at nopython (nopython frontend)\n'Signature' object has no attribute 'items'"
     ]
    }
   ],
   "source": [
    "%%time\n",
    "U, S, VT = svd(X)"
   ]
  },
  {
   "cell_type": "code",
   "execution_count": 119,
   "metadata": {
    "scrolled": false
   },
   "outputs": [],
   "source": [
    "@jit(nopython = True, fastmath = True)\n",
    "def numpy_svd(X):\n",
    "    return np.linalg.svd(X, full_matrices = False)\n",
    "\n",
    "@njit(signature_or_function = float32[:](matrix32, float32[:]), fastmath = True)\n",
    "def numpy_solve_float32_float32(X, y):\n",
    "    theta_hat, __, __, __ = np.linalg.lstsq(X, y)\n",
    "    return theta_hat\n",
    "    \n",
    "@jit(fastmath = True)\n",
    "def scipy_solve(X, y):\n",
    "    return _STABLE_LSTSQ(X, y, check_finite = False)\n",
    "\n",
    "@njit(signature_or_function = float32[:](matrix32, float32[:]), fastmath = True, nogil = True)\n",
    "def svd_solve_float32_float32(X, y):\n",
    "    U, S, VT = np.linalg.svd(X, full_matrices = False)\n",
    "    S[ S < np.finfo(X.dtype).eps*S[0] ] = 0\n",
    "    VT *= np.divide(1, S).reshape(-1,1)\n",
    "    theta_hat = VT.T.dot(U.T.dot(y))\n",
    "    return theta_hat\n",
    "\n",
    "@njit(  Tuple((matrix32, float32[:], matrix32))  (matrix32)  , fastmath = True)\n",
    "def FastSVD(X):\n",
    "    U, S, VT = np.linalg.svd(X, full_matrices = False)\n",
    "    S[ S < np.finfo(X.dtype).eps*S[0] ] = 0\n",
    "    return U, S, VT\n",
    "\n",
    "@njit(  Tuple((matrix32, matrix32))  (matrix32)  , fastmath = True)\n",
    "def FastQR(X):\n",
    "    Q, R = np.linalg.qr(X)\n",
    "    return Q, R\n",
    "\n",
    "\n",
    "def svd_solve(X, y):\n",
    "    return svd_solve_float32_float32(X, y.astype(np.float32).ravel())\n",
    "\n",
    "def np_solve(X, y):\n",
    "    return numpy_solve_float32_float32(X, y.astype(np.float32).ravel())\n",
    "\n",
    "@jit(fastmath = True)\n",
    "def scipy_svd_solve(X, y):\n",
    "    y = y.astype(X.dtype)\n",
    "    U, S, VT = sci.linalg.svd(X, full_matrices = False, check_finite = False)\n",
    "    S[ S < np.finfo(X.dtype).eps*S[0] ] = 0\n",
    "    VT *= np.divide(1, S).reshape(-1,1)\n",
    "    theta_hat = VT.T.dot(U.T.dot(y))\n",
    "    return theta_hat\n",
    "\n",
    "@jit(fastmath = True)\n",
    "def scipy_svd(X):\n",
    "    return _STABLE_SVD(X, check_finite = False, full_matrices = False)\n",
    "\n",
    "@jit(fastmath = True)\n",
    "def scipy_qr(X):\n",
    "    return _STABLE_QR(X, check_finite = False, full_matrices = False)\n",
    "\n",
    "@jit(nopython = True, fastmath = True)\n",
    "def numpy_qr(X):\n",
    "    return np.linalg.qr(X, full_matrices = False)"
   ]
  },
  {
   "cell_type": "code",
   "execution_count": 56,
   "metadata": {
    "scrolled": true
   },
   "outputs": [
    {
     "data": {
      "text/plain": [
       "array(float32, 2d, C)"
      ]
     },
     "execution_count": 56,
     "metadata": {},
     "output_type": "execute_result"
    }
   ],
   "source": [
    "numba.typeof(np.linalg.pinv(X[:100]))"
   ]
  },
  {
   "cell_type": "code",
   "execution_count": 51,
   "metadata": {},
   "outputs": [
    {
     "data": {
      "text/plain": [
       "(array(float32, 2d, C), array(float32, 1d, C), array(float32, 2d, C))"
      ]
     },
     "execution_count": 51,
     "metadata": {},
     "output_type": "execute_result"
    }
   ],
   "source": [
    "numba.typeof(np.linalg.svd(X[:100]))"
   ]
  },
  {
   "cell_type": "code",
   "execution_count": 47,
   "metadata": {},
   "outputs": [],
   "source": [
    "import numba"
   ]
  },
  {
   "cell_type": "code",
   "execution_count": 98,
   "metadata": {},
   "outputs": [],
   "source": [
    "from sklearn.linear_model import LinearRegression\n",
    "\n",
    "model = LinearRegression(fit_intercept = False, n_jobs = -1, normalize = False)"
   ]
  },
  {
   "cell_type": "code",
   "execution_count": 99,
   "metadata": {},
   "outputs": [
    {
     "name": "stdout",
     "output_type": "stream",
     "text": [
      "Wall time: 1.51 s\n"
     ]
    },
    {
     "data": {
      "text/plain": [
       "LinearRegression(copy_X=True, fit_intercept=False, n_jobs=-1, normalize=False)"
      ]
     },
     "execution_count": 99,
     "metadata": {},
     "output_type": "execute_result"
    }
   ],
   "source": [
    "%%time\n",
    "model.fit(X, y)"
   ]
  },
  {
   "cell_type": "code",
   "execution_count": 89,
   "metadata": {},
   "outputs": [
    {
     "name": "stdout",
     "output_type": "stream",
     "text": [
      "Wall time: 1.31 s\n"
     ]
    }
   ],
   "source": [
    "%%time\n",
    "t = svd_solve(X, y)"
   ]
  },
  {
   "cell_type": "code",
   "execution_count": 38,
   "metadata": {},
   "outputs": [
    {
     "name": "stdout",
     "output_type": "stream",
     "text": [
      "Wall time: 5.27 s\n"
     ]
    }
   ],
   "source": [
    "%%time\n",
    "t = _STABLE_LSTSQ(X, y, check_finite = False)"
   ]
  },
  {
   "cell_type": "code",
   "execution_count": 66,
   "metadata": {},
   "outputs": [
    {
     "ename": "TypeError",
     "evalue": "No matching definition for argument type(s) array(float32, 2d, C), array(int32, 1d, C)",
     "output_type": "error",
     "traceback": [
      "\u001b[1;31m---------------------------------------------------------------------------\u001b[0m",
      "\u001b[1;31mTypeError\u001b[0m                                 Traceback (most recent call last)",
      "\u001b[1;32m<timed exec>\u001b[0m in \u001b[0;36m<module>\u001b[1;34m()\u001b[0m\n",
      "\u001b[1;32m~\\Anaconda3\\lib\\site-packages\\numba\\dispatcher.py\u001b[0m in \u001b[0;36m_explain_matching_error\u001b[1;34m(self, *args, **kws)\u001b[0m\n\u001b[0;32m    462\u001b[0m         msg = (\"No matching definition for argument type(s) %s\"\n\u001b[0;32m    463\u001b[0m                % ', '.join(map(str, args)))\n\u001b[1;32m--> 464\u001b[1;33m         \u001b[1;32mraise\u001b[0m \u001b[0mTypeError\u001b[0m\u001b[1;33m(\u001b[0m\u001b[0mmsg\u001b[0m\u001b[1;33m)\u001b[0m\u001b[1;33m\u001b[0m\u001b[0m\n\u001b[0m\u001b[0;32m    465\u001b[0m \u001b[1;33m\u001b[0m\u001b[0m\n\u001b[0;32m    466\u001b[0m     \u001b[1;32mdef\u001b[0m \u001b[0m_search_new_conversions\u001b[0m\u001b[1;33m(\u001b[0m\u001b[0mself\u001b[0m\u001b[1;33m,\u001b[0m \u001b[1;33m*\u001b[0m\u001b[0margs\u001b[0m\u001b[1;33m,\u001b[0m \u001b[1;33m**\u001b[0m\u001b[0mkws\u001b[0m\u001b[1;33m)\u001b[0m\u001b[1;33m:\u001b[0m\u001b[1;33m\u001b[0m\u001b[0m\n",
      "\u001b[1;31mTypeError\u001b[0m: No matching definition for argument type(s) array(float32, 2d, C), array(int32, 1d, C)"
     ]
    }
   ],
   "source": [
    "%%time\n",
    "t = numpy_svd_solve(X, y)"
   ]
  },
  {
   "cell_type": "code",
   "execution_count": 52,
   "metadata": {},
   "outputs": [
    {
     "data": {
      "text/plain": [
       "array([ 0.37609762,  0.6849389 ,  0.490368  , -0.33477485,  0.6344189 ,\n",
       "        0.0812725 ,  0.4126636 ,  0.9172979 ,  0.39229828,  0.69564456,\n",
       "        0.25125992,  0.9819958 ,  0.48106527,  0.18152371,  0.8634224 ,\n",
       "        0.67742884,  0.46907997,  0.17744243,  0.94744706,  0.37765136,\n",
       "        0.6825141 ,  0.64447606,  0.41241986,  0.7559644 ,  0.22906035,\n",
       "        0.27052814,  0.7066679 ,  0.82441086,  0.13688394,  0.08443773,\n",
       "        0.5466825 ,  0.6709138 ,  0.04828939,  0.3239796 ,  0.12384185,\n",
       "        0.28528306,  0.04094988,  0.9517988 ,  0.47516128,  0.54408145,\n",
       "        0.73381335,  0.6551062 ,  0.2120508 ,  0.60940856,  0.9696851 ,\n",
       "        0.83221614,  0.29709738,  0.5139408 ,  0.7273946 ,  0.68955237,\n",
       "        0.5749271 ,  0.7917341 ,  0.41279525,  0.2309106 ,  0.8165032 ,\n",
       "        0.4643569 ,  0.42354813,  0.44946468,  0.89597034,  0.77430207,\n",
       "        0.9573589 ,  0.5155712 ,  0.1135404 ,  0.8872491 ,  0.16153115,\n",
       "        0.30512428,  0.30776763,  0.36638713,  0.6178235 ,  0.1983822 ,\n",
       "        0.6591311 ,  0.8122833 ,  0.69936424,  0.6855801 ,  0.23182796,\n",
       "        0.7426706 ,  0.2909624 ,  0.99010193,  0.4561261 ,  0.94499314,\n",
       "        0.10760856,  0.18945652,  0.6968248 ,  0.6340617 ,  0.922202  ,\n",
       "        0.75961137,  0.11724845,  0.11503983,  0.8768319 ,  0.73127097,\n",
       "        0.6922737 ,  0.69893825,  0.8464673 ,  0.02777332,  0.46059847,\n",
       "        0.23919532,  0.11212862,  0.4786078 ,  0.16421548,  0.8791549 ],\n",
       "      dtype=float32)"
      ]
     },
     "execution_count": 52,
     "metadata": {},
     "output_type": "execute_result"
    }
   ],
   "source": [
    "t"
   ]
  },
  {
   "cell_type": "code",
   "execution_count": 49,
   "metadata": {
    "scrolled": false
   },
   "outputs": [
    {
     "name": "stdout",
     "output_type": "stream",
     "text": [
      "Help on function jit in module numba.decorators:\n",
      "\n",
      "jit(signature_or_function=None, locals={}, target='cpu', cache=False, pipeline_class=None, **options)\n",
      "    This decorator is used to compile a Python function into native code.\n",
      "    \n",
      "    Args\n",
      "    -----\n",
      "    signature:\n",
      "        The (optional) signature or list of signatures to be compiled.\n",
      "        If not passed, required signatures will be compiled when the\n",
      "        decorated function is called, depending on the argument values.\n",
      "        As a convenience, you can directly pass the function to be compiled\n",
      "        instead.\n",
      "    \n",
      "    locals: dict\n",
      "        Mapping of local variable names to Numba types. Used to override the\n",
      "        types deduced by Numba's type inference engine.\n",
      "    \n",
      "    target: str\n",
      "        Specifies the target platform to compile for. Valid targets are cpu,\n",
      "        gpu, npyufunc, and cuda. Defaults to cpu.\n",
      "    \n",
      "    pipeline_class: type numba.compiler.BasePipeline\n",
      "            The compiler pipeline type for customizing the compilation stages.\n",
      "    \n",
      "    options:\n",
      "        For a cpu target, valid options are:\n",
      "            nopython: bool\n",
      "                Set to True to disable the use of PyObjects and Python API\n",
      "                calls. The default behavior is to allow the use of PyObjects\n",
      "                and Python API. Default value is False.\n",
      "    \n",
      "            forceobj: bool\n",
      "                Set to True to force the use of PyObjects for every value.\n",
      "                Default value is False.\n",
      "    \n",
      "            looplift: bool\n",
      "                Set to True to enable jitting loops in nopython mode while\n",
      "                leaving surrounding code in object mode. This allows functions\n",
      "                to allocate NumPy arrays and use Python objects, while the\n",
      "                tight loops in the function can still be compiled in nopython\n",
      "                mode. Any arrays that the tight loop uses should be created\n",
      "                before the loop is entered. Default value is True.\n",
      "    \n",
      "            error_model: str\n",
      "                The error-model affects divide-by-zero behavior.\n",
      "                Valid values are 'python' and 'numpy'. The 'python' model\n",
      "                raises exception.  The 'numpy' model sets the result to\n",
      "                *+/-inf* or *nan*. Default value is 'python'.\n",
      "    \n",
      "    Returns\n",
      "    --------\n",
      "    A callable usable as a compiled function.  Actual compiling will be\n",
      "    done lazily if no explicit signatures are passed.\n",
      "    \n",
      "    Examples\n",
      "    --------\n",
      "    The function can be used in the following ways:\n",
      "    \n",
      "    1) jit(signatures, target='cpu', **targetoptions) -> jit(function)\n",
      "    \n",
      "        Equivalent to:\n",
      "    \n",
      "            d = dispatcher(function, targetoptions)\n",
      "            for signature in signatures:\n",
      "                d.compile(signature)\n",
      "    \n",
      "        Create a dispatcher object for a python function.  Then, compile\n",
      "        the function with the given signature(s).\n",
      "    \n",
      "        Example:\n",
      "    \n",
      "            @jit(\"int32(int32, int32)\")\n",
      "            def foo(x, y):\n",
      "                return x + y\n",
      "    \n",
      "            @jit([\"int32(int32, int32)\", \"float32(float32, float32)\"])\n",
      "            def bar(x, y):\n",
      "                return x + y\n",
      "    \n",
      "    2) jit(function, target='cpu', **targetoptions) -> dispatcher\n",
      "    \n",
      "        Create a dispatcher function object that specializes at call site.\n",
      "    \n",
      "        Examples:\n",
      "    \n",
      "            @jit\n",
      "            def foo(x, y):\n",
      "                return x + y\n",
      "    \n",
      "            @jit(target='cpu', nopython=True)\n",
      "            def bar(x, y):\n",
      "                return x + y\n",
      "\n"
     ]
    }
   ],
   "source": [
    "help(jit)"
   ]
  },
  {
   "cell_type": "code",
   "execution_count": 46,
   "metadata": {
    "scrolled": false
   },
   "outputs": [
    {
     "name": "stdout",
     "output_type": "stream",
     "text": [
      "numpy_svd_solve (array(float32, 2d, C), array(int32, 1d, C))\n",
      "--------------------------------------------------------------------------------\n",
      "# File: <ipython-input-41-6e32ca82cfd2>\n",
      "# --- LINE 14 --- \n",
      "# label 0\n",
      "\n",
      "@njit(fastmath = True)\n",
      "\n",
      "# --- LINE 15 --- \n",
      "\n",
      "def numpy_svd_solve(X, y):\n",
      "\n",
      "    # --- LINE 16 --- \n",
      "    #   X = arg(0, name=X)  :: array(float32, 2d, C)\n",
      "    #   y = arg(1, name=y)  :: array(int32, 1d, C)\n",
      "    #   $0.2 = getattr(value=y, attr=astype)  :: BoundFunction(array.astype for array(int32, 1d, C))\n",
      "    #   del y\n",
      "    #   $0.4 = getattr(value=X, attr=dtype)  :: dtype(float32)\n",
      "    #   $0.5 = call $0.2($0.4, func=$0.2, args=[Var($0.4, <ipython-input-41-6e32ca82cfd2> (16))], kws=(), vararg=None)  :: (dtype(float32),) -> array(float32, 1d, C)\n",
      "    #   del $0.4\n",
      "    #   del $0.2\n",
      "    #   y.1 = $0.5  :: array(float32, 1d, C)\n",
      "    #   del $0.5\n",
      "\n",
      "    y = y.astype(X.dtype)\n",
      "\n",
      "    # --- LINE 17 --- \n",
      "    #   $0.6 = global(np: <module 'numpy' from 'C:\\\\Users\\\\danie\\\\Anaconda3\\\\lib\\\\site-packages\\\\numpy\\\\__init__.py'>)  :: Module(<module 'numpy' from 'C:\\\\Users\\\\danie\\\\Anaconda3\\\\lib\\\\site-packages\\\\numpy\\\\__init__.py'>)\n",
      "    #   $0.7 = getattr(value=$0.6, attr=linalg)  :: Module(<module 'numpy.linalg' from 'C:\\\\Users\\\\danie\\\\Anaconda3\\\\lib\\\\site-packages\\\\numpy\\\\linalg\\\\__init__.py'>)\n",
      "    #   del $0.6\n",
      "    #   $0.8 = getattr(value=$0.7, attr=svd)  :: Function(<function svd at 0x000001F682A3F510>)\n",
      "    #   del $0.7\n",
      "    #   $const0.10 = const(bool, False)  :: bool\n",
      "    #   $0.12 = call $0.8(X, func=$0.8, args=[Var(X, <ipython-input-41-6e32ca82cfd2> (16))], kws=[('full_matrices', Var($const0.10, <ipython-input-41-6e32ca82cfd2> (17)))], vararg=None)  :: (array(float32, 2d, C), bool) -> (array(float32, 2d, F), array(float32, 1d, C), array(float32, 2d, F))\n",
      "    #   del $const0.10\n",
      "    #   del $0.8\n",
      "    #   $0.16 = exhaust_iter(value=$0.12, count=3)  :: (array(float32, 2d, F), array(float32, 1d, C), array(float32, 2d, F))\n",
      "    #   del $0.12\n",
      "    #   $0.13 = static_getitem(value=$0.16, index=0, index_var=None)  :: array(float32, 2d, F)\n",
      "    #   $0.14 = static_getitem(value=$0.16, index=1, index_var=None)  :: array(float32, 1d, C)\n",
      "    #   $0.15 = static_getitem(value=$0.16, index=2, index_var=None)  :: array(float32, 2d, F)\n",
      "    #   del $0.16\n",
      "    #   U = $0.13  :: array(float32, 2d, F)\n",
      "    #   del $0.13\n",
      "    #   S = $0.14  :: array(float32, 1d, C)\n",
      "    #   del $0.14\n",
      "    #   VT = $0.15  :: array(float32, 2d, F)\n",
      "    #   del $0.15\n",
      "\n",
      "    U, S, VT = np.linalg.svd(X, full_matrices = False)\n",
      "\n",
      "    # --- LINE 18 --- \n",
      "    #   $const0.17 = const(int, 0)  :: int64\n",
      "    #   $0.20 = global(np: <module 'numpy' from 'C:\\\\Users\\\\danie\\\\Anaconda3\\\\lib\\\\site-packages\\\\numpy\\\\__init__.py'>)  :: Module(<module 'numpy' from 'C:\\\\Users\\\\danie\\\\Anaconda3\\\\lib\\\\site-packages\\\\numpy\\\\__init__.py'>)\n",
      "    #   $0.21 = getattr(value=$0.20, attr=finfo)  :: Function(<class 'numpy.core.getlimits.finfo'>)\n",
      "    #   del $0.20\n",
      "    #   $0.23 = getattr(value=X, attr=dtype)  :: dtype(float32)\n",
      "    #   del X\n",
      "    #   $0.24 = call $0.21($0.23, func=$0.21, args=[Var($0.23, <ipython-input-41-6e32ca82cfd2> (18))], kws=(), vararg=None)  :: (dtype(float32),) -> finfo(int64, float32, float32, int64, int64, float32, int64, float32, int64, int64, int64, int64, int64, float32, float32)\n",
      "    #   del $0.23\n",
      "    #   del $0.21\n",
      "    #   $0.25 = getattr(value=$0.24, attr=eps)  :: float32\n",
      "    #   del $0.24\n",
      "    #   $const0.27 = const(int, 0)  :: int64\n",
      "    #   $0.28 = static_getitem(value=S, index=0, index_var=$const0.27)  :: float32\n",
      "    #   del $const0.27\n",
      "    #   $0.29 = $0.25 * $0.28  :: float32\n",
      "    #   del $0.28\n",
      "    #   del $0.25\n",
      "    #   $0.30 = arrayexpr(expr=('<', [Var(S, <ipython-input-41-6e32ca82cfd2> (17)), Var($0.29, <ipython-input-41-6e32ca82cfd2> (18))]), ty=array(bool, 1d, C))  :: array(bool, 1d, C)\n",
      "    #   del $0.29\n",
      "    #   S[$0.30] = $const0.17  :: (array(float32, 1d, C), array(bool, 1d, C), float32) -> none\n",
      "    #   del $const0.17\n",
      "    #   del $0.30\n",
      "\n",
      "    S[ S < np.finfo(X.dtype).eps*S[0] ] = 0\n",
      "\n",
      "    # --- LINE 19 --- \n",
      "    #   $0.32 = global(np: <module 'numpy' from 'C:\\\\Users\\\\danie\\\\Anaconda3\\\\lib\\\\site-packages\\\\numpy\\\\__init__.py'>)  :: Module(<module 'numpy' from 'C:\\\\Users\\\\danie\\\\Anaconda3\\\\lib\\\\site-packages\\\\numpy\\\\__init__.py'>)\n",
      "    #   $0.33 = getattr(value=$0.32, attr=divide)  :: Function(<ufunc 'true_divide'>)\n",
      "    #   del $0.32\n",
      "    #   $const0.34 = const(int, 1)  :: int64\n",
      "    #   $0.36 = arrayexpr(expr=(<ufunc 'true_divide'>, [const(int, 1), Var(S, <ipython-input-41-6e32ca82cfd2> (17))]), ty=array(float32, 1d, C))  :: array(float32, 1d, C)\n",
      "    #   del S\n",
      "    #   del $const0.34\n",
      "    #   del $0.33\n",
      "    #   $0.37 = getattr(value=$0.36, attr=reshape)  :: BoundFunction(array.reshape for array(float32, 1d, C))\n",
      "    #   del $0.36\n",
      "    #   $const0.38 = const(int, -1)  :: int64\n",
      "    #   $const0.39 = const(int, 1)  :: int64\n",
      "    #   $0.40 = call $0.37($const0.38, $const0.39, func=$0.37, args=[Var($const0.38, <ipython-input-41-6e32ca82cfd2> (19)), Var($const0.39, <ipython-input-41-6e32ca82cfd2> (19))], kws=(), vararg=None)  :: (int64, int64) -> array(float32, 2d, C)\n",
      "    #   del $const0.39\n",
      "    #   del $const0.38\n",
      "    #   del $0.37\n",
      "    #   $0.41 = inplace_binop(fn=*=, immutable_fn=*, lhs=VT, rhs=$0.40, static_lhs=<object object at 0x000001F6812B3D50>, static_rhs=<object object at 0x000001F6812B3D50>)  :: array(float32, 2d, F)\n",
      "    #   del VT\n",
      "    #   del $0.40\n",
      "    #   VT.1 = $0.41  :: array(float32, 2d, F)\n",
      "    #   del $0.41\n",
      "\n",
      "    VT *= np.divide(1, S).reshape(-1,1)\n",
      "\n",
      "    # --- LINE 20 --- \n",
      "    #   $0.43 = getattr(value=VT.1, attr=T)  :: array(float32, 2d, C)\n",
      "    #   del VT.1\n",
      "    #   $0.44 = getattr(value=$0.43, attr=dot)  :: BoundFunction((<class 'numba.types.npytypes.Array'>, 'dot') for array(float32, 2d, C))\n",
      "    #   del $0.43\n",
      "    #   $0.46 = getattr(value=U, attr=T)  :: array(float32, 2d, C)\n",
      "    #   del U\n",
      "    #   $0.47 = getattr(value=$0.46, attr=dot)  :: BoundFunction((<class 'numba.types.npytypes.Array'>, 'dot') for array(float32, 2d, C))\n",
      "    #   del $0.46\n",
      "    #   $0.49 = call $0.47(y.1, func=$0.47, args=[Var(y.1, <ipython-input-41-6e32ca82cfd2> (16))], kws=(), vararg=None)  :: (array(float32, 1d, C),) -> array(float32, 1d, C)\n",
      "    #   del y.1\n",
      "    #   del $0.47\n",
      "    #   $0.50 = call $0.44($0.49, func=$0.44, args=[Var($0.49, <ipython-input-41-6e32ca82cfd2> (20))], kws=(), vararg=None)  :: (array(float32, 1d, C),) -> array(float32, 1d, C)\n",
      "    #   del $0.49\n",
      "    #   del $0.44\n",
      "    #   theta_hat = $0.50  :: array(float32, 1d, C)\n",
      "    #   del $0.50\n",
      "\n",
      "    theta_hat = VT.T.dot(U.T.dot(y))\n",
      "\n",
      "    # --- LINE 21 --- \n",
      "    #   $0.52 = cast(value=theta_hat)  :: array(float32, 1d, C)\n",
      "    #   del theta_hat\n",
      "    #   return $0.52\n",
      "\n",
      "    return theta_hat\n",
      "\n",
      "\n",
      "================================================================================\n"
     ]
    }
   ],
   "source": [
    "numpy_svd_solve.inspect_types()"
   ]
  },
  {
   "cell_type": "code",
   "execution_count": 8,
   "metadata": {},
   "outputs": [
    {
     "name": "stdout",
     "output_type": "stream",
     "text": [
      "Wall time: 24.5 s\n"
     ]
    }
   ],
   "source": [
    "%%time\n",
    "t = scipy_svd_solve(X, y)"
   ]
  },
  {
   "cell_type": "code",
   "execution_count": 7,
   "metadata": {},
   "outputs": [
    {
     "name": "stdout",
     "output_type": "stream",
     "text": [
      "Wall time: 4.18 s\n"
     ]
    }
   ],
   "source": [
    "%%time\n",
    "U, S, VT = numpy_svd(X); U = S = VT = None; gc.collect();"
   ]
  },
  {
   "cell_type": "code",
   "execution_count": null,
   "metadata": {},
   "outputs": [],
   "source": [
    "%%time\n"
   ]
  },
  {
   "cell_type": "code",
   "execution_count": 6,
   "metadata": {},
   "outputs": [
    {
     "name": "stdout",
     "output_type": "stream",
     "text": [
      "Wall time: 4.81 s\n"
     ]
    }
   ],
   "source": [
    "%%time\n",
    "U, S, VT = scipy_svd(X); U = S = VT = None; gc.collect();"
   ]
  },
  {
   "cell_type": "code",
   "execution_count": 4,
   "metadata": {},
   "outputs": [
    {
     "name": "stdout",
     "output_type": "stream",
     "text": [
      "Wall time: 4.51 s\n"
     ]
    }
   ],
   "source": [
    "%%time\n",
    "U, S, VT = _STABLE_SVD(X, check_finite = False, full_matrices = False); U = S = VT = None; gc.collect();"
   ]
  },
  {
   "cell_type": "code",
   "execution_count": 5,
   "metadata": {},
   "outputs": [
    {
     "name": "stdout",
     "output_type": "stream",
     "text": [
      "Wall time: 10.2 s\n"
     ]
    }
   ],
   "source": [
    "%%time\n",
    "U, S, VT = np.linalg.svd(X, full_matrices = False); U = S = VT = None; gc.collect();"
   ]
  },
  {
   "cell_type": "code",
   "execution_count": 3,
   "metadata": {},
   "outputs": [
    {
     "name": "stdout",
     "output_type": "stream",
     "text": [
      "32.02313 ms ± 338.6694 µs per loop (mean ± std. dev. of 7 runs, 5 loops each)\n"
     ]
    },
    {
     "data": {
      "text/plain": [
       "0.032023133720934564"
      ]
     },
     "execution_count": 3,
     "metadata": {},
     "output_type": "execute_result"
    }
   ],
   "source": [
    "from copy import deepcopy\n",
    "t = deepcopy(X)\n",
    "gc_base = %timeit -o -n5 -r7 -p7   t = None; gc.collect();\n",
    "gc_base = np.mean(gc_base.timings)\n",
    "gc_base"
   ]
  },
  {
   "cell_type": "code",
   "execution_count": 4,
   "metadata": {},
   "outputs": [
    {
     "name": "stdout",
     "output_type": "stream",
     "text": [
      "741.7615 ms ± 1.351908 ms per loop (mean ± std. dev. of 3 runs, 1 loop each)\n",
      "peak memory: 117.95 MiB, increment: 0.02 MiB\n",
      "peak memory: 139.69 MiB, increment: 21.74 MiB\n",
      "21.73828125\n"
     ]
    }
   ],
   "source": [
    "x = %timeit -n1 -r3 -o -p7 U, S, VT = _STABLE_SVD(X, full_matrices = False, check_finite = False); U = S = VT = None; gc.collect();\n",
    "x.timings = np.array(x.timings)-gc_base\n",
    "results.append(np.mean(x.timings))\n",
    "results.append(np.std(x.timings))\n",
    "x = U = S = VT = None; gc.collect();\n",
    "\n",
    "base = %memit -r1 -t1 -i1 -o\n",
    "base = base.mem_usage[0]\n",
    "\n",
    "m = %memit -r1 -t1 -i1 -o   U, S, VT = _STABLE_SVD(X, full_matrices = False, check_finite = False); U = S = VT = None; gc.collect();\n",
    "results.append(m.mem_usage[0]-base); print(results[-1])\n",
    "m = U = S = VT = None; gc.collect();"
   ]
  },
  {
   "cell_type": "code",
   "execution_count": 5,
   "metadata": {},
   "outputs": [
    {
     "name": "stdout",
     "output_type": "stream",
     "text": [
      "31.80941 ms ± 1.598906 ms per loop (mean ± std. dev. of 3 runs, 1 loop each)\n"
     ]
    }
   ],
   "source": [
    "x = %timeit -n1 -r3 -o -p7      U, S, VT, i = _transpose_svd(X); U = S = VT = None; gc.collect();\n",
    "x.timings = np.array(x.timings)-gc_base\n",
    "U, S, VT, i = _transpose_svd(X); U = S = VT = None; gc.collect();\n",
    "if i == 0:\n",
    "    results += [np.nan, np.nan, np.nan, np.nan]\n",
    "else:\n",
    "    results.append(np.mean(x.timings))\n",
    "    results.append(np.std(x.timings))\n",
    "    \n",
    "    base = %memit -r1 -t1 -i1 -o\n",
    "    base = base.mem_usage[0]\n",
    "\n",
    "    m = %memit -r1 -t1 -i1 -o               U, S, VT, i = _transpose_svd(X); U = S = VT = None; gc.collect();\n",
    "    results.append(m.mem_usage[0]-base); print(results[-1])\n",
    "    m = base = U = S = VT = None; gc.collect();"
   ]
  },
  {
   "cell_type": "code",
   "execution_count": 6,
   "metadata": {
    "scrolled": true
   },
   "outputs": [
    {
     "name": "stdout",
     "output_type": "stream",
     "text": [
      "979.7919 ms ± 1.831457 ms per loop (mean ± std. dev. of 3 runs, 1 loop each)\n",
      "peak memory: 119.45 MiB, increment: 0.03 MiB\n",
      "peak memory: 148.78 MiB, increment: 29.33 MiB\n",
      "29.328125\n"
     ]
    }
   ],
   "source": [
    "x = %timeit -n1 -r3 -o -p7       U, S, VT = _fast_svd(X); U = S = VT = None; gc.collect();\n",
    "x.timings = np.array(x.timings)-gc_base\n",
    "results.append(np.mean(x.timings))\n",
    "results.append(np.std(x.timings))\n",
    "x = U = S = VT = None; gc.collect();\n",
    "\n",
    "base = %memit -r1 -t1 -i1 -o\n",
    "base = base.mem_usage[0]\n",
    "\n",
    "m = %memit -r1 -t1 -i1 -o               U, S, VT = _fast_svd(X); U = S = VT = None; gc.collect();\n",
    "results.append(m.mem_usage[0]-base); print(results[-1])\n",
    "m = base = U = S = VT = None; gc.collect();"
   ]
  },
  {
   "cell_type": "code",
   "execution_count": 7,
   "metadata": {},
   "outputs": [
    {
     "name": "stdout",
     "output_type": "stream",
     "text": [
      "250.285 ms ± 1.237761 ms per loop (mean ± std. dev. of 3 runs, 1 loop each)\n",
      "peak memory: 123.89 MiB, increment: 0.00 MiB\n",
      "peak memory: 135.34 MiB, increment: 11.45 MiB\n",
      "11.453125\n"
     ]
    }
   ],
   "source": [
    "x = %timeit -n1 -r3 -o -p7       Q, R, theta_hat = _fast_QR_solve(X, y);  Q = R = theta_hat = None; gc.collect();\n",
    "x.timings = np.array(x.timings)-gc_base\n",
    "results.append(np.mean(x.timings))\n",
    "results.append(np.std(x.timings))\n",
    "x = Q = R = theta_hat = None; gc.collect();\n",
    "\n",
    "base = %memit -r1 -t1 -i1 -o\n",
    "base = base.mem_usage[0]\n",
    "\n",
    "m = %memit -r1 -t1 -i1 -o               Q, R, theta_hat = _fast_QR_solve(X, y);  Q = R = None; gc.collect();\n",
    "results.append(m.mem_usage[0]-base); print(results[-1])\n",
    "results.append( np.square(y - X.dot(theta_hat)).sum() / n )\n",
    "m = theta_hat = None\n",
    "gc.collect();"
   ]
  },
  {
   "cell_type": "code",
   "execution_count": 8,
   "metadata": {},
   "outputs": [
    {
     "name": "stdout",
     "output_type": "stream",
     "text": [
      "678.877 ms ± 3.904436 ms per loop (mean ± std. dev. of 3 runs, 1 loop each)\n",
      "peak memory: 124.21 MiB, increment: -0.06 MiB\n",
      "peak memory: 131.85 MiB, increment: 7.64 MiB\n",
      "7.63671875\n"
     ]
    }
   ],
   "source": [
    "x = %timeit -n1 -r3 -o -p7       theta_hat = _STABLE_LSTSQ(X, y, check_finite = False)[0]; theta_hat = None; gc.collect();\n",
    "x.timings = np.array(x.timings)-gc_base\n",
    "results.append(np.mean(x.timings))\n",
    "results.append(np.std(x.timings))\n",
    "x = theta_hat = None; gc.collect();\n",
    "\n",
    "base = %memit -r1 -t1 -i1 -o\n",
    "base = base.mem_usage[0]\n",
    "\n",
    "m = %memit -r1 -t1 -i1 -o               theta_hat = _STABLE_LSTSQ(X, y, check_finite = False)[0]; gc.collect();\n",
    "results.append(m.mem_usage[0]-base); print(results[-1])\n",
    "results.append( np.square(y - X.dot(theta_hat)).sum() / n )\n",
    "m = theta_hat = None; gc.collect();"
   ]
  },
  {
   "cell_type": "code",
   "execution_count": 9,
   "metadata": {},
   "outputs": [
    {
     "name": "stdout",
     "output_type": "stream",
     "text": [
      "752.7342 ms ± 3.848582 ms per loop (mean ± std. dev. of 3 runs, 1 loop each)\n",
      "peak memory: 124.25 MiB, increment: 0.00 MiB\n",
      "peak memory: 145.92 MiB, increment: 21.68 MiB\n",
      "21.67578125\n"
     ]
    }
   ],
   "source": [
    "x = %timeit -n1 -r3 -o -p7       theta_hat = _svd_solve(X, y); theta_hat = None; gc.collect();\n",
    "x.timings = np.array(x.timings)-gc_base\n",
    "results.append(np.mean(x.timings))\n",
    "results.append(np.std(x.timings))\n",
    "x = theta_hat = None; gc.collect();\n",
    "\n",
    "base = %memit -r1 -t1 -i1 -o\n",
    "base = base.mem_usage[0]\n",
    "\n",
    "m = %memit -r1 -t1 -i1 -o               theta_hat = _svd_solve(X, y); gc.collect();\n",
    "results.append(m.mem_usage[0]-base); print(results[-1])\n",
    "results.append( np.square(y - X.dot(theta_hat)).sum() / n )\n",
    "m = theta_hat = None; gc.collect();"
   ]
  },
  {
   "cell_type": "code",
   "execution_count": 10,
   "metadata": {},
   "outputs": [
    {
     "name": "stdout",
     "output_type": "stream",
     "text": [
      "728.1642 ms ± 2.185719 ms per loop (mean ± std. dev. of 3 runs, 1 loop each)\n",
      "peak memory: 136.06 MiB, increment: 0.00 MiB\n",
      "peak memory: 163.12 MiB, increment: 27.06 MiB\n",
      "27.0625\n"
     ]
    }
   ],
   "source": [
    "Q, R = _STABLE_QR(X, check_finite = False, mode = 'economic')\n",
    "XTX = X.T.dot(X)\n",
    "\n",
    "x = %timeit -n1 -r3 -o -p7       _XTX, h = _qr_stats(Q, R); _XTX = h = None; gc.collect();\n",
    "x.timings = np.array(x.timings)-gc_base\n",
    "results.append(np.mean(x.timings))\n",
    "results.append(np.std(x.timings))\n",
    "x = _XTX = h = None; gc.collect();\n",
    "\n",
    "base = %memit -r1 -t1 -i1 -o\n",
    "base = base.mem_usage[0]\n",
    "\n",
    "m = %memit -r1 -t1 -i1 -o               _XTX, h = _qr_stats(Q, R)\n",
    "results.append(m.mem_usage[0]-base); print(results[-1])\n",
    "results.append( _XTX.dot(XTX).round(3).sum() )\n",
    "results.append( h.sum() )\n",
    "_XTX = h = None\n",
    "gc.collect();\n",
    "\n",
    "Q = R = None\n",
    "gc.collect();"
   ]
  },
  {
   "cell_type": "code",
   "execution_count": 11,
   "metadata": {},
   "outputs": [
    {
     "name": "stdout",
     "output_type": "stream",
     "text": [
      "55.36467 ms ± 262.4967 µs per loop (mean ± std. dev. of 3 runs, 1 loop each)\n",
      "peak memory: 136.08 MiB, increment: 0.00 MiB\n",
      "peak memory: 147.53 MiB, increment: 11.45 MiB\n",
      "11.44921875\n"
     ]
    }
   ],
   "source": [
    "U, S, VT = _STABLE_SVD(X, full_matrices = False, check_finite = False);\n",
    "\n",
    "x = %timeit -n1 -r3 -o -p7      _XTX, h = _svd_stats(U, S, VT); _XTX = h = None; gc.collect();\n",
    "x.timings = np.array(x.timings)-gc_base\n",
    "results.append(np.mean(x.timings))\n",
    "results.append(np.std(x.timings))\n",
    "x = _XTX = h = None; gc.collect();\n",
    "\n",
    "base = %memit -r1 -t1 -i1 -o\n",
    "base = base.mem_usage[0]\n",
    "\n",
    "m = %memit -r1 -t1 -i1 -o              _XTX, h = _svd_stats(U, S, VT)\n",
    "results.append(m.mem_usage[0]-base); print(results[-1])\n",
    "results.append( _XTX.dot(XTX).round(3).sum() )\n",
    "results.append( h.sum() )\n",
    "_XTX = h = None\n",
    "gc.collect();\n",
    "\n",
    "U = S = VT = None\n",
    "gc.collect();"
   ]
  },
  {
   "cell_type": "code",
   "execution_count": 12,
   "metadata": {},
   "outputs": [
    {
     "name": "stdout",
     "output_type": "stream",
     "text": [
      "1.468771 s ± 3.263069 ms per loop (mean ± std. dev. of 3 runs, 1 loop each)\n",
      "peak memory: 128.46 MiB, increment: 0.00 MiB\n",
      "peak memory: 159.32 MiB, increment: 30.87 MiB\n",
      "30.8671875\n",
      "Done\n"
     ]
    }
   ],
   "source": [
    "x = %timeit -n1 -r3 -o -p7      _XTX, h = _pinv_stats(X); _XTX = h = None; gc.collect();\n",
    "x.timings = np.array(x.timings)-gc_base\n",
    "results.append(np.mean(x.timings))\n",
    "results.append(np.std(x.timings))\n",
    "x = _XTX = h = None; gc.collect();\n",
    "\n",
    "base = %memit -r1 -t1 -i1 -o\n",
    "base = base.mem_usage[0]\n",
    "\n",
    "m = %memit -r1 -t1 -i1 -o              _XTX, h = _pinv_stats(X)\n",
    "results.append(m.mem_usage[0]-base); print(results[-1])\n",
    "results.append( _XTX.dot(XTX).round(3).sum() )\n",
    "results.append( h.sum() )\n",
    "_XTX = h = None\n",
    "gc.collect();\n",
    "\n",
    "\n",
    "x = pd.DataFrame(results).T\n",
    "x.to_csv(f'Timings/Timings{n}-{p}.csv', index = False)\n",
    "print('Done')"
   ]
  },
  {
   "cell_type": "code",
   "execution_count": 13,
   "metadata": {},
   "outputs": [
    {
     "data": {
      "text/plain": [
       "[1000,\n",
       " 1000,\n",
       " 0.7097384090280096,\n",
       " 0.0013519082102765659,\n",
       " 21.73828125,\n",
       " nan,\n",
       " nan,\n",
       " nan,\n",
       " nan,\n",
       " 0.9477687548335516,\n",
       " 0.0018314567863154264,\n",
       " 29.328125,\n",
       " 0.21826181964563218,\n",
       " 0.0012377605183208477,\n",
       " 11.453125,\n",
       " 1.1534714869698178e-08,\n",
       " 0.6468539037429971,\n",
       " 0.0039044356867185444,\n",
       " 7.63671875,\n",
       " 4.993456713435348e-26,\n",
       " 0.7207110720392094,\n",
       " 0.003848581824639269,\n",
       " 21.67578125,\n",
       " 1.9433296442342043e-08,\n",
       " 0.6961410313669739,\n",
       " 0.0021857188622617985,\n",
       " 27.0625,\n",
       " 998.18005,\n",
       " 1000.0,\n",
       " 0.023341531324330783,\n",
       " 0.0002624966674508946,\n",
       " 11.44921875,\n",
       " -4063.9167,\n",
       " 1000.0,\n",
       " 1.4367480150617398,\n",
       " 0.0032630688822259703,\n",
       " 30.8671875,\n",
       " 998.0572,\n",
       " 995.0]"
      ]
     },
     "execution_count": 13,
     "metadata": {},
     "output_type": "execute_result"
    }
   ],
   "source": [
    "results"
   ]
  }
 ],
 "metadata": {
  "kernelspec": {
   "display_name": "Python 3",
   "language": "python",
   "name": "python3"
  },
  "language_info": {
   "codemirror_mode": {
    "name": "ipython",
    "version": 3
   },
   "file_extension": ".py",
   "mimetype": "text/x-python",
   "name": "python",
   "nbconvert_exporter": "python",
   "pygments_lexer": "ipython3",
   "version": "3.6.6"
  }
 },
 "nbformat": 4,
 "nbformat_minor": 2
}
